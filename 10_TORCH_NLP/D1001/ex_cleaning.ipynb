{
 "cells": [
  {
   "cell_type": "markdown",
   "metadata": {},
   "source": [
    "#### 자연어 처리를 위한 전처리 \n",
    "- 정제 \n",
    "    * 토큰화 전후로 진행 됨\n",
    "    * 100% 제거는 어려움!!\n",
    "    * 불용어 제거, 빈도에 따른 제어, 길이에 따른 제거"
   ]
  },
  {
   "cell_type": "code",
   "execution_count": 1,
   "metadata": {},
   "outputs": [],
   "source": [
    "#### 모듈 로딩\n",
    "from nltk.corpus import stopwords\n",
    "from nltk.tokenize import word_tokenize"
   ]
  },
  {
   "cell_type": "code",
   "execution_count": 2,
   "metadata": {},
   "outputs": [
    {
     "name": "stdout",
     "output_type": "stream",
     "text": [
      "영어 불용어 : 179개\n",
      "i, me, my, myself, we, our, ours, ourselves, you, you're\n",
      "you've, you'll, you'd, your, yours, yourself, yourselves, he, him, his\n",
      "himself, she, she's, her, hers, herself, it, it's, its, itself\n",
      "they, them, their, theirs, themselves, what, which, who, whom, this\n",
      "that, that'll, these, those, am, is, are, was, were, be\n",
      "\n",
      "영어 불용어 : 180개\n"
     ]
    }
   ],
   "source": [
    "# NLTK 제공 영어 불용어 리스트 가져오기\n",
    "english_sW=stopwords.words('english')\n",
    "print(f'영어 불용어 : {len(english_sW)}개')\n",
    "\n",
    "for idx,_ in enumerate(english_sW[:50]):\n",
    "    print(_,end=', ' if (idx+1)%10 else '\\n' )\n",
    "\n",
    "print()\n",
    "# 커스텀 불용어 토크/단어 추가\n",
    "english_sW.append('not')\n",
    "print(f'영어 불용어 : {len(english_sW)}개')"
   ]
  },
  {
   "cell_type": "code",
   "execution_count": 3,
   "metadata": {},
   "outputs": [],
   "source": [
    "## 토큰에서 불용어 제거\n",
    "text= \"###Family is not an important! thing~. It's everything.\""
   ]
  },
  {
   "cell_type": "code",
   "execution_count": 4,
   "metadata": {},
   "outputs": [
    {
     "name": "stdout",
     "output_type": "stream",
     "text": [
      "punctuation - ! : ###Family is not an important thing~. It's everything.\n",
      "punctuation - \" : ###Family is not an important thing~. It's everything.\n",
      "punctuation - # : Family is not an important thing~. It's everything.\n",
      "punctuation - $ : Family is not an important thing~. It's everything.\n",
      "punctuation - % : Family is not an important thing~. It's everything.\n",
      "punctuation - & : Family is not an important thing~. It's everything.\n",
      "punctuation - ' : Family is not an important thing~. Its everything.\n",
      "punctuation - ( : Family is not an important thing~. Its everything.\n",
      "punctuation - ) : Family is not an important thing~. Its everything.\n",
      "punctuation - * : Family is not an important thing~. Its everything.\n",
      "punctuation - + : Family is not an important thing~. Its everything.\n",
      "punctuation - , : Family is not an important thing~. Its everything.\n",
      "punctuation - - : Family is not an important thing~. Its everything.\n",
      "punctuation - . : Family is not an important thing~ Its everything\n",
      "punctuation - / : Family is not an important thing~ Its everything\n",
      "punctuation - : : Family is not an important thing~ Its everything\n",
      "punctuation - ; : Family is not an important thing~ Its everything\n",
      "punctuation - < : Family is not an important thing~ Its everything\n",
      "punctuation - = : Family is not an important thing~ Its everything\n",
      "punctuation - > : Family is not an important thing~ Its everything\n",
      "punctuation - ? : Family is not an important thing~ Its everything\n",
      "punctuation - @ : Family is not an important thing~ Its everything\n",
      "punctuation - [ : Family is not an important thing~ Its everything\n",
      "punctuation - \\ : Family is not an important thing~ Its everything\n",
      "punctuation - ] : Family is not an important thing~ Its everything\n",
      "punctuation - ^ : Family is not an important thing~ Its everything\n",
      "punctuation - _ : Family is not an important thing~ Its everything\n",
      "punctuation - ` : Family is not an important thing~ Its everything\n",
      "punctuation - { : Family is not an important thing~ Its everything\n",
      "punctuation - | : Family is not an important thing~ Its everything\n",
      "punctuation - } : Family is not an important thing~ Its everything\n",
      "punctuation - ~ : Family is not an important thing Its everything\n"
     ]
    }
   ],
   "source": [
    "# 구두점 제거\n",
    "import string\n",
    "punct=string.punctuation\n",
    "\n",
    "for pun in punct:\n",
    "    \n",
    "    text=text.replace(pun,'')\n",
    "    print(f'punctuation - {pun} : {text}')"
   ]
  },
  {
   "cell_type": "code",
   "execution_count": 5,
   "metadata": {},
   "outputs": [
    {
     "name": "stdout",
     "output_type": "stream",
     "text": [
      "['family', 'is', 'not', 'an', 'important', 'thing', 'its', 'everything']\n"
     ]
    }
   ],
   "source": [
    "## 대소문자 통일\n",
    "text=text.lower()\n",
    "\n",
    "## 토큰화 진행\n",
    "tokens=word_tokenize(text)\n",
    "print(tokens)"
   ]
  },
  {
   "cell_type": "code",
   "execution_count": 6,
   "metadata": {},
   "outputs": [],
   "source": [
    "## 불용어 제거 : 분석에 의미가 없는 토큰 제거\n",
    "for token in tokens[::-1]:\n",
    "    if token in english_sW:\n",
    "        #제거\n",
    "        tokens.remove(token)\n",
    "    if token in list(punct):\n",
    "        tokens.remove(token)\n"
   ]
  },
  {
   "cell_type": "code",
   "execution_count": 7,
   "metadata": {},
   "outputs": [
    {
     "name": "stdout",
     "output_type": "stream",
     "text": [
      "['family', 'important', 'thing', 'everything']\n"
     ]
    }
   ],
   "source": [
    "print(tokens)"
   ]
  },
  {
   "cell_type": "code",
   "execution_count": null,
   "metadata": {},
   "outputs": [],
   "source": []
  }
 ],
 "metadata": {
  "kernelspec": {
   "display_name": "TORCH_NLP",
   "language": "python",
   "name": "python3"
  },
  "language_info": {
   "codemirror_mode": {
    "name": "ipython",
    "version": 3
   },
   "file_extension": ".py",
   "mimetype": "text/x-python",
   "name": "python",
   "nbconvert_exporter": "python",
   "pygments_lexer": "ipython3",
   "version": "3.8.19"
  }
 },
 "nbformat": 4,
 "nbformat_minor": 2
}
