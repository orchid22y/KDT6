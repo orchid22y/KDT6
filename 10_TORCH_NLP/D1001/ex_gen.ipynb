{
 "cells": [
  {
   "cell_type": "markdown",
   "metadata": {},
   "source": [
    "#### Generator tkfvuqhrl\n",
    "- 목적 :메모리 효율적 사용을 위해서\n",
    "- 특징 : iterator로써 반복기능 포함\n",
    "- 문법 : yield키워드 함께 사용"
   ]
  },
  {
   "cell_type": "code",
   "execution_count": 1,
   "metadata": {},
   "outputs": [],
   "source": [
    "## 모듈 로딩\n",
    "import time"
   ]
  },
  {
   "cell_type": "code",
   "execution_count": 8,
   "metadata": {},
   "outputs": [],
   "source": [
    "## 사용자 정의 함수\n",
    "## 기능 : 데이터 값을 반환하는 기능\n",
    "## 이름 : returnData\n",
    "\n",
    "def returnData():\n",
    "    data=[]\n",
    "    for ch in ['apple','kiwi','orange']:\n",
    "        data.append(ch)\n",
    "        time.sleep(2) #1초\n",
    "\n",
    "    return data"
   ]
  },
  {
   "cell_type": "code",
   "execution_count": 9,
   "metadata": {},
   "outputs": [],
   "source": [
    "## 기능 : 데이터 값을 반환하는 기능\n",
    "## 이름 : yieldData\n",
    "def yieldData():\n",
    "    data=[]\n",
    "    for ch in ['apple','kiwi','orange']:\n",
    "        data.append(ch)\n",
    "        time.sleep(1) #1  \n",
    "        yield data  #원소를 하나씩 뺌"
   ]
  },
  {
   "cell_type": "code",
   "execution_count": 15,
   "metadata": {},
   "outputs": [],
   "source": [
    "def yieldData2():\n",
    "    data= ['apple','kiwi','orange']\n",
    "    time.sleep(1)\n",
    "    yield from data  #원소를 하나씩 뺌"
   ]
  },
  {
   "cell_type": "code",
   "execution_count": 11,
   "metadata": {},
   "outputs": [
    {
     "name": "stdout",
     "output_type": "stream",
     "text": [
      "apple\n",
      "kiwi\n",
      "orange\n"
     ]
    }
   ],
   "source": [
    "# 함수 호출\n",
    "for data in returnData():\n",
    "    print(data)"
   ]
  },
  {
   "cell_type": "code",
   "execution_count": 13,
   "metadata": {},
   "outputs": [
    {
     "data": {
      "text/plain": [
       "<generator object yieldData at 0x0000018CB1427900>"
      ]
     },
     "execution_count": 13,
     "metadata": {},
     "output_type": "execute_result"
    }
   ],
   "source": [
    "yieldData()"
   ]
  },
  {
   "cell_type": "code",
   "execution_count": 12,
   "metadata": {},
   "outputs": [
    {
     "name": "stdout",
     "output_type": "stream",
     "text": [
      "['apple']\n",
      "['apple', 'kiwi']\n",
      "['apple', 'kiwi', 'orange']\n"
     ]
    }
   ],
   "source": [
    "for data in yieldData():\n",
    "    print(data)\n"
   ]
  },
  {
   "cell_type": "code",
   "execution_count": 18,
   "metadata": {},
   "outputs": [
    {
     "name": "stdout",
     "output_type": "stream",
     "text": [
      "apple\n",
      "kiwi\n",
      "orange\n"
     ]
    }
   ],
   "source": [
    "for data in yieldData2():\n",
    "    print(data)"
   ]
  }
 ],
 "metadata": {
  "kernelspec": {
   "display_name": "TORCH_NLP",
   "language": "python",
   "name": "python3"
  },
  "language_info": {
   "codemirror_mode": {
    "name": "ipython",
    "version": 3
   },
   "file_extension": ".py",
   "mimetype": "text/x-python",
   "name": "python",
   "nbconvert_exporter": "python",
   "pygments_lexer": "ipython3",
   "version": "3.8.19"
  }
 },
 "nbformat": 4,
 "nbformat_minor": 2
}
