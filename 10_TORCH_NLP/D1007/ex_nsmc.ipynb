{
 "cells": [
  {
   "cell_type": "markdown",
   "metadata": {},
   "source": [
    "#### 한국어 코퍼스 전처리\n",
    "- 데이터셋 : Korpora 에서 로딩\n",
    "- 형태소분석기 설정\n",
    "- 단어사전 생성"
   ]
  },
  {
   "cell_type": "markdown",
   "metadata": {},
   "source": [
    "[1] 모듈로딩 및 데이터 준비 <hr>"
   ]
  },
  {
   "cell_type": "code",
   "execution_count": 33,
   "metadata": {},
   "outputs": [],
   "source": [
    "# Module Loading\n",
    "from Korpora import Korpora                             # Open Korean DataSet\n",
    "from konlpy.tag import *                                # 형태소 분석기\n",
    "import spacy                                            # 형태소 분석기\n",
    "\n",
    "from torchtext.data.utils import get_tokenizer          # Pytorch 자연어처리 Module\n",
    "from torchtext.vocab import *                           # Pytorch 자연어처리 단어사전 관련 Module\n",
    "from torch.utils.data import Dataset, DataLoader        # Pytorch DataSet 관련 Module\n",
    "\n",
    "import pandas as pd\n",
    "import numpy as np\n"
   ]
  },
  {
   "cell_type": "code",
   "execution_count": 34,
   "metadata": {},
   "outputs": [
    {
     "name": "stdout",
     "output_type": "stream",
     "text": [
      "\n",
      "    Korpora 는 다른 분들이 연구 목적으로 공유해주신 말뭉치들을\n",
      "    손쉽게 다운로드, 사용할 수 있는 기능만을 제공합니다.\n",
      "\n",
      "    말뭉치들을 공유해 주신 분들에게 감사드리며, 각 말뭉치 별 설명과 라이센스를 공유 드립니다.\n",
      "    해당 말뭉치에 대해 자세히 알고 싶으신 분은 아래의 description 을 참고,\n",
      "    해당 말뭉치를 연구/상용의 목적으로 이용하실 때에는 아래의 라이센스를 참고해 주시기 바랍니다.\n",
      "\n",
      "    # Description\n",
      "    Author : e9t@github\n",
      "    Repository : https://github.com/e9t/nsmc\n",
      "    References : www.lucypark.kr/docs/2015-pyconkr/#39\n",
      "\n",
      "    Naver sentiment movie corpus v1.0\n",
      "    This is a movie review dataset in the Korean language.\n",
      "    Reviews were scraped from Naver Movies.\n",
      "\n",
      "    The dataset construction is based on the method noted in\n",
      "    [Large movie review dataset][^1] from Maas et al., 2011.\n",
      "\n",
      "    [^1]: http://ai.stanford.edu/~amaas/data/sentiment/\n",
      "\n",
      "    # License\n",
      "    CC0 1.0 Universal (CC0 1.0) Public Domain Dedication\n",
      "    Details in https://creativecommons.org/publicdomain/zero/1.0/\n",
      "\n",
      "[Korpora] Corpus `nsmc` is already installed at C:\\Users\\KDP-27\\Korpora\\nsmc\\ratings_train.txt\n",
      "[Korpora] Corpus `nsmc` is already installed at C:\\Users\\KDP-27\\Korpora\\nsmc\\ratings_test.txt\n"
     ]
    }
   ],
   "source": [
    "## 데이터 로딩\n",
    "nsmc=Korpora.load(\"nsmc\")"
   ]
  },
  {
   "cell_type": "code",
   "execution_count": 35,
   "metadata": {},
   "outputs": [
    {
     "data": {
      "text/plain": [
       "(LabeledSentence(text='아 더빙.. 진짜 짜증나네요 목소리', label=0),\n",
       " LabeledSentence(text='굳 ㅋ', label=1))"
      ]
     },
     "execution_count": 35,
     "metadata": {},
     "output_type": "execute_result"
    }
   ],
   "source": [
    "nsmc.train[0], nsmc.test[0]"
   ]
  },
  {
   "cell_type": "code",
   "execution_count": 36,
   "metadata": {},
   "outputs": [
    {
     "name": "stdout",
     "output_type": "stream",
     "text": [
      "<class 'pandas.core.frame.DataFrame'>\n",
      "RangeIndex: 50000 entries, 0 to 49999\n",
      "Data columns (total 2 columns):\n",
      " #   Column  Non-Null Count  Dtype \n",
      "---  ------  --------------  ----- \n",
      " 0   text    50000 non-null  object\n",
      " 1   label   50000 non-null  int64 \n",
      "dtypes: int64(1), object(1)\n",
      "memory usage: 781.4+ KB\n"
     ]
    }
   ],
   "source": [
    "# Test 데이터셋을 DataFrame으로 로딩\n",
    "nsmcDF=pd.DataFrame(nsmc.test)          # 데이터양이 많아서 test로 확인, 원래는 train데이터 변환해야함\n",
    "nsmcDF.info()"
   ]
  },
  {
   "cell_type": "markdown",
   "metadata": {},
   "source": [
    "[2] 커스컴 데이터셋 정의 <hr>"
   ]
  },
  {
   "cell_type": "code",
   "execution_count": 44,
   "metadata": {},
   "outputs": [],
   "source": [
    "### 단어 사전을 생성시 활용\n",
    "\n",
    "class TextDataset(Dataset):\n",
    "    def __init__(self, feature, label):\n",
    "        self.feature = feature\n",
    "        self.label=label\n",
    "        self.lenght = feature.shape[0]\n",
    "\n",
    "    def __len__(self):\n",
    "        return self.lenght\n",
    "\n",
    "    def __getitem__(self, index):\n",
    "        return self.feature.iloc[index], self.label.iloc[index]"
   ]
  },
  {
   "cell_type": "code",
   "execution_count": 45,
   "metadata": {},
   "outputs": [],
   "source": [
    "## NSMC의 데이터셋 인스턴스 생성\n",
    "nsmcDS=TextDataset(nsmcDF['text'],nsmcDF['label'])"
   ]
  },
  {
   "cell_type": "code",
   "execution_count": 46,
   "metadata": {},
   "outputs": [
    {
     "name": "stdout",
     "output_type": "stream",
     "text": [
      "굳 ㅋ 1\n"
     ]
    }
   ],
   "source": [
    "for f, l in nsmcDS:\n",
    "    print(f,l)\n",
    "    break       # 데이터 양 많아서 break 안하면 죽음"
   ]
  },
  {
   "cell_type": "markdown",
   "metadata": {},
   "source": [
    "[3] 텍스트 데이터 전처리<hr>\n",
    "- 토큰화 / 정제 (불용어, 구두점, 오타, ......)\n",
    "- 단어사전 생성\n",
    "- 문장 ==> 수치화"
   ]
  },
  {
   "cell_type": "code",
   "execution_count": 47,
   "metadata": {},
   "outputs": [],
   "source": [
    "# def preprosessing(text):      # 여기서 전처리 함수 많들어서 사용 또는 generateToken() 안에서 전처리 해서 사용 또는 TextDataset class에서 전처리\n",
    "#     #불용어 제거\n",
    "#     pass"
   ]
  },
  {
   "cell_type": "code",
   "execution_count": 48,
   "metadata": {},
   "outputs": [],
   "source": [
    "#### 토커나이즈 생성\n",
    "okt_tokenizer=get_tokenizer(Okt().morphs)         # morphs()는 함수 호출이라 morphs로 해야 함수 주소가 넘어감\n",
    "spacy_tokenizer=get_tokenizer('spacy',language='ko_core_news_sm')"
   ]
  },
  {
   "cell_type": "code",
   "execution_count": 49,
   "metadata": {},
   "outputs": [],
   "source": [
    "### 택스트 Dataset에서 처리할 데이터셋만 로딩해서 토큰화 진행하는 반복자 함수 (전체 다 넣으면 데이터 많아서 죽음)\n",
    "\n",
    "def generateToken(dataset):\n",
    "    for text, label in dataset:\n",
    "        \n",
    "        #tokens=okt_tokenizer(text)\n",
    "\n",
    "        yield okt_tokenizer(text)\n"
   ]
  },
  {
   "cell_type": "code",
   "execution_count": 50,
   "metadata": {},
   "outputs": [],
   "source": [
    "### 단어 사전 생성\n",
    "UNK_TOKEN='<UNK>'\n",
    "PAD_TOKEN='<PAD>'\n",
    "\n",
    "nsmcVocab=build_vocab_from_iterator(iterator=generateToken(nsmcDS),\n",
    "                                    specials=[UNK_TOKEN])     \n",
    "\n",
    "nsmcVocab.set_default_index( nsmcVocab[UNK_TOKEN])    # UMK -> OOV 가능"
   ]
  },
  {
   "cell_type": "code",
   "execution_count": 51,
   "metadata": {},
   "outputs": [
    {
     "data": {
      "text/plain": [
       "Vocab()"
      ]
     },
     "execution_count": 51,
     "metadata": {},
     "output_type": "execute_result"
    }
   ],
   "source": [
    "nsmcVocab"
   ]
  },
  {
   "cell_type": "code",
   "execution_count": null,
   "metadata": {},
   "outputs": [],
   "source": []
  }
 ],
 "metadata": {
  "kernelspec": {
   "display_name": "TORCH_NLP",
   "language": "python",
   "name": "python3"
  },
  "language_info": {
   "codemirror_mode": {
    "name": "ipython",
    "version": 3
   },
   "file_extension": ".py",
   "mimetype": "text/x-python",
   "name": "python",
   "nbconvert_exporter": "python",
   "pygments_lexer": "ipython3",
   "version": "3.8.19"
  }
 },
 "nbformat": 4,
 "nbformat_minor": 2
}
