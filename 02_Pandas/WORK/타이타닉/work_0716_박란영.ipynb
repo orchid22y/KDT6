{
 "cells": [
  {
   "cell_type": "markdown",
   "metadata": {},
   "source": [
    "#### [titanic]\n",
    "- 객실 등급과 탑승자\n",
    "- 객실 등급과 생존자"
   ]
  },
  {
   "cell_type": "code",
   "execution_count": 58,
   "metadata": {},
   "outputs": [],
   "source": [
    "# [1] 모듈 설정\n",
    "import pandas as pd\n"
   ]
  },
  {
   "cell_type": "code",
   "execution_count": 59,
   "metadata": {},
   "outputs": [],
   "source": [
    "# [2] 데이터 준비하기\n",
    "file_name='titanic.csv'"
   ]
  },
  {
   "cell_type": "code",
   "execution_count": 60,
   "metadata": {},
   "outputs": [],
   "source": [
    "# [3] csv 파일 ==> DataFrame 형태로 저장\n",
    "DF=pd.read_csv(file_name)"
   ]
  },
  {
   "cell_type": "code",
   "execution_count": 61,
   "metadata": {},
   "outputs": [
    {
     "data": {
      "text/plain": [
       "(891, 15)"
      ]
     },
     "execution_count": 61,
     "metadata": {},
     "output_type": "execute_result"
    }
   ],
   "source": [
    "DF.shape"
   ]
  },
  {
   "cell_type": "code",
   "execution_count": 62,
   "metadata": {},
   "outputs": [
    {
     "data": {
      "text/plain": [
       "107"
      ]
     },
     "execution_count": 62,
     "metadata": {},
     "output_type": "execute_result"
    }
   ],
   "source": [
    "# 중복 데이터 확인\n",
    "DF.duplicated().sum()"
   ]
  },
  {
   "cell_type": "code",
   "execution_count": 63,
   "metadata": {},
   "outputs": [],
   "source": [
    "# 중복 삭제\n",
    "DF=DF.drop_duplicates(keep='last')"
   ]
  },
  {
   "cell_type": "code",
   "execution_count": 64,
   "metadata": {},
   "outputs": [
    {
     "data": {
      "text/plain": [
       "(784, 15)"
      ]
     },
     "execution_count": 64,
     "metadata": {},
     "output_type": "execute_result"
    }
   ],
   "source": [
    "DF.shape"
   ]
  },
  {
   "cell_type": "code",
   "execution_count": 65,
   "metadata": {},
   "outputs": [
    {
     "name": "stdout",
     "output_type": "stream",
     "text": [
      "<class 'pandas.core.frame.DataFrame'>\n",
      "Index: 784 entries, 0 to 890\n",
      "Data columns (total 15 columns):\n",
      " #   Column       Non-Null Count  Dtype  \n",
      "---  ------       --------------  -----  \n",
      " 0   survived     784 non-null    int64  \n",
      " 1   pclass       784 non-null    int64  \n",
      " 2   sex          784 non-null    object \n",
      " 3   age          678 non-null    float64\n",
      " 4   sibsp        784 non-null    int64  \n",
      " 5   parch        784 non-null    int64  \n",
      " 6   fare         784 non-null    float64\n",
      " 7   embarked     782 non-null    object \n",
      " 8   class        784 non-null    object \n",
      " 9   who          784 non-null    object \n",
      " 10  adult_male   784 non-null    bool   \n",
      " 11  deck         202 non-null    object \n",
      " 12  embark_town  782 non-null    object \n",
      " 13  alive        784 non-null    object \n",
      " 14  alone        784 non-null    bool   \n",
      "dtypes: bool(2), float64(2), int64(4), object(7)\n",
      "memory usage: 87.3+ KB\n"
     ]
    }
   ],
   "source": [
    "#기본 정보 확인\n",
    "DF.info()"
   ]
  },
  {
   "cell_type": "code",
   "execution_count": 66,
   "metadata": {},
   "outputs": [
    {
     "name": "stdout",
     "output_type": "stream",
     "text": [
      "   survived  pclass     sex   age  sibsp  parch     fare embarked  class  \\\n",
      "0         0       3    male  22.0      1      0   7.2500        S  Third   \n",
      "1         1       1  female  38.0      1      0  71.2833        C  First   \n",
      "2         1       3  female  26.0      0      0   7.9250        S  Third   \n",
      "3         1       1  female  35.0      1      0  53.1000        S  First   \n",
      "5         0       3    male   NaN      0      0   8.4583        Q  Third   \n",
      "\n",
      "     who  adult_male deck  embark_town alive  alone  \n",
      "0    man        True  NaN  Southampton    no  False  \n",
      "1  woman       False    C    Cherbourg   yes  False  \n",
      "2  woman       False  NaN  Southampton   yes   True  \n",
      "3  woman       False    C  Southampton   yes  False  \n",
      "5    man        True  NaN   Queenstown    no   True  \n",
      "\n",
      "     survived  pclass     sex   age  sibsp  parch   fare embarked   class  \\\n",
      "886         0       2    male  27.0      0      0  13.00        S  Second   \n",
      "887         1       1  female  19.0      0      0  30.00        S   First   \n",
      "888         0       3  female   NaN      1      2  23.45        S   Third   \n",
      "889         1       1    male  26.0      0      0  30.00        C   First   \n",
      "890         0       3    male  32.0      0      0   7.75        Q   Third   \n",
      "\n",
      "       who  adult_male deck  embark_town alive  alone  \n",
      "886    man        True  NaN  Southampton    no   True  \n",
      "887  woman       False    B  Southampton   yes   True  \n",
      "888  woman       False  NaN  Southampton    no  False  \n",
      "889    man        True    C    Cherbourg   yes   True  \n",
      "890    man        True  NaN   Queenstown    no   True  \n"
     ]
    }
   ],
   "source": [
    "#   - 컬럼과 실제 데이터 타입 확인\n",
    "print(DF.head(),DF.tail(),sep='\\n\\n')\n"
   ]
  },
  {
   "cell_type": "code",
   "execution_count": 67,
   "metadata": {},
   "outputs": [
    {
     "data": {
      "text/plain": [
       "(784, 15)"
      ]
     },
     "execution_count": 67,
     "metadata": {},
     "output_type": "execute_result"
    }
   ],
   "source": [
    "# 컬럼별 데이터의 특성 확인 후 자료형 변환 표준화\n",
    "DF2=DF.copy()\n",
    "DF2['survived']=DF2['survived'].astype('category')\n",
    "DF2['pclass']=DF2['pclass'].astype('category')\n",
    "DF.shape\n"
   ]
  },
  {
   "cell_type": "code",
   "execution_count": 68,
   "metadata": {},
   "outputs": [
    {
     "data": {
      "text/plain": [
       "(784, 15)"
      ]
     },
     "execution_count": 68,
     "metadata": {},
     "output_type": "execute_result"
    }
   ],
   "source": [
    "#필요한 컬럼만 추출\n",
    "DF3=DF2[['survived','pclass','sex','age']]\n",
    "DF2.shape"
   ]
  },
  {
   "cell_type": "code",
   "execution_count": 69,
   "metadata": {},
   "outputs": [
    {
     "data": {
      "text/plain": [
       "survived      0\n",
       "pclass        0\n",
       "sex           0\n",
       "age         106\n",
       "dtype: int64"
      ]
     },
     "execution_count": 69,
     "metadata": {},
     "output_type": "execute_result"
    }
   ],
   "source": [
    "# 결측치 확인\n",
    "DF3.isna().sum()"
   ]
  },
  {
   "cell_type": "code",
   "execution_count": 70,
   "metadata": {},
   "outputs": [
    {
     "data": {
      "text/plain": [
       "survived\n",
       "0    461\n",
       "1    323\n",
       "Name: count, dtype: int64"
      ]
     },
     "execution_count": 70,
     "metadata": {},
     "output_type": "execute_result"
    }
   ],
   "source": [
    "# 생존 비율\n",
    "DF3.index\n",
    "DF3['survived'].value_counts()"
   ]
  },
  {
   "cell_type": "code",
   "execution_count": 71,
   "metadata": {},
   "outputs": [
    {
     "data": {
      "text/plain": [
       "survived\n",
       "0    58.80102\n",
       "1    41.19898\n",
       "Name: count, dtype: float64"
      ]
     },
     "execution_count": 71,
     "metadata": {},
     "output_type": "execute_result"
    }
   ],
   "source": [
    "(DF3['survived'].value_counts()/DF3.shape[0])*100"
   ]
  },
  {
   "cell_type": "markdown",
   "metadata": {},
   "source": [
    "    - 전체 생존율 : 41.20% (784명 중 323명)"
   ]
  },
  {
   "cell_type": "code",
   "execution_count": 72,
   "metadata": {},
   "outputs": [
    {
     "name": "stdout",
     "output_type": "stream",
     "text": [
      "pclass\n",
      "3    405\n",
      "1    214\n",
      "2    165\n",
      "Name: count, dtype: int64\n",
      "pclass\n",
      "3    51.658163\n",
      "1    27.295918\n",
      "2    21.045918\n",
      "Name: count, dtype: float64\n"
     ]
    }
   ],
   "source": [
    "# 전체 탑승객 객실별 비율\n",
    "print(DF3['pclass'].value_counts())\n",
    "print((DF3['pclass'].value_counts()/DF3.shape[0])*100)"
   ]
  },
  {
   "cell_type": "markdown",
   "metadata": {},
   "source": [
    "    - 탑승객 비율\n",
    "        * 1등석 : 27.30%(214/784)\n",
    "        * 2등석 : 21.04%(165/784)\n",
    "        * 3등석 : 51.66%(405/784)"
   ]
  },
  {
   "cell_type": "code",
   "execution_count": 73,
   "metadata": {},
   "outputs": [
    {
     "data": {
      "text/plain": [
       "pclass\n",
       "1    135\n",
       "3    104\n",
       "2     84\n",
       "Name: count, dtype: int64"
      ]
     },
     "execution_count": 73,
     "metadata": {},
     "output_type": "execute_result"
    }
   ],
   "source": [
    "# 객실별 생존율\n",
    "survived_idx=DF3[DF3['survived']==1].index\n",
    "DF3.loc[survived_idx]['pclass'].value_counts()"
   ]
  },
  {
   "cell_type": "code",
   "execution_count": 74,
   "metadata": {},
   "outputs": [
    {
     "name": "stdout",
     "output_type": "stream",
     "text": [
      "[214, 165, 405]\n"
     ]
    }
   ],
   "source": [
    "#객실별 탑승객 수\n",
    "i=1\n",
    "c=[]\n",
    "while i<=3:\n",
    "    c+=[DF3[DF3['pclass']==i]['pclass'].count()]\n",
    "    i+=1\n",
    "print(c)"
   ]
  },
  {
   "cell_type": "code",
   "execution_count": 75,
   "metadata": {},
   "outputs": [
    {
     "name": "stdout",
     "output_type": "stream",
     "text": [
      "[135, 84, 104]\n"
     ]
    }
   ],
   "source": [
    "#객실별 생존자 수\n",
    "i=1\n",
    "s_c=[]\n",
    "while i<=3:\n",
    "    s_c+=[DF3[(DF3['survived']==1)&(DF3['pclass']==i)]['pclass'].count()]\n",
    "    i+=1\n",
    "print(s_c)"
   ]
  },
  {
   "cell_type": "code",
   "execution_count": 76,
   "metadata": {},
   "outputs": [
    {
     "name": "stdout",
     "output_type": "stream",
     "text": [
      "1등석 생존율 : 63.084112149532714\n",
      "2등석 생존율 : 50.90909090909091\n",
      "3등석 생존율 : 25.679012345679013\n"
     ]
    }
   ],
   "source": [
    "# 객실별 생존율\n",
    "i=0\n",
    "while i<=2:\n",
    "    print(f'{i+1}등석 생존율 : {(s_c[i]/c[i])*100}')\n",
    "    i+=1"
   ]
  },
  {
   "cell_type": "code",
   "execution_count": null,
   "metadata": {},
   "outputs": [],
   "source": []
  },
  {
   "cell_type": "markdown",
   "metadata": {},
   "source": [
    "    - 객실별 생존율\n",
    "        *1등석 : 63.08% (135/214)\n",
    "        *2등석 : 50.90% (84/165)\n",
    "        *3등석 : 25.68% (104/405)\n",
    "        *전 체 : 38.38% (323/784)"
   ]
  },
  {
   "cell_type": "markdown",
   "metadata": {},
   "source": []
  }
 ],
 "metadata": {
  "kernelspec": {
   "display_name": "PY39",
   "language": "python",
   "name": "python3"
  },
  "language_info": {
   "codemirror_mode": {
    "name": "ipython",
    "version": 3
   },
   "file_extension": ".py",
   "mimetype": "text/x-python",
   "name": "python",
   "nbconvert_exporter": "python",
   "pygments_lexer": "ipython3",
   "version": "3.9.19"
  }
 },
 "nbformat": 4,
 "nbformat_minor": 2
}
