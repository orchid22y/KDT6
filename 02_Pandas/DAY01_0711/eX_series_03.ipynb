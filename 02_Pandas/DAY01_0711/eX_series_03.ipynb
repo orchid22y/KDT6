{
 "cells": [
  {
   "cell_type": "markdown",
   "metadata": {},
   "source": [
    "### Serise 데이터 자료형\n",
    "- 판다스에서 1줄의 데이터를 저장하는 자료형 즉\n",
    "- 구성 : 인덱스 :데이터\n"
   ]
  },
  {
   "cell_type": "code",
   "execution_count": 6,
   "metadata": {},
   "outputs": [],
   "source": [
    "# 모듈 로딩\n",
    "import pandas as pd"
   ]
  },
  {
   "cell_type": "code",
   "execution_count": 7,
   "metadata": {},
   "outputs": [],
   "source": [
    "# 데이터 준비\n",
    "jumsu = {'국어':98,'영어':100,'체육':100,'과학':89}\n",
    "\n",
    "#시리즈객체 생성\n",
    "jumsuSR=pd.Series(jumsu)\n"
   ]
  },
  {
   "cell_type": "code",
   "execution_count": 9,
   "metadata": {},
   "outputs": [
    {
     "name": "stdout",
     "output_type": "stream",
     "text": [
      "Index(['국어', '영어', '체육', '과학'], dtype='object')\n",
      "[ 98 100 100  89]\n",
      "int64\n",
      "1\n"
     ]
    }
   ],
   "source": [
    "# 시리즈 객체 속성 출력 => inded, values, dtype, mdim\n",
    "\n",
    "print(jumsuSR.index)\n",
    "print(jumsuSR.values)\n",
    "print(jumsuSR.dtype)\n",
    "print(jumsuSR.ndim)"
   ]
  },
  {
   "cell_type": "code",
   "execution_count": 10,
   "metadata": {},
   "outputs": [
    {
     "data": {
      "text/plain": [
       "국어     98\n",
       "영어    100\n",
       "체육    100\n",
       "과학     89\n",
       "dtype: int64"
      ]
     },
     "execution_count": 10,
     "metadata": {},
     "output_type": "execute_result"
    }
   ],
   "source": [
    "# 국어, 영어, 체육 점수 읽기 ===> 슬라이싱\n",
    "# 정수인덱스인 경우 => [시작:끝+1]\n",
    "# 글자인덱스인 경우 =>[시작:끝]\n",
    "jumsuSR['국어':'과학']"
   ]
  },
  {
   "cell_type": "code",
   "execution_count": 11,
   "metadata": {},
   "outputs": [
    {
     "data": {
      "text/plain": [
       "국어     98\n",
       "체육    100\n",
       "dtype: int64"
      ]
     },
     "execution_count": 11,
     "metadata": {},
     "output_type": "execute_result"
    }
   ],
   "source": [
    "# 국어, 체육 점수 읽기 ==>슬라이싱[시작:끝:간격]\n",
    "jumsuSR['국어':'체육':2]"
   ]
  },
  {
   "cell_type": "markdown",
   "metadata": {},
   "source": [
    "- [인덱스 & 인덱스레이블/네임]\n",
    "    :원소/요소를 식별하기 위한 속성\n"
   ]
  },
  {
   "cell_type": "code",
   "execution_count": 12,
   "metadata": {},
   "outputs": [
    {
     "data": {
      "text/plain": [
       "Index(['국어', '영어', '체육', '과학'], dtype='object')"
      ]
     },
     "execution_count": 12,
     "metadata": {},
     "output_type": "execute_result"
    }
   ],
   "source": [
    "## 인덱스 속성 ==> 변수명.index\n",
    "jumsuSR.index"
   ]
  },
  {
   "cell_type": "code",
   "execution_count": 15,
   "metadata": {},
   "outputs": [
    {
     "name": "stdout",
     "output_type": "stream",
     "text": [
      "98 98\n",
      "100 100\n"
     ]
    }
   ],
   "source": [
    "print(jumsuSR['국어'], jumsuSR.iloc[0],)\n",
    "print(jumsuSR['체육'], jumsuSR.iloc[2])"
   ]
  },
  {
   "cell_type": "code",
   "execution_count": null,
   "metadata": {},
   "outputs": [],
   "source": []
  }
 ],
 "metadata": {
  "kernelspec": {
   "display_name": "PY39",
   "language": "python",
   "name": "python3"
  },
  "language_info": {
   "codemirror_mode": {
    "name": "ipython",
    "version": 3
   },
   "file_extension": ".py",
   "mimetype": "text/x-python",
   "name": "python",
   "nbconvert_exporter": "python",
   "pygments_lexer": "ipython3",
   "version": "3.9.19"
  }
 },
 "nbformat": 4,
 "nbformat_minor": 2
}
