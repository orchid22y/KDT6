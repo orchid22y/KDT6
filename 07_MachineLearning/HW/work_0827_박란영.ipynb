{
 "cells": [
  {
   "cell_type": "code",
   "execution_count": 13,
   "metadata": {},
   "outputs": [],
   "source": [
    "import pandas as pd\n",
    "import matplotlib.pyplot as plt\n",
    "from sklearn.datasets import load_diabetes"
   ]
  },
  {
   "cell_type": "code",
   "execution_count": 14,
   "metadata": {},
   "outputs": [
    {
     "data": {
      "text/plain": [
       "dict_keys(['data', 'target', 'frame', 'DESCR', 'feature_names', 'data_filename', 'target_filename', 'data_module'])"
      ]
     },
     "execution_count": 14,
     "metadata": {},
     "output_type": "execute_result"
    }
   ],
   "source": [
    "# 기본 : ndarray 형태로 반환\n",
    "# 반환값 : Bunch 객체로 dict와 유사\n",
    "dataDict = load_diabetes()\n",
    "dataDict.keys()"
   ]
  },
  {
   "cell_type": "code",
   "execution_count": 15,
   "metadata": {},
   "outputs": [
    {
     "data": {
      "text/plain": [
       "dict_keys(['data', 'target', 'frame', 'DESCR', 'feature_names', 'data_filename', 'target_filename', 'data_module'])"
      ]
     },
     "execution_count": 15,
     "metadata": {},
     "output_type": "execute_result"
    }
   ],
   "source": [
    "# 기본 : ndarray 형태로 반환\n",
    "dataDict = load_diabetes(as_frame=True)\n",
    "dataDict.keys()"
   ]
  },
  {
   "cell_type": "code",
   "execution_count": 16,
   "metadata": {},
   "outputs": [
    {
     "data": {
      "text/plain": [
       "pandas.core.frame.DataFrame"
      ]
     },
     "execution_count": 16,
     "metadata": {},
     "output_type": "execute_result"
    }
   ],
   "source": [
    "# 기본 : ndarray 형태로 반환\n",
    "# 반환값 : tuple로 data와 target만 반환\n",
    "data,target = load_diabetes(return_X_y=True, as_frame=True)\n",
    "\n",
    "type(data)"
   ]
  },
  {
   "cell_type": "code",
   "execution_count": 17,
   "metadata": {},
   "outputs": [
    {
     "data": {
      "text/plain": [
       "dict_keys(['data', 'target', 'frame', 'DESCR', 'feature_names', 'data_filename', 'target_filename', 'data_module'])"
      ]
     },
     "execution_count": 17,
     "metadata": {},
     "output_type": "execute_result"
    }
   ],
   "source": [
    "# scaled 기본값 True\n",
    "dataDict = load_diabetes(scaled=False,as_frame= True)\n",
    "dataDict.keys()"
   ]
  },
  {
   "cell_type": "code",
   "execution_count": 18,
   "metadata": {},
   "outputs": [
    {
     "data": {
      "text/plain": [
       "{'data':       age  sex   bmi      bp     s1     s2    s3    s4      s5     s6\n",
       " 0    59.0  2.0  32.1  101.00  157.0   93.2  38.0  4.00  4.8598   87.0\n",
       " 1    48.0  1.0  21.6   87.00  183.0  103.2  70.0  3.00  3.8918   69.0\n",
       " 2    72.0  2.0  30.5   93.00  156.0   93.6  41.0  4.00  4.6728   85.0\n",
       " 3    24.0  1.0  25.3   84.00  198.0  131.4  40.0  5.00  4.8903   89.0\n",
       " 4    50.0  1.0  23.0  101.00  192.0  125.4  52.0  4.00  4.2905   80.0\n",
       " ..    ...  ...   ...     ...    ...    ...   ...   ...     ...    ...\n",
       " 437  60.0  2.0  28.2  112.00  185.0  113.8  42.0  4.00  4.9836   93.0\n",
       " 438  47.0  2.0  24.9   75.00  225.0  166.0  42.0  5.00  4.4427  102.0\n",
       " 439  60.0  2.0  24.9   99.67  162.0  106.6  43.0  3.77  4.1271   95.0\n",
       " 440  36.0  1.0  30.0   95.00  201.0  125.2  42.0  4.79  5.1299   85.0\n",
       " 441  36.0  1.0  19.6   71.00  250.0  133.2  97.0  3.00  4.5951   92.0\n",
       " \n",
       " [442 rows x 10 columns],\n",
       " 'target': 0      151.0\n",
       " 1       75.0\n",
       " 2      141.0\n",
       " 3      206.0\n",
       " 4      135.0\n",
       "        ...  \n",
       " 437    178.0\n",
       " 438    104.0\n",
       " 439    132.0\n",
       " 440    220.0\n",
       " 441     57.0\n",
       " Name: target, Length: 442, dtype: float64,\n",
       " 'frame':       age  sex   bmi      bp     s1     s2    s3    s4      s5     s6  target\n",
       " 0    59.0  2.0  32.1  101.00  157.0   93.2  38.0  4.00  4.8598   87.0   151.0\n",
       " 1    48.0  1.0  21.6   87.00  183.0  103.2  70.0  3.00  3.8918   69.0    75.0\n",
       " 2    72.0  2.0  30.5   93.00  156.0   93.6  41.0  4.00  4.6728   85.0   141.0\n",
       " 3    24.0  1.0  25.3   84.00  198.0  131.4  40.0  5.00  4.8903   89.0   206.0\n",
       " 4    50.0  1.0  23.0  101.00  192.0  125.4  52.0  4.00  4.2905   80.0   135.0\n",
       " ..    ...  ...   ...     ...    ...    ...   ...   ...     ...    ...     ...\n",
       " 437  60.0  2.0  28.2  112.00  185.0  113.8  42.0  4.00  4.9836   93.0   178.0\n",
       " 438  47.0  2.0  24.9   75.00  225.0  166.0  42.0  5.00  4.4427  102.0   104.0\n",
       " 439  60.0  2.0  24.9   99.67  162.0  106.6  43.0  3.77  4.1271   95.0   132.0\n",
       " 440  36.0  1.0  30.0   95.00  201.0  125.2  42.0  4.79  5.1299   85.0   220.0\n",
       " 441  36.0  1.0  19.6   71.00  250.0  133.2  97.0  3.00  4.5951   92.0    57.0\n",
       " \n",
       " [442 rows x 11 columns],\n",
       " 'DESCR': '.. _diabetes_dataset:\\n\\nDiabetes dataset\\n----------------\\n\\nTen baseline variables, age, sex, body mass index, average blood\\npressure, and six blood serum measurements were obtained for each of n =\\n442 diabetes patients, as well as the response of interest, a\\nquantitative measure of disease progression one year after baseline.\\n\\n**Data Set Characteristics:**\\n\\n  :Number of Instances: 442\\n\\n  :Number of Attributes: First 10 columns are numeric predictive values\\n\\n  :Target: Column 11 is a quantitative measure of disease progression one year after baseline\\n\\n  :Attribute Information:\\n      - age     age in years\\n      - sex\\n      - bmi     body mass index\\n      - bp      average blood pressure\\n      - s1      tc, total serum cholesterol\\n      - s2      ldl, low-density lipoproteins\\n      - s3      hdl, high-density lipoproteins\\n      - s4      tch, total cholesterol / HDL\\n      - s5      ltg, possibly log of serum triglycerides level\\n      - s6      glu, blood sugar level\\n\\nNote: Each of these 10 feature variables have been mean centered and scaled by the standard deviation times the square root of `n_samples` (i.e. the sum of squares of each column totals 1).\\n\\nSource URL:\\nhttps://www4.stat.ncsu.edu/~boos/var.select/diabetes.html\\n\\nFor more information see:\\nBradley Efron, Trevor Hastie, Iain Johnstone and Robert Tibshirani (2004) \"Least Angle Regression,\" Annals of Statistics (with discussion), 407-499.\\n(https://web.stanford.edu/~hastie/Papers/LARS/LeastAngle_2002.pdf)\\n',\n",
       " 'feature_names': ['age',\n",
       "  'sex',\n",
       "  'bmi',\n",
       "  'bp',\n",
       "  's1',\n",
       "  's2',\n",
       "  's3',\n",
       "  's4',\n",
       "  's5',\n",
       "  's6'],\n",
       " 'data_filename': 'diabetes_data_raw.csv.gz',\n",
       " 'target_filename': 'diabetes_target.csv.gz',\n",
       " 'data_module': 'sklearn.datasets.data'}"
      ]
     },
     "execution_count": 18,
     "metadata": {},
     "output_type": "execute_result"
    }
   ],
   "source": [
    "dataDict"
   ]
  },
  {
   "cell_type": "code",
   "execution_count": 21,
   "metadata": {},
   "outputs": [
    {
     "data": {
      "text/html": [
       "<div>\n",
       "<style scoped>\n",
       "    .dataframe tbody tr th:only-of-type {\n",
       "        vertical-align: middle;\n",
       "    }\n",
       "\n",
       "    .dataframe tbody tr th {\n",
       "        vertical-align: top;\n",
       "    }\n",
       "\n",
       "    .dataframe thead th {\n",
       "        text-align: right;\n",
       "    }\n",
       "</style>\n",
       "<table border=\"1\" class=\"dataframe\">\n",
       "  <thead>\n",
       "    <tr style=\"text-align: right;\">\n",
       "      <th></th>\n",
       "      <th>age</th>\n",
       "      <th>sex</th>\n",
       "      <th>bmi</th>\n",
       "      <th>bp</th>\n",
       "      <th>s1</th>\n",
       "      <th>s2</th>\n",
       "      <th>s3</th>\n",
       "      <th>s4</th>\n",
       "      <th>s5</th>\n",
       "      <th>s6</th>\n",
       "    </tr>\n",
       "  </thead>\n",
       "  <tbody>\n",
       "    <tr>\n",
       "      <th>0</th>\n",
       "      <td>59.0</td>\n",
       "      <td>2.0</td>\n",
       "      <td>32.1</td>\n",
       "      <td>101.00</td>\n",
       "      <td>157.0</td>\n",
       "      <td>93.2</td>\n",
       "      <td>38.0</td>\n",
       "      <td>4.00</td>\n",
       "      <td>4.8598</td>\n",
       "      <td>87.0</td>\n",
       "    </tr>\n",
       "    <tr>\n",
       "      <th>1</th>\n",
       "      <td>48.0</td>\n",
       "      <td>1.0</td>\n",
       "      <td>21.6</td>\n",
       "      <td>87.00</td>\n",
       "      <td>183.0</td>\n",
       "      <td>103.2</td>\n",
       "      <td>70.0</td>\n",
       "      <td>3.00</td>\n",
       "      <td>3.8918</td>\n",
       "      <td>69.0</td>\n",
       "    </tr>\n",
       "    <tr>\n",
       "      <th>2</th>\n",
       "      <td>72.0</td>\n",
       "      <td>2.0</td>\n",
       "      <td>30.5</td>\n",
       "      <td>93.00</td>\n",
       "      <td>156.0</td>\n",
       "      <td>93.6</td>\n",
       "      <td>41.0</td>\n",
       "      <td>4.00</td>\n",
       "      <td>4.6728</td>\n",
       "      <td>85.0</td>\n",
       "    </tr>\n",
       "    <tr>\n",
       "      <th>3</th>\n",
       "      <td>24.0</td>\n",
       "      <td>1.0</td>\n",
       "      <td>25.3</td>\n",
       "      <td>84.00</td>\n",
       "      <td>198.0</td>\n",
       "      <td>131.4</td>\n",
       "      <td>40.0</td>\n",
       "      <td>5.00</td>\n",
       "      <td>4.8903</td>\n",
       "      <td>89.0</td>\n",
       "    </tr>\n",
       "    <tr>\n",
       "      <th>4</th>\n",
       "      <td>50.0</td>\n",
       "      <td>1.0</td>\n",
       "      <td>23.0</td>\n",
       "      <td>101.00</td>\n",
       "      <td>192.0</td>\n",
       "      <td>125.4</td>\n",
       "      <td>52.0</td>\n",
       "      <td>4.00</td>\n",
       "      <td>4.2905</td>\n",
       "      <td>80.0</td>\n",
       "    </tr>\n",
       "    <tr>\n",
       "      <th>...</th>\n",
       "      <td>...</td>\n",
       "      <td>...</td>\n",
       "      <td>...</td>\n",
       "      <td>...</td>\n",
       "      <td>...</td>\n",
       "      <td>...</td>\n",
       "      <td>...</td>\n",
       "      <td>...</td>\n",
       "      <td>...</td>\n",
       "      <td>...</td>\n",
       "    </tr>\n",
       "    <tr>\n",
       "      <th>437</th>\n",
       "      <td>60.0</td>\n",
       "      <td>2.0</td>\n",
       "      <td>28.2</td>\n",
       "      <td>112.00</td>\n",
       "      <td>185.0</td>\n",
       "      <td>113.8</td>\n",
       "      <td>42.0</td>\n",
       "      <td>4.00</td>\n",
       "      <td>4.9836</td>\n",
       "      <td>93.0</td>\n",
       "    </tr>\n",
       "    <tr>\n",
       "      <th>438</th>\n",
       "      <td>47.0</td>\n",
       "      <td>2.0</td>\n",
       "      <td>24.9</td>\n",
       "      <td>75.00</td>\n",
       "      <td>225.0</td>\n",
       "      <td>166.0</td>\n",
       "      <td>42.0</td>\n",
       "      <td>5.00</td>\n",
       "      <td>4.4427</td>\n",
       "      <td>102.0</td>\n",
       "    </tr>\n",
       "    <tr>\n",
       "      <th>439</th>\n",
       "      <td>60.0</td>\n",
       "      <td>2.0</td>\n",
       "      <td>24.9</td>\n",
       "      <td>99.67</td>\n",
       "      <td>162.0</td>\n",
       "      <td>106.6</td>\n",
       "      <td>43.0</td>\n",
       "      <td>3.77</td>\n",
       "      <td>4.1271</td>\n",
       "      <td>95.0</td>\n",
       "    </tr>\n",
       "    <tr>\n",
       "      <th>440</th>\n",
       "      <td>36.0</td>\n",
       "      <td>1.0</td>\n",
       "      <td>30.0</td>\n",
       "      <td>95.00</td>\n",
       "      <td>201.0</td>\n",
       "      <td>125.2</td>\n",
       "      <td>42.0</td>\n",
       "      <td>4.79</td>\n",
       "      <td>5.1299</td>\n",
       "      <td>85.0</td>\n",
       "    </tr>\n",
       "    <tr>\n",
       "      <th>441</th>\n",
       "      <td>36.0</td>\n",
       "      <td>1.0</td>\n",
       "      <td>19.6</td>\n",
       "      <td>71.00</td>\n",
       "      <td>250.0</td>\n",
       "      <td>133.2</td>\n",
       "      <td>97.0</td>\n",
       "      <td>3.00</td>\n",
       "      <td>4.5951</td>\n",
       "      <td>92.0</td>\n",
       "    </tr>\n",
       "  </tbody>\n",
       "</table>\n",
       "<p>442 rows × 10 columns</p>\n",
       "</div>"
      ],
      "text/plain": [
       "      age  sex   bmi      bp     s1     s2    s3    s4      s5     s6\n",
       "0    59.0  2.0  32.1  101.00  157.0   93.2  38.0  4.00  4.8598   87.0\n",
       "1    48.0  1.0  21.6   87.00  183.0  103.2  70.0  3.00  3.8918   69.0\n",
       "2    72.0  2.0  30.5   93.00  156.0   93.6  41.0  4.00  4.6728   85.0\n",
       "3    24.0  1.0  25.3   84.00  198.0  131.4  40.0  5.00  4.8903   89.0\n",
       "4    50.0  1.0  23.0  101.00  192.0  125.4  52.0  4.00  4.2905   80.0\n",
       "..    ...  ...   ...     ...    ...    ...   ...   ...     ...    ...\n",
       "437  60.0  2.0  28.2  112.00  185.0  113.8  42.0  4.00  4.9836   93.0\n",
       "438  47.0  2.0  24.9   75.00  225.0  166.0  42.0  5.00  4.4427  102.0\n",
       "439  60.0  2.0  24.9   99.67  162.0  106.6  43.0  3.77  4.1271   95.0\n",
       "440  36.0  1.0  30.0   95.00  201.0  125.2  42.0  4.79  5.1299   85.0\n",
       "441  36.0  1.0  19.6   71.00  250.0  133.2  97.0  3.00  4.5951   92.0\n",
       "\n",
       "[442 rows x 10 columns]"
      ]
     },
     "execution_count": 21,
     "metadata": {},
     "output_type": "execute_result"
    }
   ],
   "source": [
    "dataDF=dataDict.data\n",
    "dataDF"
   ]
  },
  {
   "cell_type": "code",
   "execution_count": 28,
   "metadata": {},
   "outputs": [
    {
     "data": {
      "text/html": [
       "<div>\n",
       "<style scoped>\n",
       "    .dataframe tbody tr th:only-of-type {\n",
       "        vertical-align: middle;\n",
       "    }\n",
       "\n",
       "    .dataframe tbody tr th {\n",
       "        vertical-align: top;\n",
       "    }\n",
       "\n",
       "    .dataframe thead th {\n",
       "        text-align: right;\n",
       "    }\n",
       "</style>\n",
       "<table border=\"1\" class=\"dataframe\">\n",
       "  <thead>\n",
       "    <tr style=\"text-align: right;\">\n",
       "      <th></th>\n",
       "      <th>age</th>\n",
       "      <th>sex</th>\n",
       "      <th>bmi</th>\n",
       "      <th>bp</th>\n",
       "      <th>s1</th>\n",
       "      <th>s2</th>\n",
       "      <th>s3</th>\n",
       "      <th>s4</th>\n",
       "      <th>s5</th>\n",
       "      <th>s6</th>\n",
       "      <th>target</th>\n",
       "    </tr>\n",
       "  </thead>\n",
       "  <tbody>\n",
       "    <tr>\n",
       "      <th>0</th>\n",
       "      <td>59.0</td>\n",
       "      <td>2.0</td>\n",
       "      <td>32.1</td>\n",
       "      <td>101.00</td>\n",
       "      <td>157.0</td>\n",
       "      <td>93.2</td>\n",
       "      <td>38.0</td>\n",
       "      <td>4.00</td>\n",
       "      <td>4.8598</td>\n",
       "      <td>87.0</td>\n",
       "      <td>151.0</td>\n",
       "    </tr>\n",
       "    <tr>\n",
       "      <th>1</th>\n",
       "      <td>48.0</td>\n",
       "      <td>1.0</td>\n",
       "      <td>21.6</td>\n",
       "      <td>87.00</td>\n",
       "      <td>183.0</td>\n",
       "      <td>103.2</td>\n",
       "      <td>70.0</td>\n",
       "      <td>3.00</td>\n",
       "      <td>3.8918</td>\n",
       "      <td>69.0</td>\n",
       "      <td>75.0</td>\n",
       "    </tr>\n",
       "    <tr>\n",
       "      <th>2</th>\n",
       "      <td>72.0</td>\n",
       "      <td>2.0</td>\n",
       "      <td>30.5</td>\n",
       "      <td>93.00</td>\n",
       "      <td>156.0</td>\n",
       "      <td>93.6</td>\n",
       "      <td>41.0</td>\n",
       "      <td>4.00</td>\n",
       "      <td>4.6728</td>\n",
       "      <td>85.0</td>\n",
       "      <td>141.0</td>\n",
       "    </tr>\n",
       "    <tr>\n",
       "      <th>3</th>\n",
       "      <td>24.0</td>\n",
       "      <td>1.0</td>\n",
       "      <td>25.3</td>\n",
       "      <td>84.00</td>\n",
       "      <td>198.0</td>\n",
       "      <td>131.4</td>\n",
       "      <td>40.0</td>\n",
       "      <td>5.00</td>\n",
       "      <td>4.8903</td>\n",
       "      <td>89.0</td>\n",
       "      <td>206.0</td>\n",
       "    </tr>\n",
       "    <tr>\n",
       "      <th>4</th>\n",
       "      <td>50.0</td>\n",
       "      <td>1.0</td>\n",
       "      <td>23.0</td>\n",
       "      <td>101.00</td>\n",
       "      <td>192.0</td>\n",
       "      <td>125.4</td>\n",
       "      <td>52.0</td>\n",
       "      <td>4.00</td>\n",
       "      <td>4.2905</td>\n",
       "      <td>80.0</td>\n",
       "      <td>135.0</td>\n",
       "    </tr>\n",
       "    <tr>\n",
       "      <th>...</th>\n",
       "      <td>...</td>\n",
       "      <td>...</td>\n",
       "      <td>...</td>\n",
       "      <td>...</td>\n",
       "      <td>...</td>\n",
       "      <td>...</td>\n",
       "      <td>...</td>\n",
       "      <td>...</td>\n",
       "      <td>...</td>\n",
       "      <td>...</td>\n",
       "      <td>...</td>\n",
       "    </tr>\n",
       "    <tr>\n",
       "      <th>437</th>\n",
       "      <td>60.0</td>\n",
       "      <td>2.0</td>\n",
       "      <td>28.2</td>\n",
       "      <td>112.00</td>\n",
       "      <td>185.0</td>\n",
       "      <td>113.8</td>\n",
       "      <td>42.0</td>\n",
       "      <td>4.00</td>\n",
       "      <td>4.9836</td>\n",
       "      <td>93.0</td>\n",
       "      <td>178.0</td>\n",
       "    </tr>\n",
       "    <tr>\n",
       "      <th>438</th>\n",
       "      <td>47.0</td>\n",
       "      <td>2.0</td>\n",
       "      <td>24.9</td>\n",
       "      <td>75.00</td>\n",
       "      <td>225.0</td>\n",
       "      <td>166.0</td>\n",
       "      <td>42.0</td>\n",
       "      <td>5.00</td>\n",
       "      <td>4.4427</td>\n",
       "      <td>102.0</td>\n",
       "      <td>104.0</td>\n",
       "    </tr>\n",
       "    <tr>\n",
       "      <th>439</th>\n",
       "      <td>60.0</td>\n",
       "      <td>2.0</td>\n",
       "      <td>24.9</td>\n",
       "      <td>99.67</td>\n",
       "      <td>162.0</td>\n",
       "      <td>106.6</td>\n",
       "      <td>43.0</td>\n",
       "      <td>3.77</td>\n",
       "      <td>4.1271</td>\n",
       "      <td>95.0</td>\n",
       "      <td>132.0</td>\n",
       "    </tr>\n",
       "    <tr>\n",
       "      <th>440</th>\n",
       "      <td>36.0</td>\n",
       "      <td>1.0</td>\n",
       "      <td>30.0</td>\n",
       "      <td>95.00</td>\n",
       "      <td>201.0</td>\n",
       "      <td>125.2</td>\n",
       "      <td>42.0</td>\n",
       "      <td>4.79</td>\n",
       "      <td>5.1299</td>\n",
       "      <td>85.0</td>\n",
       "      <td>220.0</td>\n",
       "    </tr>\n",
       "    <tr>\n",
       "      <th>441</th>\n",
       "      <td>36.0</td>\n",
       "      <td>1.0</td>\n",
       "      <td>19.6</td>\n",
       "      <td>71.00</td>\n",
       "      <td>250.0</td>\n",
       "      <td>133.2</td>\n",
       "      <td>97.0</td>\n",
       "      <td>3.00</td>\n",
       "      <td>4.5951</td>\n",
       "      <td>92.0</td>\n",
       "      <td>57.0</td>\n",
       "    </tr>\n",
       "  </tbody>\n",
       "</table>\n",
       "<p>442 rows × 11 columns</p>\n",
       "</div>"
      ],
      "text/plain": [
       "      age  sex   bmi      bp     s1     s2    s3    s4      s5     s6  target\n",
       "0    59.0  2.0  32.1  101.00  157.0   93.2  38.0  4.00  4.8598   87.0   151.0\n",
       "1    48.0  1.0  21.6   87.00  183.0  103.2  70.0  3.00  3.8918   69.0    75.0\n",
       "2    72.0  2.0  30.5   93.00  156.0   93.6  41.0  4.00  4.6728   85.0   141.0\n",
       "3    24.0  1.0  25.3   84.00  198.0  131.4  40.0  5.00  4.8903   89.0   206.0\n",
       "4    50.0  1.0  23.0  101.00  192.0  125.4  52.0  4.00  4.2905   80.0   135.0\n",
       "..    ...  ...   ...     ...    ...    ...   ...   ...     ...    ...     ...\n",
       "437  60.0  2.0  28.2  112.00  185.0  113.8  42.0  4.00  4.9836   93.0   178.0\n",
       "438  47.0  2.0  24.9   75.00  225.0  166.0  42.0  5.00  4.4427  102.0   104.0\n",
       "439  60.0  2.0  24.9   99.67  162.0  106.6  43.0  3.77  4.1271   95.0   132.0\n",
       "440  36.0  1.0  30.0   95.00  201.0  125.2  42.0  4.79  5.1299   85.0   220.0\n",
       "441  36.0  1.0  19.6   71.00  250.0  133.2  97.0  3.00  4.5951   92.0    57.0\n",
       "\n",
       "[442 rows x 11 columns]"
      ]
     },
     "execution_count": 28,
     "metadata": {},
     "output_type": "execute_result"
    }
   ],
   "source": [
    "dataDF['target']=dataDict.target\n",
    "dataDF"
   ]
  },
  {
   "cell_type": "code",
   "execution_count": 37,
   "metadata": {},
   "outputs": [
    {
     "data": {
      "text/plain": [
       "age       False\n",
       "sex       False\n",
       "bmi        True\n",
       "bp        False\n",
       "s1        False\n",
       "s2        False\n",
       "s3        False\n",
       "s4        False\n",
       "s5         True\n",
       "s6        False\n",
       "target     True\n",
       "Name: target, dtype: bool"
      ]
     },
     "execution_count": 37,
     "metadata": {},
     "output_type": "execute_result"
    }
   ],
   "source": [
    "dataDF.corr()['target']>=0.5"
   ]
  },
  {
   "cell_type": "code",
   "execution_count": 82,
   "metadata": {},
   "outputs": [
    {
     "data": {
      "text/plain": [
       "age       0.187889\n",
       "sex       0.043062\n",
       "bmi       0.586450\n",
       "bp        0.441482\n",
       "s1        0.212022\n",
       "s2        0.174054\n",
       "s3       -0.394789\n",
       "s4        0.430453\n",
       "s5        0.565883\n",
       "s6        0.382483\n",
       "target    1.000000\n",
       "Name: target, dtype: float64"
      ]
     },
     "execution_count": 82,
     "metadata": {},
     "output_type": "execute_result"
    }
   ],
   "source": [
    "dataDF.corr()['target']"
   ]
  },
  {
   "cell_type": "code",
   "execution_count": 33,
   "metadata": {},
   "outputs": [
    {
     "data": {
      "image/png": "[encoded data removed]",
      "text/plain": [
       "<Figure size 640x480 with 1 Axes>"
      ]
     },
     "metadata": {},
     "output_type": "display_data"
    }
   ],
   "source": [
    "plt.scatter(dataDF['target'], dataDF['bmi'], label=round(dataDF.corr()['target']['bmi'],2), marker='^', c='pink')\n",
    "plt.scatter(dataDF['target'], dataDF['s5'], label=round(dataDF.corr()['target']['s5'],2), marker='o', c='r')\n",
    "plt.xlabel(\"target\")\n",
    "\n",
    "plt.legend()\n",
    "plt.show()"
   ]
  },
  {
   "cell_type": "code",
   "execution_count": 35,
   "metadata": {},
   "outputs": [
    {
     "data": {
      "image/png": "[encoded data removed]",
      "text/plain": [
       "<Figure size 640x480 with 1 Axes>"
      ]
     },
     "metadata": {},
     "output_type": "display_data"
    }
   ],
   "source": [
    "plt.scatter(dataDF['bmi'], dataDF['s5'], label=round(dataDF.corr()['s5']['bmi'],2), marker='^', c='pink')\n",
    "\n",
    "plt.xlabel(\"bmi\")\n",
    "plt.ylabel('s5')\n",
    "plt.legend()\n",
    "plt.show()"
   ]
  },
  {
   "cell_type": "markdown",
   "metadata": {},
   "source": [
    "[2] 학습 준비\n",
    "- 학습 알고리즘 : KNN Regressor \n",
    "- 피쳐 스케일링\n",
    "- 학습용 / 테스트용 데이터셋 분리"
   ]
  },
  {
   "cell_type": "markdown",
   "metadata": {},
   "source": [
    "[2-1] 피쳐와 타겟 분리"
   ]
  },
  {
   "cell_type": "code",
   "execution_count": 39,
   "metadata": {},
   "outputs": [
    {
     "name": "stdout",
     "output_type": "stream",
     "text": [
      "features => (442, 2), 2D\n",
      "target => (442,), 1D\n"
     ]
    }
   ],
   "source": [
    "features=dataDF[['bmi','s5']]\n",
    "target=dataDF['target']\n",
    "\n",
    "print(f'features => {features.shape}, {features.ndim}D') #2D\n",
    "print(f'target => {target.shape}, {target.ndim}D') #1D"
   ]
  },
  {
   "cell_type": "markdown",
   "metadata": {},
   "source": [
    "- [2-2] 학습용 & 테스트용 데이터셋 분리\n",
    "* 전체 데이터셋 => 학습용 : 테스트용 = 75:25 , 80:20 , 70:30\n",
    "* 회귀 데이터셋 이므로 => 데이터 셋 구성 요소에 대한 비율은 고려하지 않아도됨 "
   ]
  },
  {
   "cell_type": "code",
   "execution_count": 40,
   "metadata": {},
   "outputs": [],
   "source": [
    "from sklearn.model_selection import train_test_split\n",
    "from sklearn.preprocessing import MinMaxScaler\n",
    "from sklearn.neighbors import KNeighborsClassifier"
   ]
  },
  {
   "cell_type": "code",
   "execution_count": 62,
   "metadata": {},
   "outputs": [],
   "source": [
    "X_train, X_test, y_train, y_test = train_test_split(features, \n",
    "                                                    target,\n",
    "                                                    test_size=0.2,\n",
    "                                                    random_state=10\n",
    "                                                    )\n"
   ]
  },
  {
   "cell_type": "code",
   "execution_count": 63,
   "metadata": {},
   "outputs": [
    {
     "name": "stdout",
     "output_type": "stream",
     "text": [
      " X_train : (353, 2), 2D, y_train : (353,), 1D\n",
      " X_test : (89, 2), 2D, y_test : (89,), 1D\n"
     ]
    }
   ],
   "source": [
    "print( f' X_train : {X_train.shape}, {X_train.ndim}D, y_train : {y_train.shape}, {y_train.ndim}D')\n",
    "print( f' X_test : {X_test.shape}, {X_test.ndim}D, y_test : {y_test.shape}, {y_test.ndim}D')"
   ]
  },
  {
   "cell_type": "code",
   "execution_count": 64,
   "metadata": {},
   "outputs": [],
   "source": [
    "#인덱스 정리\n",
    "X_train=X_train.reset_index(drop=True)\n",
    "y_train=y_train.reset_index(drop=True)\n",
    "\n",
    "X_test=X_test.reset_index(drop=True)\n",
    "y_test=y_test.reset_index(drop=True)"
   ]
  },
  {
   "cell_type": "markdown",
   "metadata": {},
   "source": [
    "- [2-3] 피쳐 스케일링"
   ]
  },
  {
   "cell_type": "code",
   "execution_count": 65,
   "metadata": {},
   "outputs": [],
   "source": [
    "mmScaler = MinMaxScaler()"
   ]
  },
  {
   "cell_type": "code",
   "execution_count": 66,
   "metadata": {},
   "outputs": [
    {
     "data": {
      "text/html": [
       "<style>#sk-container-id-3 {color: black;}#sk-container-id-3 pre{padding: 0;}#sk-container-id-3 div.sk-toggleable {background-color: white;}#sk-container-id-3 label.sk-toggleable__label {cursor: pointer;display: block;width: 100%;margin-bottom: 0;padding: 0.3em;box-sizing: border-box;text-align: center;}#sk-container-id-3 label.sk-toggleable__label-arrow:before {content: \"▸\";float: left;margin-right: 0.25em;color: #696969;}#sk-container-id-3 label.sk-toggleable__label-arrow:hover:before {color: black;}#sk-container-id-3 div.sk-estimator:hover label.sk-toggleable__label-arrow:before {color: black;}#sk-container-id-3 div.sk-toggleable__content {max-height: 0;max-width: 0;overflow: hidden;text-align: left;background-color: #f0f8ff;}#sk-container-id-3 div.sk-toggleable__content pre {margin: 0.2em;color: black;border-radius: 0.25em;background-color: #f0f8ff;}#sk-container-id-3 input.sk-toggleable__control:checked~div.sk-toggleable__content {max-height: 200px;max-width: 100%;overflow: auto;}#sk-container-id-3 input.sk-toggleable__control:checked~label.sk-toggleable__label-arrow:before {content: \"▾\";}#sk-container-id-3 div.sk-estimator input.sk-toggleable__control:checked~label.sk-toggleable__label {background-color: #d4ebff;}#sk-container-id-3 div.sk-label input.sk-toggleable__control:checked~label.sk-toggleable__label {background-color: #d4ebff;}#sk-container-id-3 input.sk-hidden--visually {border: 0;clip: rect(1px 1px 1px 1px);clip: rect(1px, 1px, 1px, 1px);height: 1px;margin: -1px;overflow: hidden;padding: 0;position: absolute;width: 1px;}#sk-container-id-3 div.sk-estimator {font-family: monospace;background-color: #f0f8ff;border: 1px dotted black;border-radius: 0.25em;box-sizing: border-box;margin-bottom: 0.5em;}#sk-container-id-3 div.sk-estimator:hover {background-color: #d4ebff;}#sk-container-id-3 div.sk-parallel-item::after {content: \"\";width: 100%;border-bottom: 1px solid gray;flex-grow: 1;}#sk-container-id-3 div.sk-label:hover label.sk-toggleable__label {background-color: #d4ebff;}#sk-container-id-3 div.sk-serial::before {content: \"\";position: absolute;border-left: 1px solid gray;box-sizing: border-box;top: 0;bottom: 0;left: 50%;z-index: 0;}#sk-container-id-3 div.sk-serial {display: flex;flex-direction: column;align-items: center;background-color: white;padding-right: 0.2em;padding-left: 0.2em;position: relative;}#sk-container-id-3 div.sk-item {position: relative;z-index: 1;}#sk-container-id-3 div.sk-parallel {display: flex;align-items: stretch;justify-content: center;background-color: white;position: relative;}#sk-container-id-3 div.sk-item::before, #sk-container-id-3 div.sk-parallel-item::before {content: \"\";position: absolute;border-left: 1px solid gray;box-sizing: border-box;top: 0;bottom: 0;left: 50%;z-index: -1;}#sk-container-id-3 div.sk-parallel-item {display: flex;flex-direction: column;z-index: 1;position: relative;background-color: white;}#sk-container-id-3 div.sk-parallel-item:first-child::after {align-self: flex-end;width: 50%;}#sk-container-id-3 div.sk-parallel-item:last-child::after {align-self: flex-start;width: 50%;}#sk-container-id-3 div.sk-parallel-item:only-child::after {width: 0;}#sk-container-id-3 div.sk-dashed-wrapped {border: 1px dashed gray;margin: 0 0.4em 0.5em 0.4em;box-sizing: border-box;padding-bottom: 0.4em;background-color: white;}#sk-container-id-3 div.sk-label label {font-family: monospace;font-weight: bold;display: inline-block;line-height: 1.2em;}#sk-container-id-3 div.sk-label-container {text-align: center;}#sk-container-id-3 div.sk-container {/* jupyter's `normalize.less` sets `[hidden] { display: none; }` but bootstrap.min.css set `[hidden] { display: none !important; }` so we also need the `!important` here to be able to override the default hidden behavior on the sphinx rendered scikit-learn.org. See: https://github.com/scikit-learn/scikit-learn/issues/21755 */display: inline-block !important;position: relative;}#sk-container-id-3 div.sk-text-repr-fallback {display: none;}</style><div id=\"sk-container-id-3\" class=\"sk-top-container\"><div class=\"sk-text-repr-fallback\"><pre>MinMaxScaler()</pre><b>In a Jupyter environment, please rerun this cell to show the HTML representation or trust the notebook. <br />On GitHub, the HTML representation is unable to render, please try loading this page with nbviewer.org.</b></div><div class=\"sk-container\" hidden><div class=\"sk-item\"><div class=\"sk-estimator sk-toggleable\"><input class=\"sk-toggleable__control sk-hidden--visually\" id=\"sk-estimator-id-3\" type=\"checkbox\" checked><label for=\"sk-estimator-id-3\" class=\"sk-toggleable__label sk-toggleable__label-arrow\">MinMaxScaler</label><div class=\"sk-toggleable__content\"><pre>MinMaxScaler()</pre></div></div></div></div></div>"
      ],
      "text/plain": [
       "MinMaxScaler()"
      ]
     },
     "execution_count": 66,
     "metadata": {},
     "output_type": "execute_result"
    }
   ],
   "source": [
    "# 스케일러에 데이터셋 전용에 속성값 설정\n",
    "mmScaler.fit(X_train)"
   ]
  },
  {
   "cell_type": "code",
   "execution_count": 67,
   "metadata": {},
   "outputs": [
    {
     "data": {
      "text/plain": [
       "(array([-0.74380165, -1.14363439]), array([18.    ,  3.2581]))"
      ]
     },
     "execution_count": 67,
     "metadata": {},
     "output_type": "execute_result"
    }
   ],
   "source": [
    "mmScaler.min_, mmScaler.data_min_"
   ]
  },
  {
   "cell_type": "code",
   "execution_count": 68,
   "metadata": {},
   "outputs": [
    {
     "data": {
      "text/plain": [
       "(array([0.04132231, 0.35101267]), array([42.2  ,  6.107]))"
      ]
     },
     "execution_count": 68,
     "metadata": {},
     "output_type": "execute_result"
    }
   ],
   "source": [
    "mmScaler.scale_,mmScaler.data_max_"
   ]
  },
  {
   "cell_type": "code",
   "execution_count": 69,
   "metadata": {},
   "outputs": [
    {
     "data": {
      "text/plain": [
       "((89, 2), 0.024793388429752206, 0.8677033240899996)"
      ]
     },
     "execution_count": 69,
     "metadata": {},
     "output_type": "execute_result"
    }
   ],
   "source": [
    "X_train_scaled=mmScaler.transform(X_train)\n",
    "X_train_scaled.shape, X_train_scaled.min(), X_train_scaled.max()\n",
    "X_test_scaled=mmScaler.transform(X_test)\n",
    "X_test_scaled.shape, X_test_scaled.min(), X_test_scaled.max()"
   ]
  },
  {
   "cell_type": "markdown",
   "metadata": {},
   "source": [
    "[3] 학습 진행"
   ]
  },
  {
   "cell_type": "code",
   "execution_count": 70,
   "metadata": {},
   "outputs": [
    {
     "data": {
      "text/html": [
       "<style>#sk-container-id-4 {color: black;}#sk-container-id-4 pre{padding: 0;}#sk-container-id-4 div.sk-toggleable {background-color: white;}#sk-container-id-4 label.sk-toggleable__label {cursor: pointer;display: block;width: 100%;margin-bottom: 0;padding: 0.3em;box-sizing: border-box;text-align: center;}#sk-container-id-4 label.sk-toggleable__label-arrow:before {content: \"▸\";float: left;margin-right: 0.25em;color: #696969;}#sk-container-id-4 label.sk-toggleable__label-arrow:hover:before {color: black;}#sk-container-id-4 div.sk-estimator:hover label.sk-toggleable__label-arrow:before {color: black;}#sk-container-id-4 div.sk-toggleable__content {max-height: 0;max-width: 0;overflow: hidden;text-align: left;background-color: #f0f8ff;}#sk-container-id-4 div.sk-toggleable__content pre {margin: 0.2em;color: black;border-radius: 0.25em;background-color: #f0f8ff;}#sk-container-id-4 input.sk-toggleable__control:checked~div.sk-toggleable__content {max-height: 200px;max-width: 100%;overflow: auto;}#sk-container-id-4 input.sk-toggleable__control:checked~label.sk-toggleable__label-arrow:before {content: \"▾\";}#sk-container-id-4 div.sk-estimator input.sk-toggleable__control:checked~label.sk-toggleable__label {background-color: #d4ebff;}#sk-container-id-4 div.sk-label input.sk-toggleable__control:checked~label.sk-toggleable__label {background-color: #d4ebff;}#sk-container-id-4 input.sk-hidden--visually {border: 0;clip: rect(1px 1px 1px 1px);clip: rect(1px, 1px, 1px, 1px);height: 1px;margin: -1px;overflow: hidden;padding: 0;position: absolute;width: 1px;}#sk-container-id-4 div.sk-estimator {font-family: monospace;background-color: #f0f8ff;border: 1px dotted black;border-radius: 0.25em;box-sizing: border-box;margin-bottom: 0.5em;}#sk-container-id-4 div.sk-estimator:hover {background-color: #d4ebff;}#sk-container-id-4 div.sk-parallel-item::after {content: \"\";width: 100%;border-bottom: 1px solid gray;flex-grow: 1;}#sk-container-id-4 div.sk-label:hover label.sk-toggleable__label {background-color: #d4ebff;}#sk-container-id-4 div.sk-serial::before {content: \"\";position: absolute;border-left: 1px solid gray;box-sizing: border-box;top: 0;bottom: 0;left: 50%;z-index: 0;}#sk-container-id-4 div.sk-serial {display: flex;flex-direction: column;align-items: center;background-color: white;padding-right: 0.2em;padding-left: 0.2em;position: relative;}#sk-container-id-4 div.sk-item {position: relative;z-index: 1;}#sk-container-id-4 div.sk-parallel {display: flex;align-items: stretch;justify-content: center;background-color: white;position: relative;}#sk-container-id-4 div.sk-item::before, #sk-container-id-4 div.sk-parallel-item::before {content: \"\";position: absolute;border-left: 1px solid gray;box-sizing: border-box;top: 0;bottom: 0;left: 50%;z-index: -1;}#sk-container-id-4 div.sk-parallel-item {display: flex;flex-direction: column;z-index: 1;position: relative;background-color: white;}#sk-container-id-4 div.sk-parallel-item:first-child::after {align-self: flex-end;width: 50%;}#sk-container-id-4 div.sk-parallel-item:last-child::after {align-self: flex-start;width: 50%;}#sk-container-id-4 div.sk-parallel-item:only-child::after {width: 0;}#sk-container-id-4 div.sk-dashed-wrapped {border: 1px dashed gray;margin: 0 0.4em 0.5em 0.4em;box-sizing: border-box;padding-bottom: 0.4em;background-color: white;}#sk-container-id-4 div.sk-label label {font-family: monospace;font-weight: bold;display: inline-block;line-height: 1.2em;}#sk-container-id-4 div.sk-label-container {text-align: center;}#sk-container-id-4 div.sk-container {/* jupyter's `normalize.less` sets `[hidden] { display: none; }` but bootstrap.min.css set `[hidden] { display: none !important; }` so we also need the `!important` here to be able to override the default hidden behavior on the sphinx rendered scikit-learn.org. See: https://github.com/scikit-learn/scikit-learn/issues/21755 */display: inline-block !important;position: relative;}#sk-container-id-4 div.sk-text-repr-fallback {display: none;}</style><div id=\"sk-container-id-4\" class=\"sk-top-container\"><div class=\"sk-text-repr-fallback\"><pre>KNeighborsRegressor()</pre><b>In a Jupyter environment, please rerun this cell to show the HTML representation or trust the notebook. <br />On GitHub, the HTML representation is unable to render, please try loading this page with nbviewer.org.</b></div><div class=\"sk-container\" hidden><div class=\"sk-item\"><div class=\"sk-estimator sk-toggleable\"><input class=\"sk-toggleable__control sk-hidden--visually\" id=\"sk-estimator-id-4\" type=\"checkbox\" checked><label for=\"sk-estimator-id-4\" class=\"sk-toggleable__label sk-toggleable__label-arrow\">KNeighborsRegressor</label><div class=\"sk-toggleable__content\"><pre>KNeighborsRegressor()</pre></div></div></div></div></div>"
      ],
      "text/plain": [
       "KNeighborsRegressor()"
      ]
     },
     "execution_count": 70,
     "metadata": {},
     "output_type": "execute_result"
    }
   ],
   "source": [
    "from sklearn.neighbors import KNeighborsRegressor\n",
    "# 학습모델 인스턴스 생성\n",
    "model=KNeighborsRegressor()\n",
    "model.fit(X_train_scaled, y_train)"
   ]
  },
  {
   "cell_type": "code",
   "execution_count": 71,
   "metadata": {},
   "outputs": [
    {
     "data": {
      "text/plain": [
       "(2, 353, 'euclidean', {})"
      ]
     },
     "execution_count": 71,
     "metadata": {},
     "output_type": "execute_result"
    }
   ],
   "source": [
    "# 모델 파라미터 => 학습 후 즉, fit() 실행 후 설정되는 매개변수\n",
    "\n",
    "model.n_features_in_, model.n_samples_fit_, model.effective_metric_, model.effective_metric_params_"
   ]
  },
  {
   "cell_type": "code",
   "execution_count": 72,
   "metadata": {},
   "outputs": [],
   "source": [
    "scores={}\n",
    "for k in range(1, model.n_samples_fit_+1):\n",
    "    # 최근접 이웃의 갯수 설정 <== 모델 성능 좌우 : 하이퍼 파라미터, hyper parameter\n",
    "    model.n_neighbors=k\n",
    "\n",
    "    # 성능 평가\n",
    "    score= model.score(X_test_scaled, y_test)\n",
    "\n",
    "    scores[k]=score"
   ]
  },
  {
   "cell_type": "code",
   "execution_count": 73,
   "metadata": {},
   "outputs": [
    {
     "data": {
      "text/plain": [
       "[1,\n",
       " 2,\n",
       " 3,\n",
       " 4,\n",
       " 5,\n",
       " 6,\n",
       " 7,\n",
       " 8,\n",
       " 9,\n",
       " 10,\n",
       " 11,\n",
       " 12,\n",
       " 13,\n",
       " 14,\n",
       " 15,\n",
       " 16,\n",
       " 17,\n",
       " 18,\n",
       " 19,\n",
       " 20,\n",
       " 21,\n",
       " 22,\n",
       " 23,\n",
       " 24,\n",
       " 25,\n",
       " 26,\n",
       " 27,\n",
       " 28,\n",
       " 29,\n",
       " 30,\n",
       " 31,\n",
       " 32,\n",
       " 33,\n",
       " 34,\n",
       " 35,\n",
       " 36,\n",
       " 37,\n",
       " 38,\n",
       " 39,\n",
       " 40,\n",
       " 41,\n",
       " 42,\n",
       " 43,\n",
       " 44,\n",
       " 45,\n",
       " 46,\n",
       " 47,\n",
       " 48,\n",
       " 49,\n",
       " 50,\n",
       " 51,\n",
       " 52,\n",
       " 53,\n",
       " 54,\n",
       " 55,\n",
       " 56,\n",
       " 57,\n",
       " 58,\n",
       " 59,\n",
       " 60,\n",
       " 61,\n",
       " 62,\n",
       " 63,\n",
       " 64,\n",
       " 65,\n",
       " 66,\n",
       " 67,\n",
       " 68,\n",
       " 69,\n",
       " 70,\n",
       " 71,\n",
       " 72,\n",
       " 73,\n",
       " 74,\n",
       " 75,\n",
       " 76,\n",
       " 77,\n",
       " 78,\n",
       " 79,\n",
       " 80,\n",
       " 81,\n",
       " 82,\n",
       " 83,\n",
       " 84,\n",
       " 85,\n",
       " 86,\n",
       " 87,\n",
       " 88,\n",
       " 89,\n",
       " 90,\n",
       " 91,\n",
       " 92,\n",
       " 93,\n",
       " 94,\n",
       " 95,\n",
       " 96,\n",
       " 97,\n",
       " 98,\n",
       " 99,\n",
       " 100,\n",
       " 101,\n",
       " 102,\n",
       " 103,\n",
       " 104,\n",
       " 105,\n",
       " 106,\n",
       " 107,\n",
       " 108,\n",
       " 109,\n",
       " 110,\n",
       " 111,\n",
       " 112,\n",
       " 113,\n",
       " 114,\n",
       " 115,\n",
       " 116,\n",
       " 117,\n",
       " 118,\n",
       " 119,\n",
       " 120,\n",
       " 121,\n",
       " 122,\n",
       " 123,\n",
       " 124,\n",
       " 125,\n",
       " 126,\n",
       " 127,\n",
       " 128,\n",
       " 129,\n",
       " 130,\n",
       " 131,\n",
       " 132,\n",
       " 133,\n",
       " 134,\n",
       " 135,\n",
       " 136,\n",
       " 137,\n",
       " 138,\n",
       " 139,\n",
       " 140,\n",
       " 141,\n",
       " 142,\n",
       " 143,\n",
       " 144,\n",
       " 145,\n",
       " 146,\n",
       " 147,\n",
       " 148,\n",
       " 149,\n",
       " 150,\n",
       " 151,\n",
       " 152,\n",
       " 153,\n",
       " 154,\n",
       " 155,\n",
       " 156,\n",
       " 157,\n",
       " 158,\n",
       " 159,\n",
       " 160,\n",
       " 161,\n",
       " 162,\n",
       " 163,\n",
       " 164,\n",
       " 165,\n",
       " 166,\n",
       " 167,\n",
       " 168,\n",
       " 169,\n",
       " 170,\n",
       " 171,\n",
       " 172,\n",
       " 173,\n",
       " 174,\n",
       " 175,\n",
       " 176,\n",
       " 177,\n",
       " 178,\n",
       " 179,\n",
       " 180,\n",
       " 181,\n",
       " 182,\n",
       " 183,\n",
       " 184,\n",
       " 185,\n",
       " 186,\n",
       " 187,\n",
       " 188,\n",
       " 189,\n",
       " 190,\n",
       " 191,\n",
       " 192,\n",
       " 193,\n",
       " 194,\n",
       " 195,\n",
       " 196,\n",
       " 197,\n",
       " 198,\n",
       " 199,\n",
       " 200,\n",
       " 201,\n",
       " 202,\n",
       " 203,\n",
       " 204,\n",
       " 205,\n",
       " 206,\n",
       " 207,\n",
       " 208,\n",
       " 209,\n",
       " 210,\n",
       " 211,\n",
       " 212,\n",
       " 213,\n",
       " 214,\n",
       " 215,\n",
       " 216,\n",
       " 217,\n",
       " 218,\n",
       " 219,\n",
       " 220,\n",
       " 221,\n",
       " 222,\n",
       " 223,\n",
       " 224,\n",
       " 225,\n",
       " 226,\n",
       " 227,\n",
       " 228,\n",
       " 229,\n",
       " 230,\n",
       " 231,\n",
       " 232,\n",
       " 233,\n",
       " 234,\n",
       " 235,\n",
       " 236,\n",
       " 237,\n",
       " 238,\n",
       " 239,\n",
       " 240,\n",
       " 241,\n",
       " 242,\n",
       " 243,\n",
       " 244,\n",
       " 245,\n",
       " 246,\n",
       " 247,\n",
       " 248,\n",
       " 249,\n",
       " 250,\n",
       " 251,\n",
       " 252,\n",
       " 253,\n",
       " 254,\n",
       " 255,\n",
       " 256,\n",
       " 257,\n",
       " 258,\n",
       " 259,\n",
       " 260,\n",
       " 261,\n",
       " 262,\n",
       " 263,\n",
       " 264,\n",
       " 265,\n",
       " 266,\n",
       " 267,\n",
       " 268,\n",
       " 269,\n",
       " 270,\n",
       " 271,\n",
       " 272,\n",
       " 273,\n",
       " 274,\n",
       " 275,\n",
       " 276,\n",
       " 277,\n",
       " 278,\n",
       " 279,\n",
       " 280,\n",
       " 281,\n",
       " 282,\n",
       " 283,\n",
       " 284,\n",
       " 285,\n",
       " 286,\n",
       " 287,\n",
       " 288,\n",
       " 289,\n",
       " 290,\n",
       " 291,\n",
       " 292,\n",
       " 293,\n",
       " 294,\n",
       " 295,\n",
       " 296,\n",
       " 297,\n",
       " 298,\n",
       " 299,\n",
       " 300,\n",
       " 301,\n",
       " 302,\n",
       " 303,\n",
       " 304,\n",
       " 305,\n",
       " 306,\n",
       " 307,\n",
       " 308,\n",
       " 309,\n",
       " 310,\n",
       " 311,\n",
       " 312,\n",
       " 313,\n",
       " 314,\n",
       " 315,\n",
       " 316,\n",
       " 317,\n",
       " 318,\n",
       " 319,\n",
       " 320,\n",
       " 321,\n",
       " 322,\n",
       " 323,\n",
       " 324,\n",
       " 325,\n",
       " 326,\n",
       " 327,\n",
       " 328,\n",
       " 329,\n",
       " 330,\n",
       " 331,\n",
       " 332,\n",
       " 333,\n",
       " 334,\n",
       " 335,\n",
       " 336,\n",
       " 337,\n",
       " 338,\n",
       " 339,\n",
       " 340,\n",
       " 341,\n",
       " 342,\n",
       " 343,\n",
       " 344,\n",
       " 345,\n",
       " 346,\n",
       " 347,\n",
       " 348,\n",
       " 349,\n",
       " 350,\n",
       " 351,\n",
       " 352,\n",
       " 353]"
      ]
     },
     "execution_count": 73,
     "metadata": {},
     "output_type": "execute_result"
    }
   ],
   "source": [
    "list(scores.keys())"
   ]
  },
  {
   "cell_type": "code",
   "execution_count": 74,
   "metadata": {},
   "outputs": [
    {
     "data": {
      "image/png": "[encoded data removed]",
      "text/plain": [
       "<Figure size 640x480 with 1 Axes>"
      ]
     },
     "metadata": {},
     "output_type": "display_data"
    }
   ],
   "source": [
    "plt.plot(list(scores.keys()), list(scores.values()))\n",
    "plt.grid()\n",
    "plt.show()"
   ]
  },
  {
   "cell_type": "code",
   "execution_count": 75,
   "metadata": {},
   "outputs": [
    {
     "data": {
      "text/plain": [
       "[(24, 0.5112224630087435),\n",
       " (17, 0.5080511207008159),\n",
       " (18, 0.5076055188010179),\n",
       " (21, 0.5061031217684944),\n",
       " (22, 0.5027455634689608),\n",
       " (19, 0.5026849522304262),\n",
       " (25, 0.5023404324448336),\n",
       " (26, 0.5013180118491473),\n",
       " (23, 0.4990834467759775),\n",
       " (14, 0.49754878697835037),\n",
       " (20, 0.4964057543489254),\n",
       " (28, 0.49404659464353884),\n",
       " (27, 0.4936406376547462),\n",
       " (15, 0.4931666205308882),\n",
       " (29, 0.49311686076294803),\n",
       " (16, 0.4930210993422942),\n",
       " (13, 0.489793444212099),\n",
       " (34, 0.4891967983240334),\n",
       " (33, 0.48766962498381805),\n",
       " (12, 0.4863024938093684),\n",
       " (30, 0.48500868981749257),\n",
       " (35, 0.48364158049922523),\n",
       " (32, 0.48342109334024974),\n",
       " (11, 0.48333852933885235),\n",
       " (36, 0.48262392831116874),\n",
       " (37, 0.48166791323177727),\n",
       " (41, 0.4809293108449204),\n",
       " (31, 0.48031903354564154),\n",
       " (40, 0.47841918606641376),\n",
       " (39, 0.478171965013956),\n",
       " (38, 0.4780761603265896),\n",
       " (43, 0.4754415519760483),\n",
       " (42, 0.47424967078661784),\n",
       " (48, 0.47302194531800335),\n",
       " (44, 0.47252323593203616),\n",
       " (51, 0.47013429974611276),\n",
       " (50, 0.4701221005709707),\n",
       " (45, 0.46930425460838177),\n",
       " (49, 0.46927466702429355),\n",
       " (47, 0.4687602501882838),\n",
       " (46, 0.4671744117379262),\n",
       " (53, 0.4648027209897313),\n",
       " (10, 0.46476203356189394),\n",
       " (52, 0.4644805741900475),\n",
       " (9, 0.46426100495892797),\n",
       " (8, 0.4611824378787689),\n",
       " (54, 0.46078748463464936),\n",
       " (57, 0.46034651346277344),\n",
       " (61, 0.45909844178884396),\n",
       " (55, 0.4590642720390593),\n",
       " (58, 0.458650617473077),\n",
       " (62, 0.45828725127381875),\n",
       " (59, 0.4579773457695312),\n",
       " (56, 0.4574376151954208),\n",
       " (60, 0.45734583422194064),\n",
       " (64, 0.456713924579358),\n",
       " (63, 0.45645984378732407),\n",
       " (65, 0.45522016768074347),\n",
       " (78, 0.45498516239935305),\n",
       " (66, 0.45476996217297894),\n",
       " (77, 0.4545692903637901),\n",
       " (75, 0.4545212825674615),\n",
       " (74, 0.4544106891154098),\n",
       " (79, 0.45404250927985024),\n",
       " (72, 0.45329140663820466),\n",
       " (73, 0.4530973710823264),\n",
       " (67, 0.4529453760158356),\n",
       " (76, 0.4518656046808537),\n",
       " (69, 0.45145168475400055),\n",
       " (71, 0.451174022141305),\n",
       " (68, 0.4506708099392781),\n",
       " (70, 0.44993635585201885),\n",
       " (80, 0.44960337043740484),\n",
       " (81, 0.4491495768307744),\n",
       " (82, 0.4490706032738241),\n",
       " (83, 0.4485852344530963),\n",
       " (86, 0.44638247186885827),\n",
       " (84, 0.44624649559804475),\n",
       " (85, 0.44511193458223774),\n",
       " (87, 0.44376480720443323),\n",
       " (88, 0.4431152690145095),\n",
       " (93, 0.4415895440357732),\n",
       " (89, 0.4412720109143864),\n",
       " (94, 0.4411043359231437),\n",
       " (95, 0.4402486056337772),\n",
       " (92, 0.43951215490637774),\n",
       " (91, 0.43916513980311245),\n",
       " (96, 0.4391144301165757),\n",
       " (90, 0.4389752220027532),\n",
       " (7, 0.43896701746491096),\n",
       " (103, 0.43771721610161884),\n",
       " (101, 0.43695578643581956),\n",
       " (98, 0.4368036513440222),\n",
       " (102, 0.4366646669711721),\n",
       " (106, 0.4361706078135458),\n",
       " (99, 0.43593120298222243),\n",
       " (104, 0.43574699313958387),\n",
       " (105, 0.43567814160709883),\n",
       " (97, 0.43459948872609144),\n",
       " (100, 0.4345896276633987),\n",
       " (107, 0.434526756092143),\n",
       " (108, 0.4332423691001006),\n",
       " (109, 0.43206427061491937),\n",
       " (111, 0.4313912418758131),\n",
       " (110, 0.4307523250068972),\n",
       " (112, 0.43057812066438106),\n",
       " (113, 0.4277354128145515),\n",
       " (114, 0.4276388986905103),\n",
       " (115, 0.4264439685629482),\n",
       " (123, 0.4263209597266079),\n",
       " (122, 0.42593132224688557),\n",
       " (116, 0.4249636827798995),\n",
       " (118, 0.4248919889760363),\n",
       " (124, 0.4247286381152553),\n",
       " (117, 0.42430980614920855),\n",
       " (120, 0.4242366512542649),\n",
       " (121, 0.4237638410497958),\n",
       " (119, 0.4232171955055062),\n",
       " (125, 0.42188132168816017),\n",
       " (130, 0.4217695668960959),\n",
       " (129, 0.4216788152514377),\n",
       " (126, 0.42152295727875144),\n",
       " (127, 0.4215052720636844),\n",
       " (138, 0.42131409264934494),\n",
       " (128, 0.42064047548572936),\n",
       " (134, 0.42036933379173935),\n",
       " (132, 0.42006372279266824),\n",
       " (139, 0.42002622645481735),\n",
       " (131, 0.4197630033468196),\n",
       " (136, 0.41971590671896375),\n",
       " (135, 0.4195930802739454),\n",
       " (133, 0.4194356381817843),\n",
       " (137, 0.4191713930093345),\n",
       " (141, 0.41877461872434385),\n",
       " (140, 0.4187553607745659),\n",
       " (143, 0.416529515424068),\n",
       " (142, 0.4162443340779378),\n",
       " (144, 0.41516472458494025),\n",
       " (145, 0.4132949726734827),\n",
       " (6, 0.4130971122009567),\n",
       " (146, 0.41281984019520657),\n",
       " (147, 0.4123499805486571),\n",
       " (148, 0.4118724124691949),\n",
       " (149, 0.40958236931207526),\n",
       " (150, 0.40845062863857806),\n",
       " (151, 0.40738435217644875),\n",
       " (5, 0.4066923576531717),\n",
       " (152, 0.4045706752796102),\n",
       " (153, 0.4042052099201926),\n",
       " (154, 0.4032940499036066),\n",
       " (155, 0.4031855940310505),\n",
       " (4, 0.40225509500222956),\n",
       " (156, 0.4015989837653453),\n",
       " (162, 0.4004117460006891),\n",
       " (160, 0.40011814460685735),\n",
       " (159, 0.3999702746425631),\n",
       " (158, 0.39968782868821173),\n",
       " (157, 0.3995699077865824),\n",
       " (163, 0.39929371842574923),\n",
       " (161, 0.39924931085560034),\n",
       " (164, 0.39884152976659626),\n",
       " (166, 0.39629770913645657),\n",
       " (165, 0.395900338054179),\n",
       " (167, 0.3930234104154432),\n",
       " (168, 0.3912459409222284),\n",
       " (169, 0.3910218034304379),\n",
       " (171, 0.38953555143580154),\n",
       " (170, 0.38947218424855),\n",
       " (172, 0.3884234744021843),\n",
       " (173, 0.3868656441705076),\n",
       " (174, 0.3866355990070328),\n",
       " (175, 0.385412671409731),\n",
       " (176, 0.3839993121790981),\n",
       " (177, 0.3834256415672067),\n",
       " (178, 0.3816575995203081),\n",
       " (179, 0.38141887093446636),\n",
       " (180, 0.37890069735124277),\n",
       " (181, 0.37889416480597515),\n",
       " (182, 0.37746764845233316),\n",
       " (183, 0.3753889361745437),\n",
       " (184, 0.37405706927865845),\n",
       " (185, 0.37245524453412504),\n",
       " (186, 0.3695312392603488),\n",
       " (187, 0.3678252983758328),\n",
       " (189, 0.36550053499498014),\n",
       " (188, 0.3654230341013537),\n",
       " (190, 0.3643014806337559),\n",
       " (191, 0.36272421886962924),\n",
       " (192, 0.36127244232478795),\n",
       " (193, 0.35871605821070807),\n",
       " (194, 0.3566299368909095),\n",
       " (195, 0.355500625588962),\n",
       " (196, 0.35486538503246745),\n",
       " (197, 0.35213980000470857),\n",
       " (198, 0.3497478652899396),\n",
       " (199, 0.34865759540846564),\n",
       " (200, 0.34680906590043803),\n",
       " (201, 0.34456032753439203),\n",
       " (202, 0.3426072404162501),\n",
       " (203, 0.3414976801211298),\n",
       " (204, 0.3395184075897246),\n",
       " (205, 0.33688343360056816),\n",
       " (206, 0.3344483410526805),\n",
       " (207, 0.33403176288899605),\n",
       " (208, 0.33291447482842706),\n",
       " (209, 0.3325626945533109),\n",
       " (210, 0.3317470258038988),\n",
       " (211, 0.32897436049837847),\n",
       " (212, 0.32782786962014765),\n",
       " (213, 0.3258410932531034),\n",
       " (214, 0.32350383782450676),\n",
       " (215, 0.3220234999889736),\n",
       " (3, 0.3210749403017388),\n",
       " (216, 0.32073829387177943),\n",
       " (217, 0.3193789910869226),\n",
       " (218, 0.3168662741130368),\n",
       " (219, 0.3146917014771765),\n",
       " (220, 0.312725617326698),\n",
       " (221, 0.31088820414814944),\n",
       " (222, 0.31045464645777576),\n",
       " (223, 0.3086942757227996),\n",
       " (224, 0.3077067926375082),\n",
       " (225, 0.3062334574296016),\n",
       " (226, 0.3041480517880646),\n",
       " (227, 0.3026933353058072),\n",
       " (228, 0.3011116467101099),\n",
       " (229, 0.29833473977341474),\n",
       " (230, 0.29612107787603525),\n",
       " (231, 0.29400286704946743),\n",
       " (232, 0.29265504523061225),\n",
       " (233, 0.2905301144151635),\n",
       " (234, 0.2892774827685014),\n",
       " (235, 0.2879966396805702),\n",
       " (236, 0.28682694840167655),\n",
       " (237, 0.2847246542596763),\n",
       " (238, 0.28403632363386366),\n",
       " (239, 0.2820268866840304),\n",
       " (240, 0.2807431154134884),\n",
       " (241, 0.2796330012718361),\n",
       " (242, 0.27763375085083386),\n",
       " (243, 0.2759065223306453),\n",
       " (244, 0.27488830709509127),\n",
       " (245, 0.2728566102771185),\n",
       " (246, 0.2708940280367791),\n",
       " (247, 0.26912651197900384),\n",
       " (248, 0.2661136407743805),\n",
       " (249, 0.2641810032433588),\n",
       " (250, 0.26336159333350573),\n",
       " (251, 0.26094595240086715),\n",
       " (252, 0.2586538206374339),\n",
       " (253, 0.2561366687172628),\n",
       " (254, 0.2528864019641416),\n",
       " (255, 0.25140228334777737),\n",
       " (256, 0.2491628043336248),\n",
       " (257, 0.24782209521594256),\n",
       " (258, 0.245459386536802),\n",
       " (259, 0.24351170763615526),\n",
       " (260, 0.24196018435010314),\n",
       " (261, 0.23987360181442274),\n",
       " (262, 0.23746974072971416),\n",
       " (263, 0.2347696990028767),\n",
       " (264, 0.23410791041451817),\n",
       " (265, 0.23233377631165564),\n",
       " (266, 0.23165231107968465),\n",
       " (267, 0.23046585945735232),\n",
       " (268, 0.2288294108596166),\n",
       " (269, 0.22755771210661413),\n",
       " (270, 0.2259772637112455),\n",
       " (271, 0.2239531099726504),\n",
       " (272, 0.22154307424859931),\n",
       " (273, 0.21999616287679724),\n",
       " (274, 0.21760148627136777),\n",
       " (275, 0.21507996030495236),\n",
       " (276, 0.21304959753884456),\n",
       " (277, 0.21119905554159435),\n",
       " (278, 0.20811360360990339),\n",
       " (279, 0.2057324771269503),\n",
       " (2, 0.20354856279869327),\n",
       " (280, 0.20336490227691517),\n",
       " (281, 0.20087164965677806),\n",
       " (282, 0.19862547204498848),\n",
       " (283, 0.19622833795818706),\n",
       " (284, 0.1941157998270373),\n",
       " (285, 0.19152779568543377),\n",
       " (286, 0.18883644043008474),\n",
       " (287, 0.18609668378483868),\n",
       " (288, 0.18386031943322734),\n",
       " (289, 0.18087712586078764),\n",
       " (290, 0.17846418283156662),\n",
       " (291, 0.17677031566101242),\n",
       " (292, 0.1748221552624334),\n",
       " (293, 0.17128051753899698),\n",
       " (294, 0.1688817509812185),\n",
       " (295, 0.16590501249446854),\n",
       " (296, 0.16404477572795628),\n",
       " (297, 0.1618052378538114),\n",
       " (298, 0.15938099702772024),\n",
       " (299, 0.15661397285232737),\n",
       " (300, 0.15378635342425317),\n",
       " (301, 0.15218509277752468),\n",
       " (302, 0.14903633297421104),\n",
       " (303, 0.14668268705242626),\n",
       " (304, 0.14474653165288665),\n",
       " (305, 0.14185579887591293),\n",
       " (306, 0.1390788029372767),\n",
       " (307, 0.13616903981754902),\n",
       " (308, 0.13440831865023783),\n",
       " (309, 0.13091969042238305),\n",
       " (310, 0.12955927244314902),\n",
       " (311, 0.12687578292561086),\n",
       " (312, 0.1251512728287819),\n",
       " (313, 0.12234451188269746),\n",
       " (314, 0.120064377911964),\n",
       " (315, 0.11719234651113097),\n",
       " (316, 0.11501141332154297),\n",
       " (317, 0.11325613601328754),\n",
       " (318, 0.11013705900141302),\n",
       " (319, 0.10774453953754426),\n",
       " (320, 0.10452150206451194),\n",
       " (321, 0.10207820389090039),\n",
       " (322, 0.09878709181546186),\n",
       " (323, 0.09530319113780006),\n",
       " (324, 0.09175546054455064),\n",
       " (325, 0.08834060279531897),\n",
       " (326, 0.08583096018006364),\n",
       " (327, 0.0826166888650266),\n",
       " (328, 0.07963825429665106),\n",
       " (329, 0.07729180246354284),\n",
       " (330, 0.07403744009573976),\n",
       " (1, 0.07361645846325848),\n",
       " (331, 0.07050340451760362),\n",
       " (332, 0.0657130521898317),\n",
       " (333, 0.06161207280063996),\n",
       " (334, 0.05888033214012389),\n",
       " (335, 0.05542040844862939),\n",
       " (336, 0.051618906082406824),\n",
       " (337, 0.04802669344505983),\n",
       " (338, 0.04579702026136634),\n",
       " (339, 0.04175661278979037),\n",
       " (340, 0.03805620826036449),\n",
       " (341, 0.0348364416252388),\n",
       " (342, 0.03265744972976248),\n",
       " (343, 0.028914331367076884),\n",
       " (344, 0.02592256199423193),\n",
       " (345, 0.02396576145437701),\n",
       " (346, 0.020277897754230056),\n",
       " (347, 0.016576710806377237),\n",
       " (348, 0.012842342443003307),\n",
       " (349, 0.009816677416432218),\n",
       " (350, 0.0071699562482026025),\n",
       " (351, 0.004562045488854416),\n",
       " (352, 0.0004889163580378275),\n",
       " (353, -0.0024273691986156365)]"
      ]
     },
     "execution_count": 75,
     "metadata": {},
     "output_type": "execute_result"
    }
   ],
   "source": [
    "#                                 x=(key, value) 튜플형태   \n",
    "sorted(scores.items(), key=lambda x:x[1], reverse=True)"
   ]
  },
  {
   "cell_type": "code",
   "execution_count": 76,
   "metadata": {},
   "outputs": [
    {
     "data": {
      "text/plain": [
       "(24, 0.5112224630087435)"
      ]
     },
     "execution_count": 76,
     "metadata": {},
     "output_type": "execute_result"
    }
   ],
   "source": [
    "# 최고 성능의 K 값\n",
    "best_k=sorted(scores.items(), key=lambda x:x[1], reverse=True)[0][0]\n",
    "sorted(scores.items(), key=lambda x:x[1], reverse=True)[0]"
   ]
  },
  {
   "cell_type": "code",
   "execution_count": 77,
   "metadata": {},
   "outputs": [],
   "source": [
    "# 모델에 적용 => n_neighbors 에 설정\n",
    "model.n_neighbors=best_k\n"
   ]
  },
  {
   "cell_type": "code",
   "execution_count": 95,
   "metadata": {},
   "outputs": [],
   "source": [
    "def find_best_k(columns):\n",
    "\tfeatures=dataDF[columns]\n",
    "\ttarget=dataDF['target']\n",
    "\n",
    "\tprint(f'features => {features.shape}, {features.ndim}D') #2D\n",
    "\tprint(f'target => {target.shape}, {target.ndim}D') #1D\n",
    "\n",
    "\tX_train, X_test, y_train, y_test = train_test_split(features, \n",
    "\t\t\t\t\t\t\t\t\t\t\t\t\t\ttarget,\n",
    "\t\t\t\t\t\t\t\t\t\t\t\t\t\ttest_size=0.2,\n",
    "\t\t\t\t\t\t\t\t\t\t\t\t\t\trandom_state=10\n",
    "\t\t\t\t\t\t\t\t\t\t\t\t\t\t)\n",
    "\tprint( f' X_train : {X_train.shape}, {X_train.ndim}D, y_train : {y_train.shape}, {y_train.ndim}D')\n",
    "\tprint( f' X_test : {X_test.shape}, {X_test.ndim}D, y_test : {y_test.shape}, {y_test.ndim}D')\n",
    "\n",
    "\t#인덱스 정리\n",
    "\tX_train=X_train.reset_index(drop=True)\n",
    "\ty_train=y_train.reset_index(drop=True)\n",
    "\n",
    "\tX_test=X_test.reset_index(drop=True)\n",
    "\ty_test=y_test.reset_index(drop=True)\n",
    "\n",
    "\tmmScaler = MinMaxScaler()\n",
    "\tmmScaler.fit(X_train)\n",
    "\n",
    "\tprint(f'mmScaler.min_: {mmScaler.min_},mmScaler.data_min_: {mmScaler.data_min_}')\n",
    "\tprint(f'mmScaler.scale_ : {mmScaler.scale_},mmScaler.data_max_: {mmScaler.data_max_}')\n",
    "\n",
    "\tmmScaler.min_, mmScaler.data_min_\n",
    "\tmmScaler.scale_,mmScaler.data_max_\n",
    "\n",
    "\tX_train_scaled=mmScaler.transform(X_train)\n",
    "\tX_train_scaled.shape, X_train_scaled.min(), X_train_scaled.max()\n",
    "\tX_test_scaled=mmScaler.transform(X_test)\n",
    "\tX_test_scaled.shape, X_test_scaled.min(), X_test_scaled.max()\n",
    "\n",
    "\n",
    "\t# 학습모델 인스턴스 생성\n",
    "\tmodel=KNeighborsRegressor()\n",
    "\tmodel.fit(X_train_scaled, y_train)\n",
    "\n",
    "\tscores={}\n",
    "\tfor k in range(1, model.n_samples_fit_+1):\n",
    "\t\t# 최근접 이웃의 갯수 설정 <== 모델 성능 좌우 : 하이퍼 파라미터, hyper parameter\n",
    "\t\tmodel.n_neighbors=k\n",
    "\n",
    "\t\t# 성능 평가\n",
    "\t\tscore= model.score(X_test_scaled, y_test)\n",
    "\n",
    "\t\tscores[k]=score\n",
    "\n",
    "\tlist(scores.keys())\n",
    "\n",
    "\tplt.plot(list(scores.keys()), list(scores.values()))\n",
    "\tplt.grid()\n",
    "\tplt.show()\n",
    "\n",
    "\n",
    "\treturn sorted(scores.items(), key=lambda x:x[1], reverse=True)[0]"
   ]
  },
  {
   "cell_type": "code",
   "execution_count": 96,
   "metadata": {},
   "outputs": [
    {
     "name": "stdout",
     "output_type": "stream",
     "text": [
      "features => (442, 3), 2D\n",
      "target => (442,), 1D\n",
      " X_train : (353, 3), 2D, y_train : (353,), 1D\n",
      " X_test : (89, 3), 2D, y_test : (89,), 1D\n",
      "mmScaler.min_: [-0.74380165 -1.14363439 -0.87323944],mmScaler.data_min_: [18.      3.2581 62.    ]\n",
      "mmScaler.scale_ : [0.04132231 0.35101267 0.01408451],mmScaler.data_max_: [ 42.2     6.107 133.   ]\n"
     ]
    },
    {
     "data": {
      "image/png": "[encoded data removed]",
      "text/plain": [
       "<Figure size 640x480 with 1 Axes>"
      ]
     },
     "metadata": {},
     "output_type": "display_data"
    },
    {
     "name": "stdout",
     "output_type": "stream",
     "text": [
      "(24, 0.503031429612016)\n"
     ]
    }
   ],
   "source": [
    "print(find_best_k(['bmi','s5','bp']))"
   ]
  },
  {
   "cell_type": "code",
   "execution_count": 97,
   "metadata": {},
   "outputs": [
    {
     "name": "stdout",
     "output_type": "stream",
     "text": [
      "features => (442, 4), 2D\n",
      "target => (442,), 1D\n",
      " X_train : (353, 4), 2D, y_train : (353,), 1D\n",
      " X_test : (89, 4), 2D, y_test : (89,), 1D\n",
      "mmScaler.min_: [-0.74380165 -1.14363439 -0.87323944 -0.28208745],mmScaler.data_min_: [18.      3.2581 62.      2.    ]\n",
      "mmScaler.scale_ : [0.04132231 0.35101267 0.01408451 0.14104372],mmScaler.data_max_: [ 42.2     6.107 133.      9.09 ]\n"
     ]
    },
    {
     "data": {
      "image/png": "[encoded data removed]",
      "text/plain": [
       "<Figure size 640x480 with 1 Axes>"
      ]
     },
     "metadata": {},
     "output_type": "display_data"
    },
    {
     "name": "stdout",
     "output_type": "stream",
     "text": [
      "(25, 0.4619302371450822)\n"
     ]
    }
   ],
   "source": [
    "print(find_best_k(['bmi','s5','bp','s4']))"
   ]
  },
  {
   "cell_type": "code",
   "execution_count": 98,
   "metadata": {},
   "outputs": [
    {
     "name": "stdout",
     "output_type": "stream",
     "text": [
      "features => (442, 1), 2D\n",
      "target => (442,), 1D\n",
      " X_train : (353, 1), 2D, y_train : (353,), 1D\n",
      " X_test : (89, 1), 2D, y_test : (89,), 1D\n",
      "mmScaler.min_: [-0.74380165],mmScaler.data_min_: [18.]\n",
      "mmScaler.scale_ : [0.04132231],mmScaler.data_max_: [42.2]\n"
     ]
    },
    {
     "data": {
      "image/png": "[encoded data removed]",
      "text/plain": [
       "<Figure size 640x480 with 1 Axes>"
      ]
     },
     "metadata": {},
     "output_type": "display_data"
    },
    {
     "name": "stdout",
     "output_type": "stream",
     "text": [
      "(14, 0.40430589216529844)\n"
     ]
    }
   ],
   "source": [
    "print(find_best_k(['bmi']))"
   ]
  },
  {
   "cell_type": "code",
   "execution_count": 99,
   "metadata": {},
   "outputs": [
    {
     "name": "stdout",
     "output_type": "stream",
     "text": [
      "features => (442, 1), 2D\n",
      "target => (442,), 1D\n",
      " X_train : (353, 1), 2D, y_train : (353,), 1D\n",
      " X_test : (89, 1), 2D, y_test : (89,), 1D\n",
      "mmScaler.min_: [-1.14363439],mmScaler.data_min_: [3.2581]\n",
      "mmScaler.scale_ : [0.35101267],mmScaler.data_max_: [6.107]\n"
     ]
    },
    {
     "data": {
      "image/png": "[encoded data removed]",
      "text/plain": [
       "<Figure size 640x480 with 1 Axes>"
      ]
     },
     "metadata": {},
     "output_type": "display_data"
    },
    {
     "name": "stdout",
     "output_type": "stream",
     "text": [
      "(58, 0.3495717724806906)\n"
     ]
    }
   ],
   "source": [
    "print(find_best_k(['s5']))"
   ]
  },
  {
   "cell_type": "markdown",
   "metadata": {},
   "source": [
    "결론: ['bmi','s5'] 일때 , (24, 0.5112224630087435) 가장 높음"
   ]
  },
  {
   "cell_type": "markdown",
   "metadata": {},
   "source": []
  }
 ],
 "metadata": {
  "kernelspec": {
   "display_name": "ML_38",
   "language": "python",
   "name": "python3"
  },
  "language_info": {
   "codemirror_mode": {
    "name": "ipython",
    "version": 3
   },
   "file_extension": ".py",
   "mimetype": "text/x-python",
   "name": "python",
   "nbconvert_exporter": "python",
   "pygments_lexer": "ipython3",
   "version": "3.8.19"
  }
 },
 "nbformat": 4,
 "nbformat_minor": 2
}
