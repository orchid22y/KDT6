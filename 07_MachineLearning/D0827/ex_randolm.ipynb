{
 "cells": [
  {
   "cell_type": "markdown",
   "metadata": {},
   "source": [
    "### 임의의 숫자 즉, 난수 추출\n",
    "- random 모듈 존재\n",
    "- 0.0 ~ 1.0 실수 추출\n",
    "- n ~ m 정수 추출\n",
    "- random값 고정 ==> seed기능"
   ]
  },
  {
   "cell_type": "code",
   "execution_count": 1,
   "metadata": {},
   "outputs": [],
   "source": [
    "import random"
   ]
  },
  {
   "cell_type": "code",
   "execution_count": 6,
   "metadata": {},
   "outputs": [
    {
     "name": "stdout",
     "output_type": "stream",
     "text": [
      "0.18443151617389741\n",
      "0.09064867454857684\n",
      "0.6218214581342806\n",
      "0.9711356794723687\n",
      "0.7245470911663348\n",
      "0.25981639018801905\n",
      "0.1828224608604464\n",
      "0.6156691857731446\n",
      "0.3439066900987777\n",
      "0.5721948133230351\n"
     ]
    }
   ],
   "source": [
    "# 임의의 실수 추출 (매번 다름)\n",
    "for _ in range(10):\n",
    "\tprint(random.random())"
   ]
  },
  {
   "cell_type": "code",
   "execution_count": 7,
   "metadata": {},
   "outputs": [
    {
     "name": "stdout",
     "output_type": "stream",
     "text": [
      "7\n",
      "3\n",
      "2\n",
      "9\n",
      "1\n",
      "2\n",
      "2\n",
      "2\n",
      "1\n",
      "9\n"
     ]
    }
   ],
   "source": [
    "# 임의의 정수 추출 (매번 다름)\n",
    "for _ in range(10):\n",
    "\tprint(random.randint(1,10)) #1~10 사이의 정수"
   ]
  },
  {
   "cell_type": "code",
   "execution_count": 13,
   "metadata": {},
   "outputs": [
    {
     "name": "stdout",
     "output_type": "stream",
     "text": [
      "0.5714025946899135\n",
      "0.4288890546751146\n",
      "0.5780913011344704\n",
      "0.20609823213950174\n",
      "0.81332125135732\n",
      "0.8235888725334455\n",
      "0.6534725339011758\n",
      "0.16022955651881965\n",
      "0.5206693596399246\n",
      "0.32777281162209315\n"
     ]
    }
   ],
   "source": [
    "random.seed(10) # 랜덤 값 고정\n",
    "# 임의의 실수 추출 \n",
    "for _ in range(10):\n",
    "\tprint(random.random())"
   ]
  },
  {
   "cell_type": "code",
   "execution_count": 17,
   "metadata": {},
   "outputs": [],
   "source": [
    "X=[[10],[3],[9],[5],[8],[7],[12],[67],[91],[45],[2],[17]]\n",
    "y=[1,2,3,4,5,6,7,8,9,10,11,12]"
   ]
  },
  {
   "cell_type": "code",
   "execution_count": 18,
   "metadata": {},
   "outputs": [],
   "source": [
    "from sklearn.model_selection import train_test_split\n"
   ]
  },
  {
   "cell_type": "code",
   "execution_count": 42,
   "metadata": {},
   "outputs": [
    {
     "name": "stdout",
     "output_type": "stream",
     "text": [
      "X : [[10], [3], [9], [5], [8], [7], [12], [67], [91], [45], [2], [17]]\n",
      "X_trian : [[10], [3], [9], [5], [8], [7], [12], [67], [91]]\n",
      "X_test : [[45], [2], [17]]\n"
     ]
    }
   ],
   "source": [
    "#### 섞지 않고(순서대로) 학습용/테스트용 데이터셋 분리\n",
    "X_train,X_test,y_train,y_test = train_test_split(X,y, shuffle=False)\n",
    "\n",
    "print(f'X : {X}')\n",
    "print(f'X_trian : {X_train}')\n",
    "print(f'X_test : {X_test}')"
   ]
  },
  {
   "cell_type": "code",
   "execution_count": 43,
   "metadata": {},
   "outputs": [
    {
     "name": "stdout",
     "output_type": "stream",
     "text": [
      "X : [[10], [3], [9], [5], [8], [7], [12], [67], [91], [45], [2], [17]]\n",
      "X_trian : [[12], [10], [5], [45], [3], [67], [17], [8], [7]]\n",
      "X_test : [[2], [91], [9]]\n"
     ]
    }
   ],
   "source": [
    "#### 섞어서 않고 학습용/테스트용 데이터셋 분리=> 실행할때마다 변경\n",
    "X_train,X_test,y_train,y_test = train_test_split(X,y)\n",
    "\n",
    "print(f'X : {X}')\n",
    "print(f'X_trian : {X_train}')\n",
    "print(f'X_test : {X_test}')"
   ]
  },
  {
   "cell_type": "code",
   "execution_count": 44,
   "metadata": {},
   "outputs": [
    {
     "name": "stdout",
     "output_type": "stream",
     "text": [
      "X : [[10], [3], [9], [5], [8], [7], [12], [67], [91], [45], [2], [17]]\n",
      "X_trian : [[7], [17], [91], [2], [5], [3], [10], [8], [45]]\n",
      "X_test : [[9], [12], [67]]\n"
     ]
    }
   ],
   "source": [
    "#### 섞어서 않고 학습용/테스트용 데이터셋 분리\n",
    "#### random에서 seed 설정 역할 매개변수 => random_state => 고정\n",
    "X_train,X_test,y_train,y_test = train_test_split(X,y,random_state=10)\n",
    "\n",
    "print(f'X : {X}')\n",
    "print(f'X_trian : {X_train}')\n",
    "print(f'X_test : {X_test}')"
   ]
  },
  {
   "cell_type": "code",
   "execution_count": null,
   "metadata": {},
   "outputs": [],
   "source": []
  }
 ],
 "metadata": {
  "kernelspec": {
   "display_name": "ML_38",
   "language": "python",
   "name": "python3"
  },
  "language_info": {
   "codemirror_mode": {
    "name": "ipython",
    "version": 3
   },
   "file_extension": ".py",
   "mimetype": "text/x-python",
   "name": "python",
   "nbconvert_exporter": "python",
   "pygments_lexer": "ipython3",
   "version": "3.8.19"
  }
 },
 "nbformat": 4,
 "nbformat_minor": 2
}
