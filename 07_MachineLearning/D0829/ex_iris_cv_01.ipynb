{
 "cells": [
  {
   "cell_type": "markdown",
   "metadata": {},
   "source": [
    "#### 붓꽃 품종 분류\n",
    "- 목표 : 붓꽃의 3개 품종을 분류하기\n",
    "- 데이터셋 : 내장 데이터셋\n",
    "- 피쳐 : 4개\n",
    "- 타겟 : 품종 1개\n",
    "- 학습 : 지도학습 > 분류"
   ]
  },
  {
   "cell_type": "markdown",
   "metadata": {},
   "source": [
    "[1] 데이터 준비"
   ]
  },
  {
   "cell_type": "code",
   "execution_count": 138,
   "metadata": {},
   "outputs": [],
   "source": [
    "# 모듈 로딩\n",
    "from sklearn.datasets import load_iris\n",
    "from sklearn.model_selection import train_test_split\n",
    "import pandas as pd\n",
    "import numpy as np\n",
    "import matplotlib.pyplot  as plt"
   ]
  },
  {
   "cell_type": "code",
   "execution_count": 139,
   "metadata": {},
   "outputs": [],
   "source": [
    "# 내장 데이터셋 로딩\n",
    "data = load_iris(as_frame=True)"
   ]
  },
  {
   "cell_type": "code",
   "execution_count": 140,
   "metadata": {},
   "outputs": [
    {
     "data": {
      "text/plain": [
       "dict_keys(['data', 'target', 'frame', 'target_names', 'DESCR', 'feature_names', 'filename', 'data_module'])"
      ]
     },
     "execution_count": 140,
     "metadata": {},
     "output_type": "execute_result"
    }
   ],
   "source": [
    "# Bunch 인스턴스 = >dict와 유사한 형태\n",
    "data.keys()"
   ]
  },
  {
   "cell_type": "code",
   "execution_count": 141,
   "metadata": {},
   "outputs": [],
   "source": [
    "featureDF=data['data']\n",
    "targetSR=data['target']"
   ]
  },
  {
   "cell_type": "code",
   "execution_count": 142,
   "metadata": {},
   "outputs": [
    {
     "data": {
      "text/plain": [
       "((150, 4), (150,))"
      ]
     },
     "execution_count": 142,
     "metadata": {},
     "output_type": "execute_result"
    }
   ],
   "source": [
    "featureDF.shape, targetSR.shape"
   ]
  },
  {
   "cell_type": "code",
   "execution_count": 143,
   "metadata": {},
   "outputs": [
    {
     "data": {
      "text/plain": [
       "(   sepal length (cm)  sepal width (cm)  petal length (cm)  petal width (cm)\n",
       " 0                5.1               3.5                1.4               0.2,\n",
       " 0    0\n",
       " Name: target, dtype: int32)"
      ]
     },
     "execution_count": 143,
     "metadata": {},
     "output_type": "execute_result"
    }
   ],
   "source": [
    "featureDF.head(1), targetSR.head(1)"
   ]
  },
  {
   "cell_type": "markdown",
   "metadata": {},
   "source": [
    "[2] 학습을 위한 데이터 셋 준비 => 학습용, 검증용, 테스트용 "
   ]
  },
  {
   "cell_type": "code",
   "execution_count": 144,
   "metadata": {},
   "outputs": [],
   "source": [
    "#학습용 & 테스트용 분리\n",
    "x_train,x_test,y_train,y_test=train_test_split(featureDF,\n",
    "                                               targetSR,\n",
    "                                               stratify=targetSR)"
   ]
  },
  {
   "cell_type": "code",
   "execution_count": 145,
   "metadata": {},
   "outputs": [],
   "source": [
    "#학습용 & 검증용 분리\n",
    "x_train,x_val,y_train,y_val=train_test_split(x_train,\n",
    "                                               y_train,\n",
    "                                               stratify=y_train)"
   ]
  },
  {
   "cell_type": "code",
   "execution_count": 146,
   "metadata": {},
   "outputs": [
    {
     "name": "stdout",
     "output_type": "stream",
     "text": [
      "Train DS: (84, 4) 0.56%\n",
      "val DS: (28, 4) 0.19%\n",
      "Test DS: (38, 4) 0.25%\n"
     ]
    }
   ],
   "source": [
    "print(f'Train DS: {x_train.shape} {x_train.shape[0]/featureDF.shape[0]:.2f}%')\n",
    "print(f'val DS: {x_val.shape} {x_val.shape[0]/featureDF.shape[0]:.2f}%')\n",
    "print(f'Test DS: {x_test.shape} {x_test.shape[0]/featureDF.shape[0]:.2f}%')"
   ]
  },
  {
   "cell_type": "markdown",
   "metadata": {},
   "source": [
    "[3]교차검증 방식"
   ]
  },
  {
   "cell_type": "code",
   "execution_count": 147,
   "metadata": {},
   "outputs": [],
   "source": [
    "# 모듈로드\n",
    "from sklearn.model_selection import KFold, StratifiedKFold\n",
    "from sklearn.tree import DecisionTreeClassifier"
   ]
  },
  {
   "cell_type": "code",
   "execution_count": 148,
   "metadata": {},
   "outputs": [],
   "source": [
    "# 모델 인스턴스 생성\n",
    "dtc_model=DecisionTreeClassifier()\n",
    "\n",
    "# [3-1] KFold 기반---------------------------------\n",
    "# 정확도 저장 리스트\n",
    "accuracys=[]\n",
    "\n",
    "# KFold 인스턴스 생성 [기본 k=5]\n",
    "kfold=KFold()\n"
   ]
  },
  {
   "cell_type": "code",
   "execution_count": 149,
   "metadata": {},
   "outputs": [
    {
     "name": "stdout",
     "output_type": "stream",
     "text": [
      "[1번째] train 정확도 : 1.0 val 정확도 : 1.0\n",
      "[2번째] train 정확도 : 1.0 val 정확도 : 0.9666666666666667\n",
      "[3번째] train 정확도 : 1.0 val 정확도 : 0.8333333333333334\n",
      "[4번째] train 정확도 : 1.0 val 정확도 : 0.9333333333333333\n",
      "[5번째] train 정확도 : 1.0 val 정확도 : 0.8\n"
     ]
    }
   ],
   "source": [
    "# k번 만큼 k개 데이터셋으로 학습 진행\n",
    "# -> k등분 후 학습용 데이터셋 인덱스, 검증용 데이터셋 인덱스\n",
    "for idx, (train_index, val_index) in enumerate(kfold.split(featureDF),1):\n",
    "    \n",
    "\t#print(f'train_index: {train_index.tolist()}')\n",
    "\n",
    "\t# x_train, x_val 데이터셋 설정\n",
    "\tx_train, y_train = featureDF.iloc[train_index.tolist()], targetSR[train_index.tolist()]\n",
    "\tx_val,y_val = featureDF.iloc[val_index.tolist()],targetSR[val_index.tolist()]\n",
    "\n",
    "\t#학습진행\n",
    "\tdtc_model.fit(x_train, y_train)\n",
    "\n",
    "\t# 평가 => 분류의 경우 score()메서드 => 정확도 반환\n",
    "\ttrain_acc=dtc_model.score(x_train,y_train)\n",
    "\tval_acc=dtc_model.score(x_val,y_val)\n",
    "\n",
    "\taccuracys.append([train_acc,val_acc])\n",
    "\tprint(f'[{idx}번째] train 정확도 : {train_acc} val 정확도 : {val_acc}')\n",
    "\n"
   ]
  },
  {
   "cell_type": "code",
   "execution_count": 150,
   "metadata": {},
   "outputs": [
    {
     "name": "stdout",
     "output_type": "stream",
     "text": [
      "Train 정확도 : 1.0   val정확도: 0.91\n"
     ]
    }
   ],
   "source": [
    "# 평균 계산\n",
    "train_mean = sum([value[0] for value in accuracys])/kfold.n_splits\n",
    "test_mean = sum([value[1] for value in accuracys])/kfold.n_splits\n",
    "\n",
    "print(f'Train 정확도 : {train_mean}   val정확도: {test_mean:.2f}')"
   ]
  },
  {
   "cell_type": "code",
   "execution_count": 151,
   "metadata": {},
   "outputs": [
    {
     "name": "stdout",
     "output_type": "stream",
     "text": [
      "[1번째] train 정확도 : 1.0 val 정확도 : 0.9666666666666667\n",
      "[2번째] train 정확도 : 1.0 val 정확도 : 0.9666666666666667\n",
      "[3번째] train 정확도 : 1.0 val 정확도 : 0.9\n",
      "[4번째] train 정확도 : 1.0 val 정확도 : 0.9333333333333333\n",
      "[5번째] train 정확도 : 1.0 val 정확도 : 1.0\n"
     ]
    }
   ],
   "source": [
    "#### ===> [3-2] StraitfiedKFold\n",
    "accuracys=[]\n",
    "\n",
    "\n",
    "skFold=StratifiedKFold()\n",
    "\n",
    "# k번 만큼 k개 데이터셋으로 학습 진행\n",
    "# -> k등분 후 학습용 데이터셋 인덱스, 검증용 데이터셋 인덱스\n",
    "for idx, (train_index, val_index) in enumerate(skFold.split(featureDF,targetSR),1):\n",
    "    \n",
    "\t#print(f'train_index: {train_index.tolist()}')\n",
    "\n",
    "\t# x_train, x_val 데이터셋 설정\n",
    "\tx_train, y_train = featureDF.iloc[train_index.tolist()], targetSR[train_index.tolist()]\n",
    "\tx_val,y_val = featureDF.iloc[val_index.tolist()],targetSR[val_index.tolist()]\n",
    "\n",
    "\t#학습진행\n",
    "\tdtc_model.fit(x_train, y_train)\n",
    "\n",
    "\t# 평가 => 분류의 경우 score()메서드 => 정확도 반환\n",
    "\ttrain_acc=dtc_model.score(x_train,y_train)\n",
    "\tval_acc=dtc_model.score(x_val,y_val)\n",
    "\n",
    "\taccuracys.append([train_acc,val_acc])\n",
    "\tprint(f'[{idx}번째] train 정확도 : {train_acc} val 정확도 : {val_acc}')"
   ]
  },
  {
   "cell_type": "code",
   "execution_count": 152,
   "metadata": {},
   "outputs": [
    {
     "name": "stdout",
     "output_type": "stream",
     "text": [
      "Train 정확도 : 1.0   val정확도: 0.95\n"
     ]
    }
   ],
   "source": [
    "# 평균 계산\n",
    "train_mean = sum([value[0] for value in accuracys])/skFold.n_splits\n",
    "test_mean = sum([value[1] for value in accuracys])/skFold.n_splits\n",
    "\n",
    "print(f'Train 정확도 : {train_mean}   val정확도: {test_mean:.2f}')"
   ]
  },
  {
   "cell_type": "markdown",
   "metadata": {},
   "source": [
    "- 교차검증 및 성능평가 동시 진행 함수 \n",
    "\t* => cross_val_score, cross_val_predict\n",
    "\t* => cross_validate"
   ]
  },
  {
   "cell_type": "code",
   "execution_count": 153,
   "metadata": {},
   "outputs": [],
   "source": [
    "from sklearn.model_selection import cross_val_predict, cross_val_score, cross_validate"
   ]
  },
  {
   "cell_type": "code",
   "execution_count": 154,
   "metadata": {},
   "outputs": [],
   "source": [
    "### [1] 전체 DS==> 학습용과 테스트용 DS 분리\n",
    "x_train,x_test,y_train,y_test=train_test_split(featureDF,\n",
    "                                              targetSR,\n",
    "                                              stratify=targetSR)"
   ]
  },
  {
   "cell_type": "code",
   "execution_count": 155,
   "metadata": {},
   "outputs": [],
   "source": [
    "#### cross_val_predict\n",
    "predict = cross_val_predict(dtc_model,x_train,y_train,cv=3)"
   ]
  },
  {
   "cell_type": "code",
   "execution_count": 156,
   "metadata": {},
   "outputs": [
    {
     "name": "stdout",
     "output_type": "stream",
     "text": [
      "predict : [1 2 2 2 0 0 1 0 0 0 1 2 0 0 2 2 1 2 0 2 0 0 1 2 0 2 1 0 2 2 0 1 0 0 2 1 0\n",
      " 1 0 0 0 1 1 1 1 1 2 0 1 0 0 2 2 0 0 1 0 2 2 2 2 2 2 1 2 2 2 0 1 2 0 1 2 1\n",
      " 2 1 0 1 0 1 1 2 1 2 0 1 2 0 2 2 2 1 0 2 2 0 1 0 1 0 1 1 0 2 1 2 2 1 1 2 1\n",
      " 0]\n"
     ]
    }
   ],
   "source": [
    "print(f'predict : {predict}')"
   ]
  },
  {
   "cell_type": "code",
   "execution_count": 157,
   "metadata": {},
   "outputs": [
    {
     "data": {
      "text/plain": [
       "array([0.96666667, 0.96666667, 0.9       , 1.        , 1.        ])"
      ]
     },
     "execution_count": 157,
     "metadata": {},
     "output_type": "execute_result"
    }
   ],
   "source": [
    "#### cross_val_score\n",
    "cross_val_score(dtc_model,featureDF,targetSR)"
   ]
  },
  {
   "cell_type": "code",
   "execution_count": 158,
   "metadata": {},
   "outputs": [],
   "source": [
    "### cross_validate\n",
    "result=cross_validate(dtc_model,x_train, y_train,\n",
    "                      cv=10,\n",
    "                      return_train_score=True,\n",
    "                      return_estimator=True)"
   ]
  },
  {
   "cell_type": "code",
   "execution_count": 159,
   "metadata": {},
   "outputs": [
    {
     "data": {
      "text/plain": [
       "{'fit_time': array([0.00241375, 0.00199318, 0.00099611, 0.00099659, 0.00199318,\n",
       "        0.00099683, 0.00226784, 0.00103045, 0.00100517, 0.00106716]),\n",
       " 'score_time': array([0.00126576, 0.00199318, 0.00099659, 0.00100827, 0.00099683,\n",
       "        0.00099635, 0.00101304, 0.0010078 , 0.00101399, 0.00101876]),\n",
       " 'estimator': [DecisionTreeClassifier(),\n",
       "  DecisionTreeClassifier(),\n",
       "  DecisionTreeClassifier(),\n",
       "  DecisionTreeClassifier(),\n",
       "  DecisionTreeClassifier(),\n",
       "  DecisionTreeClassifier(),\n",
       "  DecisionTreeClassifier(),\n",
       "  DecisionTreeClassifier(),\n",
       "  DecisionTreeClassifier(),\n",
       "  DecisionTreeClassifier()],\n",
       " 'test_score': array([1.        , 1.        , 1.        , 0.90909091, 1.        ,\n",
       "        1.        , 0.90909091, 0.90909091, 0.90909091, 0.90909091]),\n",
       " 'train_score': array([1., 1., 1., 1., 1., 1., 1., 1., 1., 1.])}"
      ]
     },
     "execution_count": 159,
     "metadata": {},
     "output_type": "execute_result"
    }
   ],
   "source": [
    "result"
   ]
  },
  {
   "cell_type": "code",
   "execution_count": 160,
   "metadata": {},
   "outputs": [
    {
     "data": {
      "text/html": [
       "<div>\n",
       "<style scoped>\n",
       "    .dataframe tbody tr th:only-of-type {\n",
       "        vertical-align: middle;\n",
       "    }\n",
       "\n",
       "    .dataframe tbody tr th {\n",
       "        vertical-align: top;\n",
       "    }\n",
       "\n",
       "    .dataframe thead th {\n",
       "        text-align: right;\n",
       "    }\n",
       "</style>\n",
       "<table border=\"1\" class=\"dataframe\">\n",
       "  <thead>\n",
       "    <tr style=\"text-align: right;\">\n",
       "      <th></th>\n",
       "      <th>test_score</th>\n",
       "      <th>train_score</th>\n",
       "    </tr>\n",
       "  </thead>\n",
       "  <tbody>\n",
       "    <tr>\n",
       "      <th>0</th>\n",
       "      <td>1.000000</td>\n",
       "      <td>1.0</td>\n",
       "    </tr>\n",
       "    <tr>\n",
       "      <th>1</th>\n",
       "      <td>1.000000</td>\n",
       "      <td>1.0</td>\n",
       "    </tr>\n",
       "    <tr>\n",
       "      <th>2</th>\n",
       "      <td>1.000000</td>\n",
       "      <td>1.0</td>\n",
       "    </tr>\n",
       "    <tr>\n",
       "      <th>3</th>\n",
       "      <td>0.909091</td>\n",
       "      <td>1.0</td>\n",
       "    </tr>\n",
       "    <tr>\n",
       "      <th>4</th>\n",
       "      <td>1.000000</td>\n",
       "      <td>1.0</td>\n",
       "    </tr>\n",
       "    <tr>\n",
       "      <th>5</th>\n",
       "      <td>1.000000</td>\n",
       "      <td>1.0</td>\n",
       "    </tr>\n",
       "    <tr>\n",
       "      <th>6</th>\n",
       "      <td>0.909091</td>\n",
       "      <td>1.0</td>\n",
       "    </tr>\n",
       "    <tr>\n",
       "      <th>7</th>\n",
       "      <td>0.909091</td>\n",
       "      <td>1.0</td>\n",
       "    </tr>\n",
       "    <tr>\n",
       "      <th>8</th>\n",
       "      <td>0.909091</td>\n",
       "      <td>1.0</td>\n",
       "    </tr>\n",
       "    <tr>\n",
       "      <th>9</th>\n",
       "      <td>0.909091</td>\n",
       "      <td>1.0</td>\n",
       "    </tr>\n",
       "  </tbody>\n",
       "</table>\n",
       "</div>"
      ],
      "text/plain": [
       "   test_score  train_score\n",
       "0    1.000000          1.0\n",
       "1    1.000000          1.0\n",
       "2    1.000000          1.0\n",
       "3    0.909091          1.0\n",
       "4    1.000000          1.0\n",
       "5    1.000000          1.0\n",
       "6    0.909091          1.0\n",
       "7    0.909091          1.0\n",
       "8    0.909091          1.0\n",
       "9    0.909091          1.0"
      ]
     },
     "execution_count": 160,
     "metadata": {},
     "output_type": "execute_result"
    }
   ],
   "source": [
    "resultDF=pd.DataFrame(result).loc[:,['test_score','train_score']]\n",
    "resultDF"
   ]
  },
  {
   "cell_type": "markdown",
   "metadata": {},
   "source": [
    "- 최적화된 모델 추출"
   ]
  },
  {
   "cell_type": "code",
   "execution_count": 161,
   "metadata": {},
   "outputs": [],
   "source": [
    "best_model=result['estimator'][3]"
   ]
  },
  {
   "cell_type": "markdown",
   "metadata": {},
   "source": [
    "- 테스트 데이터로 확인"
   ]
  },
  {
   "cell_type": "code",
   "execution_count": 162,
   "metadata": {},
   "outputs": [
    {
     "data": {
      "text/plain": [
       "array([2, 0, 2, 1, 0, 0, 1, 2, 2, 2, 1, 0, 0, 1, 0, 2, 0, 2, 2, 2, 0, 1,\n",
       "       0, 0, 2, 1, 0, 1, 1, 0, 2, 1, 2, 1, 2, 1, 0, 2])"
      ]
     },
     "execution_count": 162,
     "metadata": {},
     "output_type": "execute_result"
    }
   ],
   "source": [
    "best_model.predict(x_test)"
   ]
  },
  {
   "cell_type": "code",
   "execution_count": 163,
   "metadata": {},
   "outputs": [
    {
     "data": {
      "text/plain": [
       "0.8947368421052632"
      ]
     },
     "execution_count": 163,
     "metadata": {},
     "output_type": "execute_result"
    }
   ],
   "source": [
    "best_model.score(x_test,y_test)"
   ]
  },
  {
   "cell_type": "code",
   "execution_count": null,
   "metadata": {},
   "outputs": [],
   "source": []
  }
 ],
 "metadata": {
  "kernelspec": {
   "display_name": "ML_38",
   "language": "python",
   "name": "python3"
  },
  "language_info": {
   "codemirror_mode": {
    "name": "ipython",
    "version": 3
   },
   "file_extension": ".py",
   "mimetype": "text/x-python",
   "name": "python",
   "nbconvert_exporter": "python",
   "pygments_lexer": "ipython3",
   "version": "3.8.19"
  }
 },
 "nbformat": 4,
 "nbformat_minor": 2
}
