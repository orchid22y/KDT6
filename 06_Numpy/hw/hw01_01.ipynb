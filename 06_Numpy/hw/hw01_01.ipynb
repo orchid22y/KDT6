{
 "cells": [
  {
   "cell_type": "code",
   "execution_count": 6,
   "metadata": {},
   "outputs": [],
   "source": [
    "import pandas as pd\n",
    "import numpy as np\n",
    "import matplotlib.pyplot as plt\n",
    "\n"
   ]
  },
  {
   "cell_type": "code",
   "execution_count": 7,
   "metadata": {},
   "outputs": [
    {
     "data": {
      "text/html": [
       "<div>\n",
       "<style scoped>\n",
       "    .dataframe tbody tr th:only-of-type {\n",
       "        vertical-align: middle;\n",
       "    }\n",
       "\n",
       "    .dataframe tbody tr th {\n",
       "        vertical-align: top;\n",
       "    }\n",
       "\n",
       "    .dataframe thead th {\n",
       "        text-align: right;\n",
       "    }\n",
       "</style>\n",
       "<table border=\"1\" class=\"dataframe\">\n",
       "  <thead>\n",
       "    <tr style=\"text-align: right;\">\n",
       "      <th></th>\n",
       "      <th>사용일자</th>\n",
       "      <th>노선명</th>\n",
       "      <th>역명</th>\n",
       "      <th>승차총승객수</th>\n",
       "      <th>하차총승객수</th>\n",
       "      <th>승하차객수</th>\n",
       "    </tr>\n",
       "  </thead>\n",
       "  <tbody>\n",
       "    <tr>\n",
       "      <th>0</th>\n",
       "      <td>20240701</td>\n",
       "      <td>9호선2~3단계</td>\n",
       "      <td>석촌고분</td>\n",
       "      <td>7665</td>\n",
       "      <td>7414</td>\n",
       "      <td>15079</td>\n",
       "    </tr>\n",
       "    <tr>\n",
       "      <th>1</th>\n",
       "      <td>20240701</td>\n",
       "      <td>중앙선</td>\n",
       "      <td>도농</td>\n",
       "      <td>12178</td>\n",
       "      <td>10957</td>\n",
       "      <td>23135</td>\n",
       "    </tr>\n",
       "    <tr>\n",
       "      <th>2</th>\n",
       "      <td>20240701</td>\n",
       "      <td>중앙선</td>\n",
       "      <td>구리</td>\n",
       "      <td>14053</td>\n",
       "      <td>14085</td>\n",
       "      <td>28138</td>\n",
       "    </tr>\n",
       "    <tr>\n",
       "      <th>3</th>\n",
       "      <td>20240701</td>\n",
       "      <td>4호선</td>\n",
       "      <td>길음</td>\n",
       "      <td>22687</td>\n",
       "      <td>22215</td>\n",
       "      <td>44902</td>\n",
       "    </tr>\n",
       "    <tr>\n",
       "      <th>4</th>\n",
       "      <td>20240701</td>\n",
       "      <td>분당선</td>\n",
       "      <td>복정</td>\n",
       "      <td>1</td>\n",
       "      <td>0</td>\n",
       "      <td>1</td>\n",
       "    </tr>\n",
       "    <tr>\n",
       "      <th>...</th>\n",
       "      <td>...</td>\n",
       "      <td>...</td>\n",
       "      <td>...</td>\n",
       "      <td>...</td>\n",
       "      <td>...</td>\n",
       "      <td>...</td>\n",
       "    </tr>\n",
       "    <tr>\n",
       "      <th>19098</th>\n",
       "      <td>20240731</td>\n",
       "      <td>7호선</td>\n",
       "      <td>신풍</td>\n",
       "      <td>11494</td>\n",
       "      <td>10664</td>\n",
       "      <td>22158</td>\n",
       "    </tr>\n",
       "    <tr>\n",
       "      <th>19099</th>\n",
       "      <td>20240731</td>\n",
       "      <td>7호선</td>\n",
       "      <td>대림(구로구청)</td>\n",
       "      <td>9328</td>\n",
       "      <td>9366</td>\n",
       "      <td>18694</td>\n",
       "    </tr>\n",
       "    <tr>\n",
       "      <th>19100</th>\n",
       "      <td>20240731</td>\n",
       "      <td>7호선</td>\n",
       "      <td>남구로</td>\n",
       "      <td>15284</td>\n",
       "      <td>16072</td>\n",
       "      <td>31356</td>\n",
       "    </tr>\n",
       "    <tr>\n",
       "      <th>19101</th>\n",
       "      <td>20240731</td>\n",
       "      <td>7호선</td>\n",
       "      <td>가산디지털단지</td>\n",
       "      <td>47493</td>\n",
       "      <td>47452</td>\n",
       "      <td>94945</td>\n",
       "    </tr>\n",
       "    <tr>\n",
       "      <th>19102</th>\n",
       "      <td>20240731</td>\n",
       "      <td>7호선</td>\n",
       "      <td>철산</td>\n",
       "      <td>21851</td>\n",
       "      <td>22156</td>\n",
       "      <td>44007</td>\n",
       "    </tr>\n",
       "  </tbody>\n",
       "</table>\n",
       "<p>19103 rows × 6 columns</p>\n",
       "</div>"
      ],
      "text/plain": [
       "           사용일자       노선명        역명  승차총승객수  하차총승객수  승하차객수\n",
       "0      20240701  9호선2~3단계      석촌고분    7665    7414  15079\n",
       "1      20240701       중앙선        도농   12178   10957  23135\n",
       "2      20240701       중앙선        구리   14053   14085  28138\n",
       "3      20240701       4호선        길음   22687   22215  44902\n",
       "4      20240701       분당선        복정       1       0      1\n",
       "...         ...       ...       ...     ...     ...    ...\n",
       "19098  20240731       7호선        신풍   11494   10664  22158\n",
       "19099  20240731       7호선  대림(구로구청)    9328    9366  18694\n",
       "19100  20240731       7호선       남구로   15284   16072  31356\n",
       "19101  20240731       7호선   가산디지털단지   47493   47452  94945\n",
       "19102  20240731       7호선        철산   21851   22156  44007\n",
       "\n",
       "[19103 rows x 6 columns]"
      ]
     },
     "execution_count": 7,
     "metadata": {},
     "output_type": "execute_result"
    }
   ],
   "source": [
    "\n",
    "df=pd.read_csv('과제1-데이터예시(seoul.csv).csv')\n",
    "df\n"
   ]
  },
  {
   "cell_type": "markdown",
   "metadata": {},
   "source": [
    "#### 1.각 지하철 역별 평균 이용객수"
   ]
  },
  {
   "cell_type": "code",
   "execution_count": 8,
   "metadata": {},
   "outputs": [
    {
     "data": {
      "text/plain": [
       "역명\n",
       "4.19민주묘지      5755.0\n",
       "가능           12046.0\n",
       "가락시장         16307.0\n",
       "가산디지털단지      57691.0\n",
       "가양           42361.0\n",
       "              ...   \n",
       "회기           46175.0\n",
       "회룡           24438.0\n",
       "회현(남대문시장)    52288.0\n",
       "효창공원앞         9781.0\n",
       "흑석(중앙대입구)    16555.0\n",
       "Name: 승하차객수, Length: 528, dtype: float64"
      ]
     },
     "execution_count": 8,
     "metadata": {},
     "output_type": "execute_result"
    }
   ],
   "source": [
    "avg=round(df.groupby('역명')['승하차객수'].mean(),0)\n",
    "avg"
   ]
  },
  {
   "cell_type": "markdown",
   "metadata": {},
   "source": [
    "#### 2. 각 지하철 역별 이용객수의 표준 편차"
   ]
  },
  {
   "cell_type": "code",
   "execution_count": 9,
   "metadata": {},
   "outputs": [
    {
     "name": "stdout",
     "output_type": "stream",
     "text": [
      "역명\n",
      "4.19민주묘지       764.0\n",
      "가능            2242.0\n",
      "가락시장          4052.0\n",
      "가산디지털단지      35086.0\n",
      "가양            9110.0\n",
      "              ...   \n",
      "회기            7077.0\n",
      "회룡            4448.0\n",
      "회현(남대문시장)    13136.0\n",
      "효창공원앞         4142.0\n",
      "흑석(중앙대입구)     3921.0\n",
      "Name: 승하차객수, Length: 528, dtype: float64\n"
     ]
    }
   ],
   "source": [
    "s=df.groupby('역명')['승하차객수'].std()\n",
    "print(round(s,0))"
   ]
  },
  {
   "cell_type": "markdown",
   "metadata": {},
   "source": [
    "#### 3. 가장 많은 이용객이 있는 역의 이용객 수"
   ]
  },
  {
   "cell_type": "code",
   "execution_count": 10,
   "metadata": {},
   "outputs": [
    {
     "data": {
      "text/plain": [
       "5993237"
      ]
     },
     "execution_count": 10,
     "metadata": {},
     "output_type": "execute_result"
    }
   ],
   "source": [
    "max_result=df.groupby('역명')['승하차객수'].sum().max()\n",
    "max_result"
   ]
  },
  {
   "cell_type": "markdown",
   "metadata": {},
   "source": [
    "#### 4.가장 적은 이용객이 있는 역의 이용객 수"
   ]
  },
  {
   "cell_type": "code",
   "execution_count": 11,
   "metadata": {},
   "outputs": [
    {
     "data": {
      "text/plain": [
       "1"
      ]
     },
     "execution_count": 11,
     "metadata": {},
     "output_type": "execute_result"
    }
   ],
   "source": [
    "min_result=df.groupby('역명')['승하차객수'].sum().min()\n",
    "min_result"
   ]
  },
  {
   "cell_type": "markdown",
   "metadata": {},
   "source": [
    "#### 5.이용객 수가 가장 많은 역의 이름"
   ]
  },
  {
   "cell_type": "code",
   "execution_count": 12,
   "metadata": {},
   "outputs": [
    {
     "data": {
      "text/plain": [
       "'잠실(송파구청)'"
      ]
     },
     "execution_count": 12,
     "metadata": {},
     "output_type": "execute_result"
    }
   ],
   "source": [
    "sum_result=df.groupby('역명')['승하차객수'].sum().idxmax()\n",
    "sum_result"
   ]
  },
  {
   "cell_type": "markdown",
   "metadata": {},
   "source": [
    "#### 6.이용객 수가 가장 적은 역의 이름"
   ]
  },
  {
   "cell_type": "code",
   "execution_count": 13,
   "metadata": {},
   "outputs": [
    {
     "data": {
      "text/plain": [
       "'까치울'"
      ]
     },
     "execution_count": 13,
     "metadata": {},
     "output_type": "execute_result"
    }
   ],
   "source": [
    "min_result=df.groupby('역명')['승하차객수'].sum().idxmin()\n",
    "min_result"
   ]
  },
  {
   "cell_type": "markdown",
   "metadata": {},
   "source": [
    "#### 7.이용객 수의 분포를 히스토그램으로 시각화하세요."
   ]
  },
  {
   "cell_type": "code",
   "execution_count": 14,
   "metadata": {},
   "outputs": [
    {
     "data": {
      "text/plain": [
       "역명\n",
       "4.19민주묘지      178406\n",
       "가능            373418\n",
       "가락시장         1011033\n",
       "가산디지털단지      3576861\n",
       "가양           1313196\n",
       "              ...   \n",
       "회기           1431436\n",
       "회룡            757577\n",
       "회현(남대문시장)    1620940\n",
       "효창공원앞         606451\n",
       "흑석(중앙대입구)     513214\n",
       "Name: 승하차객수, Length: 528, dtype: int64"
      ]
     },
     "execution_count": 14,
     "metadata": {},
     "output_type": "execute_result"
    }
   ],
   "source": [
    "result=df.groupby('역명')['승하차객수'].sum()\n",
    "result"
   ]
  },
  {
   "cell_type": "code",
   "execution_count": 25,
   "metadata": {},
   "outputs": [
    {
     "data": {
      "text/plain": [
       "Index(['4.19민주묘지', '가능', '가락시장', '가산디지털단지', '가양', '가오리', '가좌', '가천대', '가평',\n",
       "       '간석',\n",
       "       ...\n",
       "       '화계', '화곡', '화랑대(서울여대입구)', '화서', '화정', '회기', '회룡', '회현(남대문시장)', '효창공원앞',\n",
       "       '흑석(중앙대입구)'],\n",
       "      dtype='object', name='역명', length=528)"
      ]
     },
     "execution_count": 25,
     "metadata": {},
     "output_type": "execute_result"
    }
   ],
   "source": [
    "result.index"
   ]
  },
  {
   "cell_type": "code",
   "execution_count": 30,
   "metadata": {},
   "outputs": [
    {
     "data": {
      "image/png": "[encoded data removed]",
      "text/plain": [
       "<Figure size 1000x600 with 1 Axes>"
      ]
     },
     "metadata": {},
     "output_type": "display_data"
    }
   ],
   "source": [
    "import koreanize_matplotlib\n",
    "fig=plt.figure(figsize=(10,6))\n",
    "plt.hist(df.groupby('역명')['승하차객수'].sum())\n",
    "plt.xlabel('역명')\n",
    "plt.ylabel('이용객수')\n",
    "plt.show()"
   ]
  },
  {
   "cell_type": "code",
   "execution_count": null,
   "metadata": {},
   "outputs": [],
   "source": []
  }
 ],
 "metadata": {
  "kernelspec": {
   "display_name": "base",
   "language": "python",
   "name": "python3"
  },
  "language_info": {
   "codemirror_mode": {
    "name": "ipython",
    "version": 3
   },
   "file_extension": ".py",
   "mimetype": "text/x-python",
   "name": "python",
   "nbconvert_exporter": "python",
   "pygments_lexer": "ipython3",
   "version": "3.11.7"
  }
 },
 "nbformat": 4,
 "nbformat_minor": 2
}
