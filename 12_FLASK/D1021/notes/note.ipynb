{
 "cells": [
  {
   "cell_type": "markdown",
   "metadata": {},
   "source": [
    "- / <- 루트 root : SW의 시작 폴더 , Linux / Mac 저장소 시작점\n",
    "\n"
   ]
  },
  {
   "cell_type": "markdown",
   "metadata": {},
   "source": [
    "- 환경변수 일시적으로 바꾸기\n",
    "- app.py 파일명 바꿔서 사용하고 싶을 시에\n",
    "- flask --help 옵션 사용\n",
    "- set FLASK_APP = my_app.py"
   ]
  },
  {
   "cell_type": "code",
   "execution_count": null,
   "metadata": {
    "vscode": {
     "languageId": "plaintext"
    }
   },
   "outputs": [],
   "source": [
    "- # Flask Application\n",
    "- .env 파일이 MyWeb 폴더 안에 있을때 \n",
    "- FLASK_APP = my_app.py\n",
    "(WEB_AI) C:\\Users\\kdp\\KDT\\FLASK_AI\\D1021\\MyWeb> flask routes\n",
    "\n",
    "- .밖에 있을 때\n",
    "- FLASK_APP = MyWeb.my_app.py\n",
    "- (WEB_AI) C:\\Users\\kdp\\KDT\\FLASK_AI\\D1021> flask routes\n"
   ]
  }
 ],
 "metadata": {
  "language_info": {
   "name": "python"
  }
 },
 "nbformat": 4,
 "nbformat_minor": 2
}
