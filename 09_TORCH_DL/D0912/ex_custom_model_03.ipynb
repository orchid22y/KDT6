{
 "cells": [
  {
   "cell_type": "markdown",
   "metadata": {},
   "source": [
    "#### 사용자 정의 모델 클래스\n",
    "- 부모클래스 : nn.Module\n",
    "- 필수오버라이딩\n",
    "    * _ _ _init_ _ _() : 모델 층 구성 즉, 설계\n",
    "    * forward() : 순방향 학습 진행 코드 구현\n",
    "- 동적 모델\n",
    "    * container 모듈 중 nn.ModuleList() 사용해서 동적으로 Layer 추가\n",
    "        - forward 기능 미 제공\n",
    "        - layer 인스턴스 요소 사이에 연관성 없음\n",
    "        - layer 인스턴스 요소는 인덱싱으로 접근"
   ]
  },
  {
   "cell_type": "code",
   "execution_count": 14,
   "metadata": {},
   "outputs": [],
   "source": [
    "## 모듈로딩\n",
    "import torch                                # 텐서 관련 모듈\n",
    "import torch.nn as nn                       # 인공신경망 관련 모듈\n",
    "import torch.nn.functional as F             # 인공신경망 관련 함수들 모듈( 손실함수, 활성화함수 등등 )\n",
    "import torch.optim as optim                 # 최적화 관련 모듈 (가중치, 절편 빠르게 찾아주는 알고리즘)\n",
    "\n",
    "from torchinfo import summary               # 모델 구조 및 정보 관련 모듈\n",
    "\n",
    "from torchmetrics.regression import *       # 회귀 성능 지표 관련 모듈\n",
    "from torchmetrics.classification import *   # 분류 성능 지표 관련 모듈\n"
   ]
  },
  {
   "cell_type": "code",
   "execution_count": 15,
   "metadata": {},
   "outputs": [],
   "source": [
    "# 랜덤 고정\n",
    "torch.manual_seed(1)\n",
    "\n",
    "# 텐서 저장 및 실행 위치 설정\n",
    "DEVICE='cuda' if torch.cuda.is_available() else 'cpu'"
   ]
  },
  {
   "cell_type": "markdown",
   "metadata": {},
   "source": [
    "- 모델 설계 - 동적 모델 <hr>\n",
    "    * 목표 : 은닉층의 개수가 동적인 모델\n",
    "    * 조건\n",
    "        * 입력층과 출력층 개수 동적 => 입력층의 입력값, 출력층의 출력값\n",
    "        * 은닉층의 개수 동적 + 퍼셉트론 개수 동적 => 은닉층의 개수, 은닉층 마다 퍼셉트론 수 "
   ]
  },
  {
   "cell_type": "code",
   "execution_count": 16,
   "metadata": {},
   "outputs": [],
   "source": [
    "# -----------------------------------------------------------------------------------------------------------------------------------------------------\n",
    "# 모델이름 : DynamicMoel\n",
    "# 부모클래스 : nn.Module\n",
    "# 매개변수 : in_in, out_out, h_ins=[], h_outs=[])\n",
    "# -----------------------------------------------------------------------------------------------------------------------------------------------------"
   ]
  },
  {
   "cell_type": "code",
   "execution_count": 17,
   "metadata": {},
   "outputs": [],
   "source": [
    "class DynamicModel(nn.Module):\n",
    "\n",
    "    # 모델 구조 설계 함수 즉, 생성자 메서드\n",
    "    def __init__(self, in_in,in_out, out_out, h_ins=[], h_outs=[]):\n",
    "        super().__init__()\n",
    "\n",
    "        self.in_layer=nn.Linear(in_in,h_ins[0] if len(h_ins) else out_out)\n",
    "\n",
    "        self.h_layers=nn.ModuleList()\n",
    "        for idx in range(len(h_ins)):\n",
    "            self.h_layers.append(nn.Linear(h_ins[idx],h_outs[idx]))\n",
    "\n",
    "\n",
    "        self.out_layer=nn.Linear(h_outs[-1] if len(h_outs) else in_out, out_out)\n",
    "\n",
    "    # 학습 진행 콜백 메서드\n",
    "    def forward(self,x):\n",
    "        # 입력층\n",
    "        y = self.in_layer(x)              # y = x1w1+x2w1+x3w3+b\n",
    "        y = F.relu(y)                     # 0 < = y (음수나 0이 나오면 0, 양수는 양수)\n",
    "        #y = F.relu(self.in_layer(x))\n",
    "\n",
    "        # 은닉층                     \n",
    "        for linear in self.h_layers:\n",
    "            y = linear(y)\n",
    "            y = F.relu(y)\n",
    "            # y = F.relu(linear(y))\n",
    "\n",
    "        # 출력층\n",
    "        return self.out_layer(y)"
   ]
  },
  {
   "cell_type": "code",
   "execution_count": 18,
   "metadata": {},
   "outputs": [],
   "source": [
    "# 모델 인스턴스 생성\n",
    "h_ins_, h_outs_=[30,50,70],[50,70,30]\n",
    "m1=DynamicModel(in_in=3,in_out=5,out_out=2, h_ins=h_ins_, h_outs=h_outs_)"
   ]
  },
  {
   "cell_type": "code",
   "execution_count": 19,
   "metadata": {},
   "outputs": [
    {
     "name": "stdout",
     "output_type": "stream",
     "text": [
      "DynamicModel(\n",
      "  (in_layer): Linear(in_features=3, out_features=30, bias=True)\n",
      "  (h_layers): ModuleList(\n",
      "    (0): Linear(in_features=30, out_features=50, bias=True)\n",
      "    (1): Linear(in_features=50, out_features=70, bias=True)\n",
      "    (2): Linear(in_features=70, out_features=30, bias=True)\n",
      "  )\n",
      "  (out_layer): Linear(in_features=30, out_features=2, bias=True)\n",
      ")\n"
     ]
    }
   ],
   "source": [
    "# 모델 구조 확인\n",
    "print(m1)"
   ]
  },
  {
   "cell_type": "code",
   "execution_count": 20,
   "metadata": {},
   "outputs": [
    {
     "name": "stdout",
     "output_type": "stream",
     "text": [
      "in_layer.weight torch.Size([30, 3])\n",
      "in_layer.bias torch.Size([30])\n",
      "h_layers.0.weight torch.Size([50, 30])\n",
      "h_layers.0.bias torch.Size([50])\n",
      "h_layers.1.weight torch.Size([70, 50])\n",
      "h_layers.1.bias torch.Size([70])\n",
      "h_layers.2.weight torch.Size([30, 70])\n",
      "h_layers.2.bias torch.Size([30])\n",
      "out_layer.weight torch.Size([2, 30])\n",
      "out_layer.bias torch.Size([2])\n"
     ]
    }
   ],
   "source": [
    "# 모델 파라미터 확인\n",
    "for name,param in m1.named_parameters():\n",
    "    print(name,param.shape)"
   ]
  },
  {
   "cell_type": "markdown",
   "metadata": {},
   "source": [
    "- 학습진행"
   ]
  },
  {
   "cell_type": "code",
   "execution_count": 21,
   "metadata": {},
   "outputs": [],
   "source": [
    "## 임의의 데이터 생성\n",
    "dataTS=torch.FloatTensor([[1,3,5],[2,4,6],[3,5,7],[4,6,8]])       # 2D (4,3)\n",
    "targetTS=torch.FloatTensor([[7,9],[8,10],[9,11],[10,12]])       # 2D (4,2)\n"
   ]
  },
  {
   "cell_type": "code",
   "execution_count": 22,
   "metadata": {},
   "outputs": [
    {
     "name": "stdout",
     "output_type": "stream",
     "text": [
      "tensor([[ 0.0081, -0.0053],\n",
      "        [ 0.0394,  0.0271],\n",
      "        [ 0.0656,  0.0575],\n",
      "        [ 0.0915,  0.0864]], grad_fn=<AddmmBackward0>) torch.Size([4, 2])\n"
     ]
    }
   ],
   "source": [
    "# 모델 학습\n",
    "pre_y=m1(dataTS)\n",
    "print(pre_y, pre_y.shape)"
   ]
  },
  {
   "cell_type": "code",
   "execution_count": null,
   "metadata": {},
   "outputs": [],
   "source": []
  }
 ],
 "metadata": {
  "kernelspec": {
   "display_name": "TORCH_38",
   "language": "python",
   "name": "python3"
  },
  "language_info": {
   "codemirror_mode": {
    "name": "ipython",
    "version": 3
   },
   "file_extension": ".py",
   "mimetype": "text/x-python",
   "name": "python",
   "nbconvert_exporter": "python",
   "pygments_lexer": "ipython3",
   "version": "3.8.19"
  }
 },
 "nbformat": 4,
 "nbformat_minor": 2
}
