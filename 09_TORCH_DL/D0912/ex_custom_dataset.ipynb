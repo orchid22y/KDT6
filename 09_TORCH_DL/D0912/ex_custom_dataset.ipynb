{
 "cells": [
  {
   "cell_type": "markdown",
   "metadata": {},
   "source": [
    "#### 사용자 정의 데이터셋\n",
    "- Pytorch에서 딥러닝 시 대량의 데이터 사용에 따른 부하 (H/W, S/W) 및 많은 시간 소요에 대한 해결책으로 제시\n",
    "- 대량 데이터셋 전용 처리 모듈 제공\n",
    "- Dataset과 DataLoader\n",
    "    * DataSet       => 데이터셋 전처리, 텐서화 등의 작업 진행\n",
    "    * DataLoader    => Dataset 인스턴스를 사용해서 배치크기만큼 데이터를 추출함"
   ]
  },
  {
   "cell_type": "markdown",
   "metadata": {},
   "source": [
    "[1] 모듈 로딩 및 데이터 준비 <hr>"
   ]
  },
  {
   "cell_type": "code",
   "execution_count": 5,
   "metadata": {},
   "outputs": [],
   "source": [
    "# 모듈로딩\n",
    "import torch\n",
    "import torch.nn as nn\n",
    "from torch.utils.data import Dataset, DataLoader\n",
    "\n",
    "import pandas as pd\n",
    "from sklearn.preprocessing import LabelEncoder      # 타겟 컬럼 수치화"
   ]
  },
  {
   "cell_type": "code",
   "execution_count": 6,
   "metadata": {},
   "outputs": [],
   "source": [
    "# 데이터\n",
    "DATA_FILE = r'C:\\Users\\KDP-27\\Desktop\\KDT6\\MachineLearning\\data\\iris.csv'"
   ]
  },
  {
   "cell_type": "code",
   "execution_count": 7,
   "metadata": {},
   "outputs": [
    {
     "data": {
      "text/html": [
       "<div>\n",
       "<style scoped>\n",
       "    .dataframe tbody tr th:only-of-type {\n",
       "        vertical-align: middle;\n",
       "    }\n",
       "\n",
       "    .dataframe tbody tr th {\n",
       "        vertical-align: top;\n",
       "    }\n",
       "\n",
       "    .dataframe thead th {\n",
       "        text-align: right;\n",
       "    }\n",
       "</style>\n",
       "<table border=\"1\" class=\"dataframe\">\n",
       "  <thead>\n",
       "    <tr style=\"text-align: right;\">\n",
       "      <th></th>\n",
       "      <th>sepal.length</th>\n",
       "      <th>sepal.width</th>\n",
       "      <th>petal.length</th>\n",
       "      <th>petal.width</th>\n",
       "      <th>variety</th>\n",
       "    </tr>\n",
       "  </thead>\n",
       "  <tbody>\n",
       "    <tr>\n",
       "      <th>0</th>\n",
       "      <td>5.1</td>\n",
       "      <td>3.5</td>\n",
       "      <td>1.4</td>\n",
       "      <td>0.2</td>\n",
       "      <td>Setosa</td>\n",
       "    </tr>\n",
       "    <tr>\n",
       "      <th>1</th>\n",
       "      <td>4.9</td>\n",
       "      <td>3.0</td>\n",
       "      <td>1.4</td>\n",
       "      <td>0.2</td>\n",
       "      <td>Setosa</td>\n",
       "    </tr>\n",
       "  </tbody>\n",
       "</table>\n",
       "</div>"
      ],
      "text/plain": [
       "   sepal.length  sepal.width  petal.length  petal.width variety\n",
       "0           5.1          3.5           1.4          0.2  Setosa\n",
       "1           4.9          3.0           1.4          0.2  Setosa"
      ]
     },
     "execution_count": 7,
     "metadata": {},
     "output_type": "execute_result"
    }
   ],
   "source": [
    "# CSV ==> DtaFrame\n",
    "irisDF=pd.read_csv(DATA_FILE)\n",
    "irisDF.head(2)"
   ]
  },
  {
   "cell_type": "code",
   "execution_count": 9,
   "metadata": {},
   "outputs": [
    {
     "data": {
      "text/html": [
       "<div>\n",
       "<style scoped>\n",
       "    .dataframe tbody tr th:only-of-type {\n",
       "        vertical-align: middle;\n",
       "    }\n",
       "\n",
       "    .dataframe tbody tr th {\n",
       "        vertical-align: top;\n",
       "    }\n",
       "\n",
       "    .dataframe thead th {\n",
       "        text-align: right;\n",
       "    }\n",
       "</style>\n",
       "<table border=\"1\" class=\"dataframe\">\n",
       "  <thead>\n",
       "    <tr style=\"text-align: right;\">\n",
       "      <th></th>\n",
       "      <th>sepal.length</th>\n",
       "      <th>sepal.width</th>\n",
       "      <th>petal.length</th>\n",
       "      <th>petal.width</th>\n",
       "      <th>variety</th>\n",
       "    </tr>\n",
       "  </thead>\n",
       "  <tbody>\n",
       "    <tr>\n",
       "      <th>0</th>\n",
       "      <td>5.1</td>\n",
       "      <td>3.5</td>\n",
       "      <td>1.4</td>\n",
       "      <td>0.2</td>\n",
       "      <td>0</td>\n",
       "    </tr>\n",
       "    <tr>\n",
       "      <th>1</th>\n",
       "      <td>4.9</td>\n",
       "      <td>3.0</td>\n",
       "      <td>1.4</td>\n",
       "      <td>0.2</td>\n",
       "      <td>0</td>\n",
       "    </tr>\n",
       "  </tbody>\n",
       "</table>\n",
       "</div>"
      ],
      "text/plain": [
       "   sepal.length  sepal.width  petal.length  petal.width  variety\n",
       "0           5.1          3.5           1.4          0.2        0\n",
       "1           4.9          3.0           1.4          0.2        0"
      ]
     },
     "execution_count": 9,
     "metadata": {},
     "output_type": "execute_result"
    }
   ],
   "source": [
    "# 타겟 컬럼 수치화 ==> LabelEncoder\n",
    "encoder = LabelEncoder()\n",
    "encoder.fit(irisDF['variety'])\n",
    "irisDF['variety'] = encoder.transform(irisDF['variety'])\n",
    "\n",
    "irisDF.head(2)\n",
    "\n"
   ]
  },
  {
   "cell_type": "markdown",
   "metadata": {},
   "source": [
    "[2] 사용자 정의 데이터셋 클래스 생성 <hr>"
   ]
  },
  {
   "cell_type": "code",
   "execution_count": 10,
   "metadata": {},
   "outputs": [],
   "source": [
    "# -------------------------------------------------------------------------------------\n",
    "# 클래스 목적 : 학습용 데이터셋 텐서화 및 전처리\n",
    "# 클래스 이름 : CustomDataSet\n",
    "# 부모 클래스 : torch.utils.data.Dataset\n",
    "# 매 개 변 수 : feature, targetDF\n",
    "# ------------------------------------------------------------------------------------- "
   ]
  },
  {
   "cell_type": "code",
   "execution_count": 37,
   "metadata": {},
   "outputs": [],
   "source": [
    "class CustomDataset(Dataset):\n",
    "    # 데이터 로딩 및 전처리 진행과 인스턴스 생성 메서드\n",
    "    def __init__(self, featureDF, targetDF):\n",
    "        super().__init__()        \n",
    "        self.featureDF=featureDF\n",
    "        self.targetDF=targetDF\n",
    "        self.n_rows=featureDF.shape[0]\n",
    "        self.n_features=featureDF.shape[1]\n",
    "\n",
    "    # 데이터의 개수 반환 메서드\n",
    "    def __len__(self):\n",
    "        \n",
    "        return self.n_rows\n",
    "\n",
    "    # 특정 index의 데이터와 타겟 반환 메서드 => Tensor 반환!!!\n",
    "    def __getitem__(self,idx):\n",
    "        fearureTS = torch.FloatTensor(self.featureDF.iloc[idx].values)     # 시리즈-> ndarray -> Tensor 로 변환\n",
    "        targetTS = torch.FloatTensor(self.targetDF.iloc[idx].values)\n",
    "\n",
    "        return fearureTS, targetTS"
   ]
  },
  {
   "cell_type": "code",
   "execution_count": 38,
   "metadata": {},
   "outputs": [],
   "source": [
    "# ----------------------------------------------------------------------------------------\n",
    "# 함수기능 : 파일 확장자별 데이터프레임 변환 기능\n",
    "# 함수이름 : convertDataFrame\n",
    "# 매개변수 : data_path\n",
    "# 함수결과 : DataFrame\n",
    "# -----------------------------------------------------------------------------------------\n",
    "\n",
    "def convertDataFrame(data_path,exit_header=0):\n",
    "    ext = data_path.rsplit('.')[-1]\n",
    "    if ext == 'csv':\n",
    "        return pd.read_csv(data_path, header = exit_header)\n",
    "    elif ext == 'json':\n",
    "        return pd.read_json(data_path, header = exit_header)\n",
    "    elif ext in ['xlsx','xls']:\n",
    "        return pd.read_excel(data_path, header = exit_header)\n",
    "    else:\n",
    "        return pd.read_table(data_path, header = exit_header)\n",
    "\n"
   ]
  },
  {
   "cell_type": "code",
   "execution_count": 40,
   "metadata": {},
   "outputs": [],
   "source": [
    "# ----------------------------------------------------------------------------------------\n",
    "# 클래스기능 : 파일기반 데이터셋\n",
    "# 클래스이름: FileDataset\n",
    "# 매개 변수: data_path 파일경로\n",
    "# 부모클래스 : utils.data.Dataset\n",
    "# -----------------------------------------------------------------------------------------\n",
    "\n",
    "\n",
    "class FileDataset(Dataset):\n",
    "    # 데이터 로딩 및 전처리 진행과 인스턴스 생성 메서드\n",
    "    def __init__(self, data_path):\n",
    "        super().__init__()        \n",
    "\n",
    "        # 데이터파일 ==> DataFrame 변환\n",
    "        dataDF=convertDataFrame(data_path)\n",
    "\n",
    "        # DataFrame ==> 피쳐와 타겟 추출\n",
    "        self.featuresDF=dataDF[dataDF.columns[:-1]]\n",
    "        self.targetDF=dataDF[dataDF.columns[-1:]]\n",
    "\n",
    "        self.n_features=dataDF.shape[1]\n",
    "        self.n_rows=self.featuresDF.shape[0]\n",
    "\n",
    "    # 데이터의 개수 반환 메서드\n",
    "    def __len__(self):\n",
    "        pass\n",
    "\n",
    "    # 특정 index의 데이터와 타겟 반환 메서드 => Tensor 반환!!!\n",
    "    def __getitem__(self,idx):\n",
    "        fearureTS = torch.FloatTensor(self.featureDF.iloc[idx].values)     # 시리즈-> ndarray -> Tensor 로 변환\n",
    "        targetTS = torch.FloatTensor(self.targetDF.iloc[idx].values)\n",
    "\n",
    "        return fearureTS, targetTS\n"
   ]
  },
  {
   "cell_type": "markdown",
   "metadata": {},
   "source": [
    "[3] 데이터셋 인스턴스 생성 <hr>"
   ]
  },
  {
   "cell_type": "code",
   "execution_count": 18,
   "metadata": {},
   "outputs": [
    {
     "name": "stdout",
     "output_type": "stream",
     "text": [
      "featureDF => (150, 4), targetDF => (150, 1)\n"
     ]
    }
   ],
   "source": [
    "# 피쳐와 타겟 추출\n",
    "featureDF, targetDF=irisDF[irisDF.columns[:-1]], irisDF[[irisDF.columns[-1]]]  \n",
    "print(f'featureDF => {featureDF.shape}, targetDF => {targetDF.shape}')\n",
    "\n",
    "\n"
   ]
  },
  {
   "cell_type": "code",
   "execution_count": 19,
   "metadata": {},
   "outputs": [],
   "source": [
    "# IRIS 데이터셋 인스턴스 생성\n",
    "irisDS=CustomDataset(featureDF, targetDF)"
   ]
  },
  {
   "cell_type": "code",
   "execution_count": 20,
   "metadata": {},
   "outputs": [
    {
     "data": {
      "text/html": [
       "<div>\n",
       "<style scoped>\n",
       "    .dataframe tbody tr th:only-of-type {\n",
       "        vertical-align: middle;\n",
       "    }\n",
       "\n",
       "    .dataframe tbody tr th {\n",
       "        vertical-align: top;\n",
       "    }\n",
       "\n",
       "    .dataframe thead th {\n",
       "        text-align: right;\n",
       "    }\n",
       "</style>\n",
       "<table border=\"1\" class=\"dataframe\">\n",
       "  <thead>\n",
       "    <tr style=\"text-align: right;\">\n",
       "      <th></th>\n",
       "      <th>sepal.length</th>\n",
       "      <th>sepal.width</th>\n",
       "      <th>petal.length</th>\n",
       "      <th>petal.width</th>\n",
       "    </tr>\n",
       "  </thead>\n",
       "  <tbody>\n",
       "    <tr>\n",
       "      <th>0</th>\n",
       "      <td>5.1</td>\n",
       "      <td>3.5</td>\n",
       "      <td>1.4</td>\n",
       "      <td>0.2</td>\n",
       "    </tr>\n",
       "    <tr>\n",
       "      <th>1</th>\n",
       "      <td>4.9</td>\n",
       "      <td>3.0</td>\n",
       "      <td>1.4</td>\n",
       "      <td>0.2</td>\n",
       "    </tr>\n",
       "    <tr>\n",
       "      <th>2</th>\n",
       "      <td>4.7</td>\n",
       "      <td>3.2</td>\n",
       "      <td>1.3</td>\n",
       "      <td>0.2</td>\n",
       "    </tr>\n",
       "    <tr>\n",
       "      <th>3</th>\n",
       "      <td>4.6</td>\n",
       "      <td>3.1</td>\n",
       "      <td>1.5</td>\n",
       "      <td>0.2</td>\n",
       "    </tr>\n",
       "    <tr>\n",
       "      <th>4</th>\n",
       "      <td>5.0</td>\n",
       "      <td>3.6</td>\n",
       "      <td>1.4</td>\n",
       "      <td>0.2</td>\n",
       "    </tr>\n",
       "    <tr>\n",
       "      <th>...</th>\n",
       "      <td>...</td>\n",
       "      <td>...</td>\n",
       "      <td>...</td>\n",
       "      <td>...</td>\n",
       "    </tr>\n",
       "    <tr>\n",
       "      <th>145</th>\n",
       "      <td>6.7</td>\n",
       "      <td>3.0</td>\n",
       "      <td>5.2</td>\n",
       "      <td>2.3</td>\n",
       "    </tr>\n",
       "    <tr>\n",
       "      <th>146</th>\n",
       "      <td>6.3</td>\n",
       "      <td>2.5</td>\n",
       "      <td>5.0</td>\n",
       "      <td>1.9</td>\n",
       "    </tr>\n",
       "    <tr>\n",
       "      <th>147</th>\n",
       "      <td>6.5</td>\n",
       "      <td>3.0</td>\n",
       "      <td>5.2</td>\n",
       "      <td>2.0</td>\n",
       "    </tr>\n",
       "    <tr>\n",
       "      <th>148</th>\n",
       "      <td>6.2</td>\n",
       "      <td>3.4</td>\n",
       "      <td>5.4</td>\n",
       "      <td>2.3</td>\n",
       "    </tr>\n",
       "    <tr>\n",
       "      <th>149</th>\n",
       "      <td>5.9</td>\n",
       "      <td>3.0</td>\n",
       "      <td>5.1</td>\n",
       "      <td>1.8</td>\n",
       "    </tr>\n",
       "  </tbody>\n",
       "</table>\n",
       "<p>150 rows × 4 columns</p>\n",
       "</div>"
      ],
      "text/plain": [
       "     sepal.length  sepal.width  petal.length  petal.width\n",
       "0             5.1          3.5           1.4          0.2\n",
       "1             4.9          3.0           1.4          0.2\n",
       "2             4.7          3.2           1.3          0.2\n",
       "3             4.6          3.1           1.5          0.2\n",
       "4             5.0          3.6           1.4          0.2\n",
       "..            ...          ...           ...          ...\n",
       "145           6.7          3.0           5.2          2.3\n",
       "146           6.3          2.5           5.0          1.9\n",
       "147           6.5          3.0           5.2          2.0\n",
       "148           6.2          3.4           5.4          2.3\n",
       "149           5.9          3.0           5.1          1.8\n",
       "\n",
       "[150 rows x 4 columns]"
      ]
     },
     "execution_count": 20,
     "metadata": {},
     "output_type": "execute_result"
    }
   ],
   "source": [
    "# IRIS 데이터셋\n",
    "irisDS.featureDF"
   ]
  },
  {
   "cell_type": "code",
   "execution_count": 21,
   "metadata": {},
   "outputs": [
    {
     "data": {
      "text/plain": [
       "(4, 150)"
      ]
     },
     "execution_count": 21,
     "metadata": {},
     "output_type": "execute_result"
    }
   ],
   "source": [
    "irisDS.n_features, irisDS.n_rows"
   ]
  },
  {
   "cell_type": "code",
   "execution_count": 22,
   "metadata": {},
   "outputs": [
    {
     "data": {
      "text/plain": [
       "(tensor([5.1000, 3.5000, 1.4000, 0.2000]), tensor([0.]))"
      ]
     },
     "execution_count": 22,
     "metadata": {},
     "output_type": "execute_result"
    }
   ],
   "source": [
    "# 데이터셋 메서드\n",
    "irisDS[0]"
   ]
  },
  {
   "cell_type": "markdown",
   "metadata": {},
   "source": [
    "[4] 데이터로더 인스턴스 생성"
   ]
  },
  {
   "cell_type": "code",
   "execution_count": 24,
   "metadata": {},
   "outputs": [],
   "source": [
    "## 필요한 것 : Dataset 인스턴스, Batch_size=1 (기본값)\n",
    "irisDL=DataLoader(irisDS)"
   ]
  },
  {
   "cell_type": "code",
   "execution_count": 26,
   "metadata": {},
   "outputs": [
    {
     "data": {
      "text/plain": [
       "<torch.utils.data.dataloader._SingleProcessDataLoaderIter at 0x2051572fd90>"
      ]
     },
     "execution_count": 26,
     "metadata": {},
     "output_type": "execute_result"
    }
   ],
   "source": [
    "irisDL.__iter__()"
   ]
  },
  {
   "cell_type": "code",
   "execution_count": 28,
   "metadata": {},
   "outputs": [
    {
     "name": "stdout",
     "output_type": "stream",
     "text": [
      "[tensor([[5.1000, 3.5000, 1.4000, 0.2000]]), tensor([[0.]])]\n",
      "[tensor([[4.9000, 3.0000, 1.4000, 0.2000]]), tensor([[0.]])]\n",
      "[tensor([[4.7000, 3.2000, 1.3000, 0.2000]]), tensor([[0.]])]\n",
      "[tensor([[4.6000, 3.1000, 1.5000, 0.2000]]), tensor([[0.]])]\n",
      "[tensor([[5.0000, 3.6000, 1.4000, 0.2000]]), tensor([[0.]])]\n",
      "[tensor([[5.4000, 3.9000, 1.7000, 0.4000]]), tensor([[0.]])]\n",
      "[tensor([[4.6000, 3.4000, 1.4000, 0.3000]]), tensor([[0.]])]\n",
      "[tensor([[5.0000, 3.4000, 1.5000, 0.2000]]), tensor([[0.]])]\n",
      "[tensor([[4.4000, 2.9000, 1.4000, 0.2000]]), tensor([[0.]])]\n",
      "[tensor([[4.9000, 3.1000, 1.5000, 0.1000]]), tensor([[0.]])]\n",
      "[tensor([[5.4000, 3.7000, 1.5000, 0.2000]]), tensor([[0.]])]\n",
      "[tensor([[4.8000, 3.4000, 1.6000, 0.2000]]), tensor([[0.]])]\n",
      "[tensor([[4.8000, 3.0000, 1.4000, 0.1000]]), tensor([[0.]])]\n",
      "[tensor([[4.3000, 3.0000, 1.1000, 0.1000]]), tensor([[0.]])]\n",
      "[tensor([[5.8000, 4.0000, 1.2000, 0.2000]]), tensor([[0.]])]\n",
      "[tensor([[5.7000, 4.4000, 1.5000, 0.4000]]), tensor([[0.]])]\n",
      "[tensor([[5.4000, 3.9000, 1.3000, 0.4000]]), tensor([[0.]])]\n",
      "[tensor([[5.1000, 3.5000, 1.4000, 0.3000]]), tensor([[0.]])]\n",
      "[tensor([[5.7000, 3.8000, 1.7000, 0.3000]]), tensor([[0.]])]\n",
      "[tensor([[5.1000, 3.8000, 1.5000, 0.3000]]), tensor([[0.]])]\n",
      "[tensor([[5.4000, 3.4000, 1.7000, 0.2000]]), tensor([[0.]])]\n",
      "[tensor([[5.1000, 3.7000, 1.5000, 0.4000]]), tensor([[0.]])]\n",
      "[tensor([[4.6000, 3.6000, 1.0000, 0.2000]]), tensor([[0.]])]\n",
      "[tensor([[5.1000, 3.3000, 1.7000, 0.5000]]), tensor([[0.]])]\n",
      "[tensor([[4.8000, 3.4000, 1.9000, 0.2000]]), tensor([[0.]])]\n",
      "[tensor([[5.0000, 3.0000, 1.6000, 0.2000]]), tensor([[0.]])]\n",
      "[tensor([[5.0000, 3.4000, 1.6000, 0.4000]]), tensor([[0.]])]\n",
      "[tensor([[5.2000, 3.5000, 1.5000, 0.2000]]), tensor([[0.]])]\n",
      "[tensor([[5.2000, 3.4000, 1.4000, 0.2000]]), tensor([[0.]])]\n",
      "[tensor([[4.7000, 3.2000, 1.6000, 0.2000]]), tensor([[0.]])]\n",
      "[tensor([[4.8000, 3.1000, 1.6000, 0.2000]]), tensor([[0.]])]\n",
      "[tensor([[5.4000, 3.4000, 1.5000, 0.4000]]), tensor([[0.]])]\n",
      "[tensor([[5.2000, 4.1000, 1.5000, 0.1000]]), tensor([[0.]])]\n",
      "[tensor([[5.5000, 4.2000, 1.4000, 0.2000]]), tensor([[0.]])]\n",
      "[tensor([[4.9000, 3.1000, 1.5000, 0.2000]]), tensor([[0.]])]\n",
      "[tensor([[5.0000, 3.2000, 1.2000, 0.2000]]), tensor([[0.]])]\n",
      "[tensor([[5.5000, 3.5000, 1.3000, 0.2000]]), tensor([[0.]])]\n",
      "[tensor([[4.9000, 3.6000, 1.4000, 0.1000]]), tensor([[0.]])]\n",
      "[tensor([[4.4000, 3.0000, 1.3000, 0.2000]]), tensor([[0.]])]\n",
      "[tensor([[5.1000, 3.4000, 1.5000, 0.2000]]), tensor([[0.]])]\n",
      "[tensor([[5.0000, 3.5000, 1.3000, 0.3000]]), tensor([[0.]])]\n",
      "[tensor([[4.5000, 2.3000, 1.3000, 0.3000]]), tensor([[0.]])]\n",
      "[tensor([[4.4000, 3.2000, 1.3000, 0.2000]]), tensor([[0.]])]\n",
      "[tensor([[5.0000, 3.5000, 1.6000, 0.6000]]), tensor([[0.]])]\n",
      "[tensor([[5.1000, 3.8000, 1.9000, 0.4000]]), tensor([[0.]])]\n",
      "[tensor([[4.8000, 3.0000, 1.4000, 0.3000]]), tensor([[0.]])]\n",
      "[tensor([[5.1000, 3.8000, 1.6000, 0.2000]]), tensor([[0.]])]\n",
      "[tensor([[4.6000, 3.2000, 1.4000, 0.2000]]), tensor([[0.]])]\n",
      "[tensor([[5.3000, 3.7000, 1.5000, 0.2000]]), tensor([[0.]])]\n",
      "[tensor([[5.0000, 3.3000, 1.4000, 0.2000]]), tensor([[0.]])]\n",
      "[tensor([[7.0000, 3.2000, 4.7000, 1.4000]]), tensor([[1.]])]\n",
      "[tensor([[6.4000, 3.2000, 4.5000, 1.5000]]), tensor([[1.]])]\n",
      "[tensor([[6.9000, 3.1000, 4.9000, 1.5000]]), tensor([[1.]])]\n",
      "[tensor([[5.5000, 2.3000, 4.0000, 1.3000]]), tensor([[1.]])]\n",
      "[tensor([[6.5000, 2.8000, 4.6000, 1.5000]]), tensor([[1.]])]\n",
      "[tensor([[5.7000, 2.8000, 4.5000, 1.3000]]), tensor([[1.]])]\n",
      "[tensor([[6.3000, 3.3000, 4.7000, 1.6000]]), tensor([[1.]])]\n",
      "[tensor([[4.9000, 2.4000, 3.3000, 1.0000]]), tensor([[1.]])]\n",
      "[tensor([[6.6000, 2.9000, 4.6000, 1.3000]]), tensor([[1.]])]\n",
      "[tensor([[5.2000, 2.7000, 3.9000, 1.4000]]), tensor([[1.]])]\n",
      "[tensor([[5.0000, 2.0000, 3.5000, 1.0000]]), tensor([[1.]])]\n",
      "[tensor([[5.9000, 3.0000, 4.2000, 1.5000]]), tensor([[1.]])]\n",
      "[tensor([[6.0000, 2.2000, 4.0000, 1.0000]]), tensor([[1.]])]\n",
      "[tensor([[6.1000, 2.9000, 4.7000, 1.4000]]), tensor([[1.]])]\n",
      "[tensor([[5.6000, 2.9000, 3.6000, 1.3000]]), tensor([[1.]])]\n",
      "[tensor([[6.7000, 3.1000, 4.4000, 1.4000]]), tensor([[1.]])]\n",
      "[tensor([[5.6000, 3.0000, 4.5000, 1.5000]]), tensor([[1.]])]\n",
      "[tensor([[5.8000, 2.7000, 4.1000, 1.0000]]), tensor([[1.]])]\n",
      "[tensor([[6.2000, 2.2000, 4.5000, 1.5000]]), tensor([[1.]])]\n",
      "[tensor([[5.6000, 2.5000, 3.9000, 1.1000]]), tensor([[1.]])]\n",
      "[tensor([[5.9000, 3.2000, 4.8000, 1.8000]]), tensor([[1.]])]\n",
      "[tensor([[6.1000, 2.8000, 4.0000, 1.3000]]), tensor([[1.]])]\n",
      "[tensor([[6.3000, 2.5000, 4.9000, 1.5000]]), tensor([[1.]])]\n",
      "[tensor([[6.1000, 2.8000, 4.7000, 1.2000]]), tensor([[1.]])]\n",
      "[tensor([[6.4000, 2.9000, 4.3000, 1.3000]]), tensor([[1.]])]\n",
      "[tensor([[6.6000, 3.0000, 4.4000, 1.4000]]), tensor([[1.]])]\n",
      "[tensor([[6.8000, 2.8000, 4.8000, 1.4000]]), tensor([[1.]])]\n",
      "[tensor([[6.7000, 3.0000, 5.0000, 1.7000]]), tensor([[1.]])]\n",
      "[tensor([[6.0000, 2.9000, 4.5000, 1.5000]]), tensor([[1.]])]\n",
      "[tensor([[5.7000, 2.6000, 3.5000, 1.0000]]), tensor([[1.]])]\n",
      "[tensor([[5.5000, 2.4000, 3.8000, 1.1000]]), tensor([[1.]])]\n",
      "[tensor([[5.5000, 2.4000, 3.7000, 1.0000]]), tensor([[1.]])]\n",
      "[tensor([[5.8000, 2.7000, 3.9000, 1.2000]]), tensor([[1.]])]\n",
      "[tensor([[6.0000, 2.7000, 5.1000, 1.6000]]), tensor([[1.]])]\n",
      "[tensor([[5.4000, 3.0000, 4.5000, 1.5000]]), tensor([[1.]])]\n",
      "[tensor([[6.0000, 3.4000, 4.5000, 1.6000]]), tensor([[1.]])]\n",
      "[tensor([[6.7000, 3.1000, 4.7000, 1.5000]]), tensor([[1.]])]\n",
      "[tensor([[6.3000, 2.3000, 4.4000, 1.3000]]), tensor([[1.]])]\n",
      "[tensor([[5.6000, 3.0000, 4.1000, 1.3000]]), tensor([[1.]])]\n",
      "[tensor([[5.5000, 2.5000, 4.0000, 1.3000]]), tensor([[1.]])]\n",
      "[tensor([[5.5000, 2.6000, 4.4000, 1.2000]]), tensor([[1.]])]\n",
      "[tensor([[6.1000, 3.0000, 4.6000, 1.4000]]), tensor([[1.]])]\n",
      "[tensor([[5.8000, 2.6000, 4.0000, 1.2000]]), tensor([[1.]])]\n",
      "[tensor([[5.0000, 2.3000, 3.3000, 1.0000]]), tensor([[1.]])]\n",
      "[tensor([[5.6000, 2.7000, 4.2000, 1.3000]]), tensor([[1.]])]\n",
      "[tensor([[5.7000, 3.0000, 4.2000, 1.2000]]), tensor([[1.]])]\n",
      "[tensor([[5.7000, 2.9000, 4.2000, 1.3000]]), tensor([[1.]])]\n",
      "[tensor([[6.2000, 2.9000, 4.3000, 1.3000]]), tensor([[1.]])]\n",
      "[tensor([[5.1000, 2.5000, 3.0000, 1.1000]]), tensor([[1.]])]\n",
      "[tensor([[5.7000, 2.8000, 4.1000, 1.3000]]), tensor([[1.]])]\n",
      "[tensor([[6.3000, 3.3000, 6.0000, 2.5000]]), tensor([[2.]])]\n",
      "[tensor([[5.8000, 2.7000, 5.1000, 1.9000]]), tensor([[2.]])]\n",
      "[tensor([[7.1000, 3.0000, 5.9000, 2.1000]]), tensor([[2.]])]\n",
      "[tensor([[6.3000, 2.9000, 5.6000, 1.8000]]), tensor([[2.]])]\n",
      "[tensor([[6.5000, 3.0000, 5.8000, 2.2000]]), tensor([[2.]])]\n",
      "[tensor([[7.6000, 3.0000, 6.6000, 2.1000]]), tensor([[2.]])]\n",
      "[tensor([[4.9000, 2.5000, 4.5000, 1.7000]]), tensor([[2.]])]\n",
      "[tensor([[7.3000, 2.9000, 6.3000, 1.8000]]), tensor([[2.]])]\n",
      "[tensor([[6.7000, 2.5000, 5.8000, 1.8000]]), tensor([[2.]])]\n",
      "[tensor([[7.2000, 3.6000, 6.1000, 2.5000]]), tensor([[2.]])]\n",
      "[tensor([[6.5000, 3.2000, 5.1000, 2.0000]]), tensor([[2.]])]\n",
      "[tensor([[6.4000, 2.7000, 5.3000, 1.9000]]), tensor([[2.]])]\n",
      "[tensor([[6.8000, 3.0000, 5.5000, 2.1000]]), tensor([[2.]])]\n",
      "[tensor([[5.7000, 2.5000, 5.0000, 2.0000]]), tensor([[2.]])]\n",
      "[tensor([[5.8000, 2.8000, 5.1000, 2.4000]]), tensor([[2.]])]\n",
      "[tensor([[6.4000, 3.2000, 5.3000, 2.3000]]), tensor([[2.]])]\n",
      "[tensor([[6.5000, 3.0000, 5.5000, 1.8000]]), tensor([[2.]])]\n",
      "[tensor([[7.7000, 3.8000, 6.7000, 2.2000]]), tensor([[2.]])]\n",
      "[tensor([[7.7000, 2.6000, 6.9000, 2.3000]]), tensor([[2.]])]\n",
      "[tensor([[6.0000, 2.2000, 5.0000, 1.5000]]), tensor([[2.]])]\n",
      "[tensor([[6.9000, 3.2000, 5.7000, 2.3000]]), tensor([[2.]])]\n",
      "[tensor([[5.6000, 2.8000, 4.9000, 2.0000]]), tensor([[2.]])]\n",
      "[tensor([[7.7000, 2.8000, 6.7000, 2.0000]]), tensor([[2.]])]\n",
      "[tensor([[6.3000, 2.7000, 4.9000, 1.8000]]), tensor([[2.]])]\n",
      "[tensor([[6.7000, 3.3000, 5.7000, 2.1000]]), tensor([[2.]])]\n",
      "[tensor([[7.2000, 3.2000, 6.0000, 1.8000]]), tensor([[2.]])]\n",
      "[tensor([[6.2000, 2.8000, 4.8000, 1.8000]]), tensor([[2.]])]\n",
      "[tensor([[6.1000, 3.0000, 4.9000, 1.8000]]), tensor([[2.]])]\n",
      "[tensor([[6.4000, 2.8000, 5.6000, 2.1000]]), tensor([[2.]])]\n",
      "[tensor([[7.2000, 3.0000, 5.8000, 1.6000]]), tensor([[2.]])]\n",
      "[tensor([[7.4000, 2.8000, 6.1000, 1.9000]]), tensor([[2.]])]\n",
      "[tensor([[7.9000, 3.8000, 6.4000, 2.0000]]), tensor([[2.]])]\n",
      "[tensor([[6.4000, 2.8000, 5.6000, 2.2000]]), tensor([[2.]])]\n",
      "[tensor([[6.3000, 2.8000, 5.1000, 1.5000]]), tensor([[2.]])]\n",
      "[tensor([[6.1000, 2.6000, 5.6000, 1.4000]]), tensor([[2.]])]\n",
      "[tensor([[7.7000, 3.0000, 6.1000, 2.3000]]), tensor([[2.]])]\n",
      "[tensor([[6.3000, 3.4000, 5.6000, 2.4000]]), tensor([[2.]])]\n",
      "[tensor([[6.4000, 3.1000, 5.5000, 1.8000]]), tensor([[2.]])]\n",
      "[tensor([[6.0000, 3.0000, 4.8000, 1.8000]]), tensor([[2.]])]\n",
      "[tensor([[6.9000, 3.1000, 5.4000, 2.1000]]), tensor([[2.]])]\n",
      "[tensor([[6.7000, 3.1000, 5.6000, 2.4000]]), tensor([[2.]])]\n",
      "[tensor([[6.9000, 3.1000, 5.1000, 2.3000]]), tensor([[2.]])]\n",
      "[tensor([[5.8000, 2.7000, 5.1000, 1.9000]]), tensor([[2.]])]\n",
      "[tensor([[6.8000, 3.2000, 5.9000, 2.3000]]), tensor([[2.]])]\n",
      "[tensor([[6.7000, 3.3000, 5.7000, 2.5000]]), tensor([[2.]])]\n",
      "[tensor([[6.7000, 3.0000, 5.2000, 2.3000]]), tensor([[2.]])]\n",
      "[tensor([[6.3000, 2.5000, 5.0000, 1.9000]]), tensor([[2.]])]\n",
      "[tensor([[6.5000, 3.0000, 5.2000, 2.0000]]), tensor([[2.]])]\n",
      "[tensor([[6.2000, 3.4000, 5.4000, 2.3000]]), tensor([[2.]])]\n",
      "[tensor([[5.9000, 3.0000, 5.1000, 1.8000]]), tensor([[2.]])]\n"
     ]
    }
   ],
   "source": [
    "for _ in irisDL:\n",
    "    print(_)\n",
    "    break"
   ]
  },
  {
   "cell_type": "code",
   "execution_count": 36,
   "metadata": {},
   "outputs": [
    {
     "name": "stdout",
     "output_type": "stream",
     "text": [
      "torch.Size([3, 4]) torch.Size([3, 1])\n",
      "torch.Size([3, 4]) torch.Size([3, 1])\n",
      "torch.Size([3, 4]) torch.Size([3, 1])\n",
      "torch.Size([3, 4]) torch.Size([3, 1])\n",
      "torch.Size([3, 4]) torch.Size([3, 1])\n",
      "torch.Size([3, 4]) torch.Size([3, 1])\n",
      "torch.Size([3, 4]) torch.Size([3, 1])\n",
      "torch.Size([3, 4]) torch.Size([3, 1])\n",
      "torch.Size([3, 4]) torch.Size([3, 1])\n",
      "torch.Size([3, 4]) torch.Size([3, 1])\n",
      "torch.Size([3, 4]) torch.Size([3, 1])\n",
      "torch.Size([3, 4]) torch.Size([3, 1])\n",
      "torch.Size([3, 4]) torch.Size([3, 1])\n",
      "torch.Size([3, 4]) torch.Size([3, 1])\n",
      "torch.Size([3, 4]) torch.Size([3, 1])\n",
      "torch.Size([3, 4]) torch.Size([3, 1])\n",
      "torch.Size([3, 4]) torch.Size([3, 1])\n",
      "torch.Size([3, 4]) torch.Size([3, 1])\n",
      "torch.Size([3, 4]) torch.Size([3, 1])\n",
      "torch.Size([3, 4]) torch.Size([3, 1])\n",
      "torch.Size([3, 4]) torch.Size([3, 1])\n",
      "torch.Size([3, 4]) torch.Size([3, 1])\n",
      "torch.Size([3, 4]) torch.Size([3, 1])\n",
      "torch.Size([3, 4]) torch.Size([3, 1])\n",
      "torch.Size([3, 4]) torch.Size([3, 1])\n",
      "torch.Size([3, 4]) torch.Size([3, 1])\n",
      "torch.Size([3, 4]) torch.Size([3, 1])\n",
      "torch.Size([3, 4]) torch.Size([3, 1])\n",
      "torch.Size([3, 4]) torch.Size([3, 1])\n",
      "torch.Size([3, 4]) torch.Size([3, 1])\n",
      "torch.Size([3, 4]) torch.Size([3, 1])\n",
      "torch.Size([3, 4]) torch.Size([3, 1])\n",
      "torch.Size([3, 4]) torch.Size([3, 1])\n",
      "torch.Size([3, 4]) torch.Size([3, 1])\n",
      "torch.Size([3, 4]) torch.Size([3, 1])\n",
      "torch.Size([3, 4]) torch.Size([3, 1])\n",
      "torch.Size([3, 4]) torch.Size([3, 1])\n",
      "torch.Size([3, 4]) torch.Size([3, 1])\n",
      "torch.Size([3, 4]) torch.Size([3, 1])\n",
      "torch.Size([3, 4]) torch.Size([3, 1])\n",
      "torch.Size([3, 4]) torch.Size([3, 1])\n",
      "torch.Size([3, 4]) torch.Size([3, 1])\n",
      "torch.Size([3, 4]) torch.Size([3, 1])\n",
      "torch.Size([3, 4]) torch.Size([3, 1])\n",
      "torch.Size([3, 4]) torch.Size([3, 1])\n",
      "torch.Size([3, 4]) torch.Size([3, 1])\n",
      "torch.Size([3, 4]) torch.Size([3, 1])\n",
      "torch.Size([3, 4]) torch.Size([3, 1])\n",
      "torch.Size([3, 4]) torch.Size([3, 1])\n",
      "torch.Size([3, 4]) torch.Size([3, 1])\n"
     ]
    }
   ],
   "source": [
    "## 필요한 것 : Dataset 인스턴스, Batch_size=1 (기본값)\n",
    "irisDL=DataLoader(irisDS,batch_size=3)\n",
    "\n",
    "for dataTS, targetTS in irisDL:\n",
    "    print(dataTS.shape, targetTS.shape)    #batch_size 만큼 출력"
   ]
  },
  {
   "cell_type": "code",
   "execution_count": null,
   "metadata": {},
   "outputs": [],
   "source": []
  }
 ],
 "metadata": {
  "kernelspec": {
   "display_name": "TORCH_38",
   "language": "python",
   "name": "python3"
  },
  "language_info": {
   "codemirror_mode": {
    "name": "ipython",
    "version": 3
   },
   "file_extension": ".py",
   "mimetype": "text/x-python",
   "name": "python",
   "nbconvert_exporter": "python",
   "pygments_lexer": "ipython3",
   "version": "3.8.19"
  }
 },
 "nbformat": 4,
 "nbformat_minor": 2
}
