{
 "cells": [
  {
   "cell_type": "markdown",
   "metadata": {},
   "source": [
    "##### DNN기반 회귀 모델 구현\n",
    "- 데이터셋 : iris.csv\n",
    "- 피쳐/속성 : 3개 Sepal_Length, Sepal_Width, Petal_Length\n",
    "- 타겟/라벨 : 1개 Petal_Width\n",
    "- 학습 방법 : 지도학습 > 회귀\n",
    "- 알고리즘  : 인공신경망 (ANN) -> MLP,DNN  : 은닉층이 많은 구성\n",
    "- 프레임워크: Pytorch\n",
    "\n",
    "***\n",
    "- 모니터링 \n",
    "    * 기준설정 : 검증데이터셋의 loss와 score\n",
    "    * 평가 : 학습데이터셋의 loss와 score와 비교해서 학습 중단 여부 결정\n",
    "    * 선택 : 현재까지 진행된 모델의 파라미터(가중치와, 절편) 저장 여부 또는 모델 전체 저장"
   ]
  },
  {
   "cell_type": "markdown",
   "metadata": {},
   "source": [
    "\n",
    "[1] 모듈 로딩 및 데이터 준비 <hr>"
   ]
  },
  {
   "cell_type": "code",
   "execution_count": 14,
   "metadata": {},
   "outputs": [],
   "source": [
    "# 모듈 로딩\n",
    "# -Model 관련\n",
    "import torch\n",
    "import torch.nn as nn\n",
    "import torch.nn.functional as F # 변수명과 헷갈릴까봐 소문자는 사용 X\n",
    "\n",
    "from torch.utils.data import Dataset, DataLoader\n",
    "import torch.optim as optim\n",
    "\n",
    "from torchmetrics.regression import R2Score, MeanSquaredError\n",
    "\n",
    "from torchinfo import summary\n",
    "\n",
    "# - Data 및 시각화 관련\n",
    "import pandas as pd\n",
    "import matplotlib.pyplot as plt\n",
    "from sklearn.preprocessing import *\n",
    "from sklearn.model_selection import train_test_split "
   ]
  },
  {
   "cell_type": "code",
   "execution_count": 15,
   "metadata": {},
   "outputs": [
    {
     "name": "stdout",
     "output_type": "stream",
     "text": [
      "Pytorch v.2.4.1\n",
      "Pandas v.2.0.3\n"
     ]
    }
   ],
   "source": [
    "# 활용 패키지 버전 체크 ==> 사용자 정의 함수로 구현하기\n",
    "print(f'Pytorch v.{torch.__version__}')\n",
    "print(f'Pandas v.{pd.__version__}')"
   ]
  },
  {
   "cell_type": "code",
   "execution_count": 16,
   "metadata": {},
   "outputs": [
    {
     "data": {
      "text/html": [
       "<div>\n",
       "<style scoped>\n",
       "    .dataframe tbody tr th:only-of-type {\n",
       "        vertical-align: middle;\n",
       "    }\n",
       "\n",
       "    .dataframe tbody tr th {\n",
       "        vertical-align: top;\n",
       "    }\n",
       "\n",
       "    .dataframe thead th {\n",
       "        text-align: right;\n",
       "    }\n",
       "</style>\n",
       "<table border=\"1\" class=\"dataframe\">\n",
       "  <thead>\n",
       "    <tr style=\"text-align: right;\">\n",
       "      <th></th>\n",
       "      <th>sepal.length</th>\n",
       "      <th>sepal.width</th>\n",
       "      <th>petal.length</th>\n",
       "      <th>petal.width</th>\n",
       "    </tr>\n",
       "  </thead>\n",
       "  <tbody>\n",
       "    <tr>\n",
       "      <th>0</th>\n",
       "      <td>5.1</td>\n",
       "      <td>3.5</td>\n",
       "      <td>1.4</td>\n",
       "      <td>0.2</td>\n",
       "    </tr>\n",
       "  </tbody>\n",
       "</table>\n",
       "</div>"
      ],
      "text/plain": [
       "   sepal.length  sepal.width  petal.length  petal.width\n",
       "0           5.1          3.5           1.4          0.2"
      ]
     },
     "execution_count": 16,
     "metadata": {},
     "output_type": "execute_result"
    }
   ],
   "source": [
    "### 데이터 로딩\n",
    "DATA_FILE = r'C:\\Users\\KDP-27\\Desktop\\KDT6\\MachineLearning\\data\\iris.csv'\n",
    "\n",
    "### CSV >>> DataFrame\n",
    "irisDF = pd.read_csv(DATA_FILE, usecols=[0,1,2,3])\n",
    "\n",
    "### 확인\n",
    "irisDF.head(1)"
   ]
  },
  {
   "cell_type": "markdown",
   "metadata": {},
   "source": [
    "[2] 모델 클래스 설계 및 정의 <hr>\n",
    "- 클래스 목적 : iris 데이터를 학습 및 추론 목적\n",
    "- 클래스 이름 : IrisRegModel\n",
    "- 부모 클래스 : nn.Module\n",
    "- 매 개 변 수 : 층별 입/출력 개수 고정이므로 필요 없음!\n",
    "- 속 성 필 드 : \n",
    "- 기능 / 역할 \n",
    "    * _ _ _init_ _ _() : 모델 구조 설정\n",
    "    * forward() : 순방향 학습 <= 오버라이딩(overriding, 상속관계에서만 가능)\n",
    "- 클래스 구조 \n",
    "    * 입력층 : 입력  3개(피쳐 수)  출력 10개(퍼셉트론/뉴런 10개 존재)\n",
    "    * 은닉층 : 입력 10개           출력 30개(퍼셉트론/뉴런 30개 존재)   \n",
    "    * 출력층 : 입력 30개           출력  1개(타겟-너비값)\n",
    "\n",
    "- 활성화함수\n",
    "    * 클래스 형태 ==> nn.MESLoss, nn.ReLU ==> _ _ _init_ _ _() 메서드에서 사용\n",
    "    * 함수 형태 ==> torch.nn.functional 아래에 ==> forward() 메서드에서 사용"
   ]
  },
  {
   "cell_type": "code",
   "execution_count": 17,
   "metadata": {},
   "outputs": [],
   "source": [
    "class IrisRegModel(nn.Module):\n",
    "\n",
    "    # 모델 구조 구성 및 인스턴스 생성 메서드\n",
    "    def __init__(self):\n",
    "        super().__init__()\n",
    "\n",
    "        self.in_layer = nn.Linear(3,10)\n",
    "        self.hd_layer = nn.Linear(10,30)\n",
    "        self.out_layer = nn.Linear(30,1)\n",
    "\n",
    "    # 순방향 학습 진행 메서드\n",
    "    def forward(self, input_data):\n",
    "\n",
    "        # - 입력층\n",
    "        y = self.in_layer(input_data)  # f11w11+f12w12+f13w13+b, ... , f101w101+f102w102+f103w103+b\n",
    "        y = F.relu(y)                  # relu => y값의 범위 : 0 <= y (sigmoid면 y값은 0에서 1사이가 됨)\n",
    "\n",
    "        # - 은닉층 : 10개의 숫자 값 (>=0)\n",
    "        y = self.hd_layer(y)            # f21w21+f22w22+...+f210w210+b, ... , f230w101...+f230w210+b\n",
    "        y = F.relu(y)                   # relu => y값의 범위 : 0 <= y\n",
    "\n",
    "        # - 출력층 : 30개의 숫자 값 (>=0) => 회귀이므로 바로 반환(return)\n",
    "        return self.out_layer(y)               # f31W31+...f330W330+b\n"
   ]
  },
  {
   "cell_type": "code",
   "execution_count": 18,
   "metadata": {},
   "outputs": [
    {
     "name": "stdout",
     "output_type": "stream",
     "text": [
      "IrisRegModel(\n",
      "  (in_layer): Linear(in_features=3, out_features=10, bias=True)\n",
      "  (hd_layer): Linear(in_features=10, out_features=30, bias=True)\n",
      "  (out_layer): Linear(in_features=30, out_features=1, bias=True)\n",
      ")\n"
     ]
    }
   ],
   "source": [
    "\n",
    "# 모델 인스턴스 생성\n",
    "model = IrisRegModel()\n",
    "\n",
    "print(model)"
   ]
  },
  {
   "cell_type": "code",
   "execution_count": 19,
   "metadata": {},
   "outputs": [
    {
     "data": {
      "text/plain": [
       "==========================================================================================\n",
       "Layer (type:depth-idx)                   Output Shape              Param #\n",
       "==========================================================================================\n",
       "IrisRegModel                             [100000, 1]               --\n",
       "├─Linear: 1-1                            [100000, 10]              40\n",
       "├─Linear: 1-2                            [100000, 30]              330\n",
       "├─Linear: 1-3                            [100000, 1]               31\n",
       "==========================================================================================\n",
       "Total params: 401\n",
       "Trainable params: 401\n",
       "Non-trainable params: 0\n",
       "Total mult-adds (M): 40.10\n",
       "==========================================================================================\n",
       "Input size (MB): 1.20\n",
       "Forward/backward pass size (MB): 32.80\n",
       "Params size (MB): 0.00\n",
       "Estimated Total Size (MB): 34.00\n",
       "=========================================================================================="
      ]
     },
     "execution_count": 19,
     "metadata": {},
     "output_type": "execute_result"
    }
   ],
   "source": [
    "# 모델 사용 메모리 정보 확인\n",
    "summary(model, input_size=(100000,3)) #iris 꽃 데이터 10개를 넣겠다 그때의 메모리를 계산해줌\n",
    "# 그냥 계산만 해줌"
   ]
  },
  {
   "cell_type": "markdown",
   "metadata": {},
   "source": [
    "[3] 데이터셋 클래스 설계 및 정의 <hr>\n",
    "- 데이터_셋 : iris.csv\n",
    "- 피쳐_개수 : 3개\n",
    "- 타겟_개수 : 1개\n",
    "- 클래스이름 : IrisDataset\n",
    "- 부모클래스 : utils.data.Dataset\n",
    "- 속성__필드 : featureDF, targetDF, n_rows, n_features\n",
    "- 필수메서드 : \n",
    "    - _ _init_ _(self) : 데이터셋 저장 및 전처리, 개발자가 필요한 속성 설정\n",
    "    - _ _len_ _(self) : 데이터의 개수 반환\n",
    "    - _ _getitem_ _(self, index) : 특정 인덱스의 피쳐와 타겟 반환"
   ]
  },
  {
   "cell_type": "code",
   "execution_count": 20,
   "metadata": {},
   "outputs": [],
   "source": [
    "class IrisDataset(Dataset):\n",
    "    \n",
    "    def __init__(self, featureDF, targetDF):\n",
    "        super().__init__()\n",
    "\n",
    "        self.featureDF=featureDF\n",
    "        self.targetDF=targetDF\n",
    "        self.n_rows=featureDF.shape[0]\n",
    "        self.n_features=featureDF.shape[1]\n",
    "\n",
    "    def __len__(self):\n",
    "        return self.n_rows\n",
    "\n",
    "    def __getitem__(self, index):\n",
    "        # 텐서화\n",
    "        featureTS = torch.FloatTensor(self.featureDF.iloc[index].values) # 시리즈를 array로 만들기위해 values함 \n",
    "        targetTS = torch.FloatTensor(self.targetDF.iloc[index].values)\n",
    "\n",
    "        # 피쳐와 타겟 반환\n",
    "        return featureTS, targetTS"
   ]
  },
  {
   "cell_type": "code",
   "execution_count": 21,
   "metadata": {},
   "outputs": [],
   "source": [
    "## 데이터셋 인스턴스 생성\n",
    "\n",
    "# - DataFrame에서 피쳐와 타겟 추출\n",
    "featureDF = irisDF[irisDF.columns[:-1]]     # 2D (150, 3)\n",
    "targetDF = irisDF[irisDF.columns[-1:]]      # 2D (150, 1)\n",
    "\n",
    "# - 커스텀데이터셋 인스턴스 생성\n",
    "irisDS = IrisDataset(featureDF, targetDF)\n"
   ]
  },
  {
   "cell_type": "markdown",
   "metadata": {},
   "source": [
    "[4] 학습 준비\n",
    "- 학습횟수 : EPOCH <- 처음부터 끝까지 공부하는 단위\n",
    "- 배치크기 : BATCH_SIZE <- 한번에 학습할 데이터셋 양\n",
    "- 위치지정 : DEVICE     <- 텐서 저장 및 실행 위치 (GPU/CPU)\n",
    "-  학습율  : LR 가중치와 절편 업데이트 시 경사하강법으로 업데이트 간격 설정 0.001 ~ 0.1 사이 (하이퍼파라미터)"
   ]
  },
  {
   "cell_type": "code",
   "execution_count": 22,
   "metadata": {},
   "outputs": [],
   "source": [
    "### 학습 진행 관련 설정\n",
    "EPOCH = 1\n",
    "BATCH_SIZE = 10 # 전체 데이터 수 확인후 지정 \n",
    "BATCH_CNT = irisDF.shape[0]/BATCH_SIZE\n",
    "DEVICE = 'cuda' if torch.cuda.is_available() else 'cpu'\n",
    "LR = 0.001  # 하이퍼파라미터, 값이 적을수록 촘촘하게 내려감"
   ]
  },
  {
   "cell_type": "markdown",
   "metadata": {},
   "source": [
    "- 인스턴스/객체 : 모델, 데이터셋, 최적화, (,손실함수 , 성능지표) "
   ]
  },
  {
   "cell_type": "code",
   "execution_count": 23,
   "metadata": {},
   "outputs": [
    {
     "name": "stdout",
     "output_type": "stream",
     "text": [
      "(84, 3) (38, 3) (28, 3)\n",
      "(84, 1) (38, 1) (28, 1)\n",
      "<class 'pandas.core.frame.DataFrame'> <class 'pandas.core.frame.DataFrame'> <class 'pandas.core.frame.DataFrame'>\n"
     ]
    }
   ],
   "source": [
    "#  모델 인스턴스\n",
    "model=IrisRegModel()\n",
    "\n",
    "# 데이터셋 인스턴스\n",
    "X_train, X_test, y_train, y_test = train_test_split(featureDF,targetDF, random_state=1)\n",
    "X_train, X_val, y_train, y_val = train_test_split(X_train, y_train, random_state=1)\n",
    "print(f'{X_train.shape} {X_test.shape} {X_val.shape}')\n",
    "print(f'{y_train.shape} {y_test.shape} {y_val.shape}')\n",
    "print(f'{type(X_train)} {type(X_test)} {type(X_val)}')\n",
    "\n",
    "trainDS=IrisDataset(X_train,y_train)\n",
    "valDS=IrisDataset(X_val,y_val)\n",
    "testDS=IrisDataset(X_test,y_test)\n",
    "\n",
    "\n",
    "#irisDF=IrisDataset(featureDF,targetDF)\n",
    "\n",
    "# 데이터로더 인스턴스\n",
    "trainDL=DataLoader(trainDS, batch_size=BATCH_SIZE)"
   ]
  },
  {
   "cell_type": "code",
   "execution_count": 24,
   "metadata": {},
   "outputs": [
    {
     "name": "stdout",
     "output_type": "stream",
     "text": [
      "torch.Size([10, 3]) torch.Size([10, 1])\n",
      "torch.Size([10, 3]) torch.Size([10, 1])\n",
      "torch.Size([10, 3]) torch.Size([10, 1])\n",
      "torch.Size([10, 3]) torch.Size([10, 1])\n",
      "torch.Size([10, 3]) torch.Size([10, 1])\n",
      "torch.Size([10, 3]) torch.Size([10, 1])\n",
      "torch.Size([10, 3]) torch.Size([10, 1])\n",
      "torch.Size([10, 3]) torch.Size([10, 1])\n",
      "torch.Size([4, 3]) torch.Size([4, 1])\n"
     ]
    }
   ],
   "source": [
    "## [테스트] 데이터로더와 데이터셋 체크\n",
    "for feature, target in trainDL:\n",
    "     #print(feature,target) => 배치사이즈 만큼 출력\n",
    "     print(feature.shape, target.shape)"
   ]
  },
  {
   "cell_type": "code",
   "execution_count": 25,
   "metadata": {},
   "outputs": [],
   "source": [
    "# 최적화 인스턴스 w,b 텐서 즉, model.parameter() 전달\n",
    "optimizer=optim.Adam(model.parameters(), lr=LR)\n",
    "\n",
    "# 손실함수 인스턴스 => 회귀, MSE, MAE, RMSE...\n",
    "reqloss = nn.MSELoss()"
   ]
  },
  {
   "cell_type": "markdown",
   "metadata": {},
   "source": [
    "[5] 학습진행"
   ]
  },
  {
   "cell_type": "code",
   "execution_count": 26,
   "metadata": {},
   "outputs": [
    {
     "name": "stdout",
     "output_type": "stream",
     "text": [
      "CNT => 15.0\n"
     ]
    }
   ],
   "source": [
    "## 학습의 효과 확인 손실값과 성능평가값 저장 필요\n",
    "LOSS_HISTORY, SCORE_HISTORY =[[],[]],[[],[]]\n",
    "CNT=irisDS.n_rows/BATCH_SIZE\n",
    "print(f'CNT => {CNT}')\n",
    "\n",
    "## 학습 모니터링, 스케쥴링 설정\n",
    "# => LOSS_HISTORY, SCORE_HISTORY 활용\n",
    "# => 임계기준 : 10번\n",
    "\n",
    "BREAK_CNT=0\n",
    "LIMIT_VALUE=10\n",
    "\n",
    "\n",
    "\n",
    "for epoch in range(EPOCH):\n",
    "\n",
    "    # 학습 모드로 모델 설정\n",
    "    model.train()\n",
    "\n",
    "    # 배치 크기 만큼 데이터 로딩해서 학습 진행\n",
    "    loss_total, score_total=0,0\n",
    "\n",
    "    for featureTS, targetTS in trainDL:\n",
    "        # 학습 진행 \n",
    "        pre_y=model(featureTS)\n",
    "\n",
    "        # 손실 계산\n",
    "        loss=reqloss(pre_y,targetTS)\n",
    "        loss_total += loss.item()\n",
    "\n",
    "        # 성능평가 계산\n",
    "        score= R2Score()(pre_y,targetTS)\n",
    "        score_total += score.item()\n",
    "\n",
    "        # 최적화 진행\n",
    "        optimizer.zero_grad()\n",
    "        loss.backward()\n",
    "        optimizer.step()\n",
    "\n",
    "    # 에포트 당 겅증기능\n",
    "    # 모델 검증 모드 설정\n",
    "    model.eval()\n",
    "    with torch.no_grad():\n",
    "\n",
    "        # 검증 데이터셋\n",
    "        val_featureTS=torch.FloatTensor(valDS.featureDF.values)\n",
    "        val_targetTS=torch.FloatTensor(valDS.targetDF.values)\n",
    "\n",
    "        #추론/평가\n",
    "        pre_val=model(val_featureTS)\n",
    "\n",
    "        #손실\n",
    "        loss_val=reqloss(pre_val,val_targetTS)\n",
    "        \n",
    "        # 성능평가\n",
    "        score_val=R2Score()(pre_val, val_targetTS)\n",
    "\n",
    "\n",
    "\n",
    "    # 에포크 당 손실값과 성능평가값 저장\n",
    "    LOSS_HISTORY[0].append(loss_total/CNT)\n",
    "    SCORE_HISTORY[0].append(score_total/CNT)\n",
    "\n",
    "    LOSS_HISTORY.append(loss_total/BATCH_SIZE)\n",
    "    SCORE_HISTORY.append(score_total/BATCH_SIZE)\n",
    "\n",
    "    # 학습 진행 모니터링 / 스케쥴링 - 검증 DS기준\n",
    "    #LOSS  기준\n",
    "    if len(LOSS_HISTORY[1])>=2:\n",
    "        if LOSS_HISTORY[1][-1] >= LOSS_HISTORY[1][-1] :BREAK_CNT += 1\n",
    "    \n",
    "    # # SCORE 기준    \n",
    "    #     if len(SCORE_HISTORY[1])>=2:\n",
    "    #         if SCORE_HISTORY[1][-1] <= SCORE_HISTORY[1][-1] :BREAK_CNT += 1\n",
    "\n",
    "    # 학습 중단 여부 설정\n",
    "    if BREAK_CNT>=LIMIT_VALUE:\n",
    "        print(\"성능 및 손실 개선이 없어 학습 중단\")\n",
    "        break"
   ]
  },
  {
   "cell_type": "code",
   "execution_count": 35,
   "metadata": {},
   "outputs": [
    {
     "data": {
      "text/plain": [
       "(torch.Size([28, 3]), torch.Size([28, 1]))"
      ]
     },
     "execution_count": 35,
     "metadata": {},
     "output_type": "execute_result"
    }
   ],
   "source": [
    "val_featrueTS=torch.FloatTensor(valDS.featureDF.values)\n",
    "val_targetTS=torch.FloatTensor(valDS.targetDF.values)\n",
    "\n",
    "val_featrueTS.shape, val_targetTS.shape"
   ]
  },
  {
   "cell_type": "code",
   "execution_count": 30,
   "metadata": {},
   "outputs": [
    {
     "name": "stdout",
     "output_type": "stream",
     "text": [
      "LOSS_HISTORY => [[0.5049956977367401], [], 0.7574935466051101]\n",
      "SCORE_HISTORY => [[-0.49732359250386554], [], -0.7459853887557983]\n"
     ]
    }
   ],
   "source": [
    "print(f'LOSS_HISTORY => {LOSS_HISTORY}')\n",
    "print(f'SCORE_HISTORY => {SCORE_HISTORY}')"
   ]
  },
  {
   "cell_type": "markdown",
   "metadata": {},
   "source": [
    "- 모델 저장방법\n",
    "---\n",
    "- 방법1: 모델 파라미터만 저장\n",
    "- 방법2: 모델 설계 구조 및 파라미터까지 모두 저장"
   ]
  },
  {
   "cell_type": "code",
   "execution_count": 31,
   "metadata": {},
   "outputs": [
    {
     "data": {
      "text/plain": [
       "OrderedDict([('in_layer.weight',\n",
       "              tensor([[-0.4622,  0.5626, -0.0374],\n",
       "                      [ 0.0945, -0.5760, -0.1194],\n",
       "                      [-0.3465, -0.0381,  0.5463],\n",
       "                      [ 0.4580, -0.0075,  0.5410],\n",
       "                      [-0.5405,  0.2267, -0.1517],\n",
       "                      [ 0.2113,  0.0650, -0.2891],\n",
       "                      [ 0.1053, -0.4307, -0.5469],\n",
       "                      [-0.1051,  0.1687, -0.5473],\n",
       "                      [-0.4533,  0.3912, -0.5700],\n",
       "                      [-0.0834,  0.2591,  0.2629]])),\n",
       "             ('in_layer.bias',\n",
       "              tensor([-0.2283,  0.4185,  0.2143,  0.2669,  0.1360,  0.1195, -0.3143, -0.4293,\n",
       "                      -0.4598,  0.1130])),\n",
       "             ('hd_layer.weight',\n",
       "              tensor([[ 0.0523,  0.3152,  0.2978, -0.0245, -0.0794, -0.2463,  0.2402, -0.2035,\n",
       "                        0.2161, -0.2239],\n",
       "                      [-0.2088, -0.1662,  0.0669, -0.2212, -0.0390,  0.2304, -0.0756, -0.3052,\n",
       "                        0.2679, -0.1773],\n",
       "                      [-0.0239,  0.1589, -0.3121, -0.1451,  0.0534, -0.0274, -0.0146,  0.1815,\n",
       "                        0.2631, -0.2318],\n",
       "                      [-0.0639,  0.2208, -0.0417,  0.1339, -0.2224, -0.0735, -0.2876,  0.1042,\n",
       "                        0.1351, -0.1989],\n",
       "                      [-0.3110, -0.1150,  0.2408,  0.0142,  0.0454,  0.0409, -0.0202,  0.2918,\n",
       "                        0.1422,  0.0146],\n",
       "                      [ 0.0693,  0.2702,  0.0616,  0.1586,  0.0734,  0.1765,  0.0328, -0.0877,\n",
       "                       -0.2007, -0.2881],\n",
       "                      [ 0.1054,  0.3009,  0.2980,  0.2766, -0.1031,  0.0636,  0.2353, -0.2363,\n",
       "                        0.2969,  0.3111],\n",
       "                      [ 0.2434,  0.1151,  0.1492,  0.2124,  0.0739,  0.2339, -0.3031, -0.0568,\n",
       "                       -0.0123,  0.0453],\n",
       "                      [ 0.2870, -0.2966, -0.1444,  0.3224, -0.3029,  0.0700, -0.1088,  0.0533,\n",
       "                        0.1116, -0.0085],\n",
       "                      [ 0.3020, -0.3140, -0.0482,  0.2562,  0.2186, -0.0256, -0.0943, -0.2005,\n",
       "                        0.1932, -0.2731],\n",
       "                      [ 0.1438,  0.2086, -0.3016,  0.2152,  0.1144, -0.2045, -0.2736, -0.3073,\n",
       "                       -0.2139,  0.1443],\n",
       "                      [-0.3028, -0.0938, -0.1249,  0.2786, -0.1994,  0.0161, -0.0507, -0.2725,\n",
       "                       -0.2145,  0.0633],\n",
       "                      [-0.1619,  0.2430,  0.0078, -0.1653,  0.0605,  0.2616, -0.0303, -0.2105,\n",
       "                       -0.2575, -0.1936],\n",
       "                      [-0.0458,  0.2316,  0.1930,  0.2778,  0.2662, -0.1270, -0.1377,  0.2502,\n",
       "                        0.1134, -0.1916],\n",
       "                      [ 0.0919,  0.2331, -0.2099, -0.0084,  0.2294, -0.1283,  0.1400,  0.2341,\n",
       "                        0.1524, -0.0512],\n",
       "                      [ 0.2815,  0.1967, -0.3010, -0.0039,  0.0413,  0.1379,  0.0269, -0.2366,\n",
       "                        0.2088,  0.1598],\n",
       "                      [ 0.0285, -0.1586, -0.2307,  0.1803,  0.2729,  0.0842,  0.2491,  0.1521,\n",
       "                        0.2104,  0.2909],\n",
       "                      [ 0.0338, -0.2885, -0.2572, -0.2713,  0.2043, -0.0639, -0.0471, -0.3118,\n",
       "                        0.0887, -0.1631],\n",
       "                      [-0.1044,  0.0406, -0.0487,  0.0541, -0.0214, -0.2107, -0.3049, -0.2291,\n",
       "                       -0.2664, -0.0836],\n",
       "                      [ 0.1452, -0.1944, -0.2486, -0.2961,  0.2147, -0.1422,  0.0467, -0.1582,\n",
       "                        0.0115,  0.1783],\n",
       "                      [ 0.0456,  0.2294,  0.2022,  0.2184,  0.0315, -0.0360, -0.0440, -0.0993,\n",
       "                        0.0597,  0.0881],\n",
       "                      [ 0.2654,  0.0210,  0.1087,  0.2753, -0.2490,  0.1213,  0.2710,  0.0592,\n",
       "                       -0.2663, -0.3062],\n",
       "                      [ 0.0012, -0.0493, -0.1330,  0.2473,  0.2074,  0.0253,  0.2539, -0.2304,\n",
       "                       -0.2557, -0.1756],\n",
       "                      [-0.2997,  0.0966, -0.2168, -0.0398,  0.1630,  0.2518,  0.2008, -0.2444,\n",
       "                        0.1508, -0.0187],\n",
       "                      [-0.2210,  0.2921,  0.3125, -0.2953,  0.0807,  0.0831, -0.1907, -0.0037,\n",
       "                       -0.2285,  0.2932],\n",
       "                      [ 0.2347,  0.2026,  0.1690, -0.0834,  0.0665,  0.0958,  0.1293,  0.3045,\n",
       "                        0.0437,  0.0011],\n",
       "                      [-0.3021, -0.2657,  0.0269,  0.0291, -0.2130,  0.2459, -0.1870, -0.1322,\n",
       "                       -0.1478, -0.2376],\n",
       "                      [ 0.2753,  0.1684,  0.1377, -0.1941,  0.1490,  0.2502, -0.2125,  0.2183,\n",
       "                        0.1637, -0.1786],\n",
       "                      [-0.0719, -0.2323, -0.2602,  0.2418, -0.1829,  0.2207, -0.0651, -0.0019,\n",
       "                       -0.2628, -0.1569],\n",
       "                      [-0.0801, -0.1523, -0.2207, -0.1967,  0.2023, -0.0336, -0.3045,  0.0393,\n",
       "                        0.2725, -0.2654]])),\n",
       "             ('hd_layer.bias',\n",
       "              tensor([ 0.1879,  0.2537,  0.2251, -0.0379,  0.0201, -0.2689, -0.0979,  0.2293,\n",
       "                      -0.0904, -0.1011,  0.2723, -0.2700, -0.2550,  0.1842,  0.0257, -0.0681,\n",
       "                      -0.2300, -0.0440, -0.1728, -0.0013,  0.0262,  0.0464,  0.0361, -0.3145,\n",
       "                       0.3105, -0.1049,  0.1070, -0.0637,  0.2751, -0.0483])),\n",
       "             ('out_layer.weight',\n",
       "              tensor([[-0.1663, -0.1342, -0.1397,  0.0811,  0.0601, -0.0472,  0.0470, -0.0433,\n",
       "                        0.0850,  0.1906,  0.0458, -0.0175, -0.1507, -0.0032, -0.0863,  0.0297,\n",
       "                        0.0909,  0.1758, -0.0185, -0.0921, -0.0092, -0.0598,  0.1179,  0.1412,\n",
       "                       -0.0123, -0.0059, -0.1520, -0.0662,  0.1818, -0.1120]])),\n",
       "             ('out_layer.bias', tensor([0.0276]))])"
      ]
     },
     "execution_count": 31,
     "metadata": {},
     "output_type": "execute_result"
    }
   ],
   "source": [
    "### 학습된 모델 파라미터 값 확인\n",
    "\n",
    "model.state_dict()"
   ]
  },
  {
   "cell_type": "code",
   "execution_count": 32,
   "metadata": {},
   "outputs": [],
   "source": [
    "### models 폴더 아래 프로젝트 폴더 아래 모델 파일 저장\n",
    "import os\n",
    "\n",
    "# 저장 경로\n",
    "SAVE_PATH='../models/iris'\n",
    "\n",
    "# 저장 파일명\n",
    "SAVE_FILE='model_train_wbs.pth'"
   ]
  },
  {
   "cell_type": "code",
   "execution_count": 33,
   "metadata": {},
   "outputs": [],
   "source": [
    "# 경로상 폴더 존재 여부 체크\n",
    "if not os.path.exists(SAVE_PATH):\n",
    "    os.makedirs(SAVE_PATH)          #폴더/폴더/... 하위 폴더까지 생성\n"
   ]
  },
  {
   "cell_type": "code",
   "execution_count": 34,
   "metadata": {},
   "outputs": [],
   "source": [
    "# 모델 저장\n",
    "torch.save(model.state_dict(),SAVE_PATH+SAVE_FILE)"
   ]
  },
  {
   "cell_type": "code",
   "execution_count": 38,
   "metadata": {},
   "outputs": [
    {
     "name": "stdout",
     "output_type": "stream",
     "text": [
      "<class 'collections.OrderedDict'>\n"
     ]
    }
   ],
   "source": [
    "# 모델 즉, 가중치와 절편 로딩\n",
    "# [1] 가중치와 절편 객체로 로딩\n",
    "# [2] 모델의 state_dict 속성에 저장\n",
    "\n",
    "# 읽기\n",
    "wbTS=torch.load(SAVE_PATH+SAVE_FILE,weights_only=True)\n",
    "print(type(wbTS))"
   ]
  },
  {
   "cell_type": "code",
   "execution_count": 40,
   "metadata": {},
   "outputs": [
    {
     "data": {
      "text/plain": [
       "<All keys matched successfully>"
      ]
     },
     "execution_count": 40,
     "metadata": {},
     "output_type": "execute_result"
    }
   ],
   "source": [
    "# 모델 인스턴스에 저장\n",
    "model2 = IrisRegModel()     #층마다 w,b 초기화\n",
    "\n",
    "model2.load_state_dict(wbTS)"
   ]
  },
  {
   "cell_type": "code",
   "execution_count": 41,
   "metadata": {},
   "outputs": [
    {
     "name": "stdout",
     "output_type": "stream",
     "text": [
      "IrisRegModel(\n",
      "  (in_layer): Linear(in_features=3, out_features=10, bias=True)\n",
      "  (hd_layer): Linear(in_features=10, out_features=30, bias=True)\n",
      "  (out_layer): Linear(in_features=30, out_features=1, bias=True)\n",
      ")\n"
     ]
    }
   ],
   "source": [
    "print(model2)"
   ]
  },
  {
   "cell_type": "code",
   "execution_count": null,
   "metadata": {},
   "outputs": [],
   "source": []
  }
 ],
 "metadata": {
  "kernelspec": {
   "display_name": "TORCH_38",
   "language": "python",
   "name": "python3"
  },
  "language_info": {
   "codemirror_mode": {
    "name": "ipython",
    "version": 3
   },
   "file_extension": ".py",
   "mimetype": "text/x-python",
   "name": "python",
   "nbconvert_exporter": "python",
   "pygments_lexer": "ipython3",
   "version": "3.8.19"
  }
 },
 "nbformat": 4,
 "nbformat_minor": 2
}
