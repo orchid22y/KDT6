{
 "cells": [
  {
   "cell_type": "markdown",
   "metadata": {},
   "source": [
    "#### Torchmetrics 패키지\n",
    "- pytorch에서 모델 성능평가 기능 제공 패키지\n",
    "- 추가 설치 필요\n",
    "    * pip : pip install torchmetrics\n",
    "    * conda : conda install -c conda-forge torchmetrics\n",
    "- 사용법\n",
    "    * 클래스 방식 : 인스턴스 생성 후 사용\n",
    "    * 함수 방식 : 바로사용"
   ]
  },
  {
   "cell_type": "markdown",
   "metadata": {},
   "source": [
    "-[1] 회귀 (Regression) 성능지표"
   ]
  },
  {
   "cell_type": "code",
   "execution_count": 1,
   "metadata": {},
   "outputs": [],
   "source": [
    "# 모듈 로딩\n",
    "import torch\n",
    "from torchmetrics.functional.regression import r2_score\n",
    "from torchmetrics.regression import R2Score"
   ]
  },
  {
   "cell_type": "code",
   "execution_count": 2,
   "metadata": {},
   "outputs": [
    {
     "data": {
      "text/plain": [
       "tensor(0.9486)"
      ]
     },
     "execution_count": 2,
     "metadata": {},
     "output_type": "execute_result"
    }
   ],
   "source": [
    "# 클래스 방식 -------------------------------------------------------------------------\n",
    "#데이터\n",
    "target = torch.tensor([3, -0.5, 2, 7])  #1D (4,)\n",
    "preds = torch.tensor([2.5, 0.0, 2, 8])  #1D (4,)\n",
    "\n",
    "#성능평가 => R2Score : 0 ~ 1 (좋음) 정답에 얼마나 근사하게 표현했는가\n",
    "# r2score=R2Score()\n",
    "# r2score(preds,target)\n",
    "R2Score()(preds,target)"
   ]
  },
  {
   "cell_type": "code",
   "execution_count": 3,
   "metadata": {},
   "outputs": [],
   "source": [
    "def add(a,b) : return a+b"
   ]
  },
  {
   "cell_type": "code",
   "execution_count": 4,
   "metadata": {},
   "outputs": [],
   "source": [
    "my_func=add"
   ]
  },
  {
   "cell_type": "code",
   "execution_count": 5,
   "metadata": {},
   "outputs": [
    {
     "data": {
      "text/plain": [
       "(30, 3)"
      ]
     },
     "execution_count": 5,
     "metadata": {},
     "output_type": "execute_result"
    }
   ],
   "source": [
    "my_func(10,20), add(1,2)"
   ]
  },
  {
   "cell_type": "code",
   "execution_count": 6,
   "metadata": {},
   "outputs": [
    {
     "data": {
      "text/plain": [
       "tensor(0.9486)"
      ]
     },
     "execution_count": 6,
     "metadata": {},
     "output_type": "execute_result"
    }
   ],
   "source": [
    "# 함수 방식 ---------------------------------------------------------------------------------------------\n",
    "#데이터\n",
    "target = torch.tensor([3, -0.5, 2, 7])  #1D (4,)\n",
    "preds = torch.tensor([2.5, 0.0, 2, 8])  #1D (4,)\n",
    "\n",
    "# 성능평가 => r2_score : : 0 ~ 1 (좋음) 정답에 얼마나 근사하게 표현했는가\n",
    "r2_score(preds,target)\n"
   ]
  },
  {
   "cell_type": "code",
   "execution_count": 7,
   "metadata": {},
   "outputs": [],
   "source": [
    "class MyR2(R2Score):\n",
    "    pass"
   ]
  },
  {
   "cell_type": "code",
   "execution_count": 8,
   "metadata": {},
   "outputs": [
    {
     "data": {
      "text/plain": [
       "tensor(0.9486)"
      ]
     },
     "execution_count": 8,
     "metadata": {},
     "output_type": "execute_result"
    }
   ],
   "source": [
    "gg=MyR2()\n",
    "gg(preds,target)"
   ]
  },
  {
   "cell_type": "code",
   "execution_count": 9,
   "metadata": {},
   "outputs": [],
   "source": [
    "# 모듈로딩\n",
    "from torchmetrics.functional.regression import mean_squared_error, mean_absolute_error\n",
    "from torchmetrics.regression import MeanSquaredError, MeanAbsoluteError\n",
    "import torch"
   ]
  },
  {
   "cell_type": "code",
   "execution_count": 11,
   "metadata": {},
   "outputs": [
    {
     "name": "stdout",
     "output_type": "stream",
     "text": [
      "tensor(0.8750)\n",
      "tensor(0.7500)\n"
     ]
    }
   ],
   "source": [
    "from torch import tensor\n",
    "\n",
    "#데이터\n",
    "target = tensor([2.5, 5.0, 4.0, 8.0])\n",
    "preds = tensor([3.0, 5.0, 2.5, 7.0])\n",
    "\n",
    "# 성능평가 => 오차계산 : 0에 가까울 수록 좋은 것 \n",
    "meansquarederror = MeanSquaredError()\n",
    "print(meansquarederror(preds, target))\n",
    "print(MeanAbsoluteError()(preds,target))"
   ]
  },
  {
   "cell_type": "markdown",
   "metadata": {},
   "source": [
    "- 분류(Classification) 성능평가지표\n",
    "    * Accuracy(정확도): 양성-양성, 음성-음성 => 불균형 데이터일 경우 신뢰성이 없음!\n",
    "    * Precision(정밀도) : 예측 양성, 정답도 양성인 것 =>\n",
    "    * Recall : 정답 양성인데 예측 양성\n",
    "    * F1-Score\n",
    "    * ConfusionMatrix\n",
    "    * ROC-AUC => 의료분야/2진분류"
   ]
  },
  {
   "cell_type": "code",
   "execution_count": 12,
   "metadata": {},
   "outputs": [],
   "source": [
    "# 모듈로딩\n",
    "from torchmetrics.classification import F1Score, Accuracy, Precision, Recall\n",
    "from torchmetrics.functional.classification import f1_score, accuracy, precision, recall"
   ]
  },
  {
   "cell_type": "code",
   "execution_count": 13,
   "metadata": {},
   "outputs": [
    {
     "name": "stdout",
     "output_type": "stream",
     "text": [
      "tensor(0.6667)\n",
      "tensor(0.6667)\n"
     ]
    }
   ],
   "source": [
    "# 2진 분류 => task=\"binary\"\n",
    "from torchmetrics.classification import BinaryF1Score\n",
    "\n",
    "target=torch.tensor([0,1,1,0,1,0])\n",
    "preds = torch.tensor([0,1,1,0,0,1])\n",
    "\n",
    "f1= F1Score(task='binary')\n",
    "print(f1(preds,target))\n",
    "\n",
    "print(BinaryF1Score()(preds,target))"
   ]
  },
  {
   "cell_type": "code",
   "execution_count": 17,
   "metadata": {},
   "outputs": [
    {
     "name": "stdout",
     "output_type": "stream",
     "text": [
      "tensor(0.6667)\n",
      "tensor(0.6667)\n"
     ]
    }
   ],
   "source": [
    "# 다중 분류 => task=\"multiclass\"\n",
    "from torchmetrics.classification import MulticlassF1Score\n",
    "\n",
    "target=torch.tensor([0,1,1,0,1,0])\n",
    "preds = torch.tensor([0,1,1,0,0,1])\n",
    "\n",
    "\n",
    "# F1Score => average='micro'\n",
    "f1= F1Score(task=\"multiclass\", num_classes=3,average='macro')\n",
    "print(f1(preds,target))\n",
    "\n",
    "# MunticlassF1Score => average='micro'\n",
    "print(MulticlassF1Score(num_classes=3)(preds,target))"
   ]
  },
  {
   "cell_type": "code",
   "execution_count": 18,
   "metadata": {},
   "outputs": [
    {
     "ename": "ValueError",
     "evalue": "Invalid Classification: expected one of ['BINARY', 'MULTICLASS', 'MULTILABEL'], but got binaray.",
     "output_type": "error",
     "traceback": [
      "\u001b[1;31m---------------------------------------------------------------------------\u001b[0m",
      "\u001b[1;31mValueError\u001b[0m                                Traceback (most recent call last)",
      "File \u001b[1;32mc:\\Users\\KDP-27\\anaconda3\\envs\\TORCH_38\\lib\\site-packages\\torchmetrics\\utilities\\enums.py:47\u001b[0m, in \u001b[0;36mEnumStr.from_str\u001b[1;34m(cls, value, source)\u001b[0m\n\u001b[0;32m     46\u001b[0m \u001b[38;5;28;01mtry\u001b[39;00m:\n\u001b[1;32m---> 47\u001b[0m     me \u001b[38;5;241m=\u001b[39m \u001b[38;5;28;43msuper\u001b[39;49m\u001b[43m(\u001b[49m\u001b[43m)\u001b[49m\u001b[38;5;241;43m.\u001b[39;49m\u001b[43mfrom_str\u001b[49m\u001b[43m(\u001b[49m\u001b[43mvalue\u001b[49m\u001b[38;5;241;43m.\u001b[39;49m\u001b[43mreplace\u001b[49m\u001b[43m(\u001b[49m\u001b[38;5;124;43m\"\u001b[39;49m\u001b[38;5;124;43m-\u001b[39;49m\u001b[38;5;124;43m\"\u001b[39;49m\u001b[43m,\u001b[49m\u001b[43m \u001b[49m\u001b[38;5;124;43m\"\u001b[39;49m\u001b[38;5;124;43m_\u001b[39;49m\u001b[38;5;124;43m\"\u001b[39;49m\u001b[43m)\u001b[49m\u001b[43m,\u001b[49m\u001b[43m \u001b[49m\u001b[43msource\u001b[49m\u001b[38;5;241;43m=\u001b[39;49m\u001b[43msource\u001b[49m\u001b[43m)\u001b[49m\n\u001b[0;32m     48\u001b[0m \u001b[38;5;28;01mexcept\u001b[39;00m \u001b[38;5;167;01mValueError\u001b[39;00m \u001b[38;5;28;01mas\u001b[39;00m err:\n",
      "File \u001b[1;32mc:\\Users\\KDP-27\\anaconda3\\envs\\TORCH_38\\lib\\site-packages\\lightning_utilities\\core\\enums.py:56\u001b[0m, in \u001b[0;36mStrEnum.from_str\u001b[1;34m(cls, value, source)\u001b[0m\n\u001b[0;32m     55\u001b[0m             \u001b[38;5;28;01mreturn\u001b[39;00m \u001b[38;5;28mcls\u001b[39m[enum_key]\n\u001b[1;32m---> 56\u001b[0m \u001b[38;5;28;01mraise\u001b[39;00m \u001b[38;5;167;01mValueError\u001b[39;00m(\u001b[38;5;124mf\u001b[39m\u001b[38;5;124m\"\u001b[39m\u001b[38;5;124mInvalid match: expected one of \u001b[39m\u001b[38;5;132;01m{\u001b[39;00m\u001b[38;5;28mcls\u001b[39m\u001b[38;5;241m.\u001b[39m_allowed_matches(source)\u001b[38;5;132;01m}\u001b[39;00m\u001b[38;5;124m, but got \u001b[39m\u001b[38;5;132;01m{\u001b[39;00mvalue\u001b[38;5;132;01m}\u001b[39;00m\u001b[38;5;124m.\u001b[39m\u001b[38;5;124m\"\u001b[39m)\n",
      "\u001b[1;31mValueError\u001b[0m: Invalid match: expected one of ['BINARY', 'MULTICLASS', 'MULTILABEL'], but got binaray.",
      "\nThe above exception was the direct cause of the following exception:\n",
      "\u001b[1;31mValueError\u001b[0m                                Traceback (most recent call last)",
      "Cell \u001b[1;32mIn[18], line 9\u001b[0m\n\u001b[0;32m      5\u001b[0m preds \u001b[38;5;241m=\u001b[39m torch\u001b[38;5;241m.\u001b[39mtensor([\u001b[38;5;241m0\u001b[39m,\u001b[38;5;241m1\u001b[39m,\u001b[38;5;241m1\u001b[39m,\u001b[38;5;241m0\u001b[39m,\u001b[38;5;241m0\u001b[39m,\u001b[38;5;241m1\u001b[39m])\n\u001b[0;32m      8\u001b[0m \u001b[38;5;66;03m# \u001b[39;00m\n\u001b[1;32m----> 9\u001b[0m pb\u001b[38;5;241m=\u001b[39m\u001b[43mPrecision\u001b[49m\u001b[43m(\u001b[49m\u001b[43mtask\u001b[49m\u001b[38;5;241;43m=\u001b[39;49m\u001b[38;5;124;43m\"\u001b[39;49m\u001b[38;5;124;43mbinaray\u001b[39;49m\u001b[38;5;124;43m\"\u001b[39;49m\u001b[43m,\u001b[49m\u001b[43mthreshold\u001b[49m\u001b[38;5;241;43m=\u001b[39;49m\u001b[38;5;241;43m0.7\u001b[39;49m\u001b[43m)\u001b[49m\n\u001b[0;32m     10\u001b[0m \u001b[38;5;28mprint\u001b[39m(pb(preds,target))\n\u001b[0;32m     12\u001b[0m \u001b[38;5;66;03m# \u001b[39;00m\n",
      "File \u001b[1;32mc:\\Users\\KDP-27\\anaconda3\\envs\\TORCH_38\\lib\\site-packages\\torchmetrics\\classification\\precision_recall.py:1007\u001b[0m, in \u001b[0;36mPrecision.__new__\u001b[1;34m(cls, task, threshold, num_classes, num_labels, average, multidim_average, top_k, ignore_index, validate_args, **kwargs)\u001b[0m\n\u001b[0;32m   1001\u001b[0m \u001b[38;5;28;01massert\u001b[39;00m multidim_average \u001b[38;5;129;01mis\u001b[39;00m \u001b[38;5;129;01mnot\u001b[39;00m \u001b[38;5;28;01mNone\u001b[39;00m  \u001b[38;5;66;03m# noqa: S101  # needed for mypy\u001b[39;00m\n\u001b[0;32m   1002\u001b[0m kwargs\u001b[38;5;241m.\u001b[39mupdate({\n\u001b[0;32m   1003\u001b[0m     \u001b[38;5;124m\"\u001b[39m\u001b[38;5;124mmultidim_average\u001b[39m\u001b[38;5;124m\"\u001b[39m: multidim_average,\n\u001b[0;32m   1004\u001b[0m     \u001b[38;5;124m\"\u001b[39m\u001b[38;5;124mignore_index\u001b[39m\u001b[38;5;124m\"\u001b[39m: ignore_index,\n\u001b[0;32m   1005\u001b[0m     \u001b[38;5;124m\"\u001b[39m\u001b[38;5;124mvalidate_args\u001b[39m\u001b[38;5;124m\"\u001b[39m: validate_args,\n\u001b[0;32m   1006\u001b[0m })\n\u001b[1;32m-> 1007\u001b[0m task \u001b[38;5;241m=\u001b[39m \u001b[43mClassificationTask\u001b[49m\u001b[38;5;241;43m.\u001b[39;49m\u001b[43mfrom_str\u001b[49m\u001b[43m(\u001b[49m\u001b[43mtask\u001b[49m\u001b[43m)\u001b[49m\n\u001b[0;32m   1008\u001b[0m \u001b[38;5;28;01mif\u001b[39;00m task \u001b[38;5;241m==\u001b[39m ClassificationTask\u001b[38;5;241m.\u001b[39mBINARY:\n\u001b[0;32m   1009\u001b[0m     \u001b[38;5;28;01mreturn\u001b[39;00m BinaryPrecision(threshold, \u001b[38;5;241m*\u001b[39m\u001b[38;5;241m*\u001b[39mkwargs)\n",
      "File \u001b[1;32mc:\\Users\\KDP-27\\anaconda3\\envs\\TORCH_38\\lib\\site-packages\\torchmetrics\\utilities\\enums.py:50\u001b[0m, in \u001b[0;36mEnumStr.from_str\u001b[1;34m(cls, value, source)\u001b[0m\n\u001b[0;32m     48\u001b[0m \u001b[38;5;28;01mexcept\u001b[39;00m \u001b[38;5;167;01mValueError\u001b[39;00m \u001b[38;5;28;01mas\u001b[39;00m err:\n\u001b[0;32m     49\u001b[0m     _allowed_im \u001b[38;5;241m=\u001b[39m [m\u001b[38;5;241m.\u001b[39mlower() \u001b[38;5;28;01mfor\u001b[39;00m m \u001b[38;5;129;01min\u001b[39;00m \u001b[38;5;28mcls\u001b[39m\u001b[38;5;241m.\u001b[39m_member_names_]\n\u001b[1;32m---> 50\u001b[0m     \u001b[38;5;28;01mraise\u001b[39;00m \u001b[38;5;167;01mValueError\u001b[39;00m(\n\u001b[0;32m     51\u001b[0m         \u001b[38;5;124mf\u001b[39m\u001b[38;5;124m\"\u001b[39m\u001b[38;5;124mInvalid \u001b[39m\u001b[38;5;132;01m{\u001b[39;00m\u001b[38;5;28mcls\u001b[39m\u001b[38;5;241m.\u001b[39m_name()\u001b[38;5;132;01m}\u001b[39;00m\u001b[38;5;124m: expected one of \u001b[39m\u001b[38;5;132;01m{\u001b[39;00m\u001b[38;5;28mcls\u001b[39m\u001b[38;5;241m.\u001b[39m_allowed_matches(source)\u001b[38;5;132;01m}\u001b[39;00m\u001b[38;5;124m, but got \u001b[39m\u001b[38;5;132;01m{\u001b[39;00mvalue\u001b[38;5;132;01m}\u001b[39;00m\u001b[38;5;124m.\u001b[39m\u001b[38;5;124m\"\u001b[39m\n\u001b[0;32m     52\u001b[0m     ) \u001b[38;5;28;01mfrom\u001b[39;00m \u001b[38;5;21;01merr\u001b[39;00m\n\u001b[0;32m     53\u001b[0m \u001b[38;5;28;01mreturn\u001b[39;00m \u001b[38;5;28mcls\u001b[39m(me)\n",
      "\u001b[1;31mValueError\u001b[0m: Invalid Classification: expected one of ['BINARY', 'MULTICLASS', 'MULTILABEL'], but got binaray."
     ]
    }
   ],
   "source": [
    "# 다중 분류 => task=\"multiclass\"\n",
    "from torchmetrics.classification import BinaryPrecision\n",
    "\n",
    "target=torch.tensor([0,1,1,0,1,0])\n",
    "preds = torch.tensor([0,1,1,0,0,1])\n",
    "\n",
    "\n",
    "# \n",
    "pb=Precision(task=\"binaray\",threshold=0.7)\n",
    "print(pb(preds,target))\n",
    "\n",
    "# \n",
    "print(BinaryPrecision(threshold=0.7)(preds,target))"
   ]
  },
  {
   "cell_type": "code",
   "execution_count": null,
   "metadata": {},
   "outputs": [],
   "source": []
  }
 ],
 "metadata": {
  "kernelspec": {
   "display_name": "TORCH_38",
   "language": "python",
   "name": "python3"
  },
  "language_info": {
   "codemirror_mode": {
    "name": "ipython",
    "version": 3
   },
   "file_extension": ".py",
   "mimetype": "text/x-python",
   "name": "python",
   "nbconvert_exporter": "python",
   "pygments_lexer": "ipython3",
   "version": "3.8.19"
  }
 },
 "nbformat": 4,
 "nbformat_minor": 2
}
