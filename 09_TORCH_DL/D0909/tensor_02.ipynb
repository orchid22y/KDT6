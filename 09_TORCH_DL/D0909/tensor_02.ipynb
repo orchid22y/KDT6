{
 "cells": [
  {
   "cell_type": "markdown",
   "metadata": {},
   "source": [
    "#### Tensor 이해"
   ]
  },
  {
   "cell_type": "code",
   "execution_count": 13,
   "metadata": {},
   "outputs": [],
   "source": [
    "### 모듈 로딩\n",
    "import torch"
   ]
  },
  {
   "cell_type": "markdown",
   "metadata": {},
   "source": [
    "- Tensor 생성 [2] torch.rand()"
   ]
  },
  {
   "cell_type": "code",
   "execution_count": 14,
   "metadata": {},
   "outputs": [],
   "source": [
    "# 0 <= ~ < 1 범위의 임의의 숫자 1개 추출 => rand(*size)\n",
    "# rand(*size) : 가변인자 => 몇 차원일지 알 수 없기 때문\n",
    "torch.manual_seed(1)\n",
    "\n",
    "dataTS1=torch.rand(3)\n",
    "dataTS2=torch.rand(2,3)\n",
    "dataTS3=torch.rand(2,1,3)\n"
   ]
  },
  {
   "cell_type": "code",
   "execution_count": 16,
   "metadata": {},
   "outputs": [
    {
     "name": "stdout",
     "output_type": "stream",
     "text": [
      "tensor([0.7576, 0.2793, 0.4031]) tensor([[0.7347, 0.0293, 0.7999],\n",
      "        [0.3971, 0.7544, 0.5695]]) tensor([[[0.4388, 0.6387, 0.5247]],\n",
      "\n",
      "        [[0.6826, 0.3051, 0.4635]]])\n"
     ]
    }
   ],
   "source": [
    "print(dataTS1,dataTS2,dataTS3)"
   ]
  },
  {
   "cell_type": "code",
   "execution_count": null,
   "metadata": {},
   "outputs": [],
   "source": []
  }
 ],
 "metadata": {
  "kernelspec": {
   "display_name": "TORCH_38",
   "language": "python",
   "name": "python3"
  },
  "language_info": {
   "codemirror_mode": {
    "name": "ipython",
    "version": 3
   },
   "file_extension": ".py",
   "mimetype": "text/x-python",
   "name": "python",
   "nbconvert_exporter": "python",
   "pygments_lexer": "ipython3",
   "version": "3.8.19"
  }
 },
 "nbformat": 4,
 "nbformat_minor": 2
}
