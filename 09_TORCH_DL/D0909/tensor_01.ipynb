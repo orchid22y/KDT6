{
 "cells": [
  {
   "cell_type": "markdown",
   "metadata": {},
   "source": [
    "#### Tensor 이해 - 생성\n",
    "- Tensor란?\n",
    "    * pythorch에서 데이터를 저장하는 객체\n",
    "    * 모델에 입력/출력 데이터 형태\n",
    "- 개발 버전 : torch v.2.4.1"
   ]
  },
  {
   "cell_type": "code",
   "execution_count": 4,
   "metadata": {},
   "outputs": [
    {
     "name": "stdout",
     "output_type": "stream",
     "text": [
      "torch.v  2.4.1\n"
     ]
    }
   ],
   "source": [
    "import torch\n",
    "print(f'torch.v  {torch.__version__}')"
   ]
  },
  {
   "cell_type": "code",
   "execution_count": 13,
   "metadata": {},
   "outputs": [],
   "source": [
    "# ----------------------------------------------------------\n",
    "# 함수기능 : 텐서 속성 정보 출력 함수\n",
    "# ----------------------------------------------------------\n",
    "def printInfo(obj,obj_name):\n",
    "    print(f'\\n{obj_name}')\n",
    "    print(f'shape : {obj.shape}')\n",
    "    print(f'ndim  : {obj.ndim}차원')\n",
    "    print(f'dtype : {obj.dtype}')\n",
    "    print(f'device : {obj.device}')\n",
    "    print(f'data : \\n{obj.data}')"
   ]
  },
  {
   "cell_type": "markdown",
   "metadata": {},
   "source": [
    "- 텐서생성 [1]torch.tensor()"
   ]
  },
  {
   "cell_type": "code",
   "execution_count": 14,
   "metadata": {},
   "outputs": [
    {
     "name": "stdout",
     "output_type": "stream",
     "text": [
      "\n",
      "dataTF\n",
      "shape : torch.Size([])\n",
      "ndim  : 0차원\n",
      "dtype : torch.int64\n",
      "device : cpu\n",
      "data : \n",
      "10\n",
      "\n",
      "dataTF\n",
      "shape : torch.Size([])\n",
      "ndim  : 0차원\n",
      "dtype : torch.uint8\n",
      "device : cpu\n",
      "data : \n",
      "10\n"
     ]
    }
   ],
   "source": [
    "## 데이터 1개 즉, 스칼라\n",
    "dataTF=torch.tensor(10)  #메모리 8칸 사용\n",
    "printInfo(dataTF, 'dataTF')\n",
    "\n",
    "dataTF=torch.tensor(10, dtype=torch.uint8) # 메모리 1칸 사용\n",
    "printInfo(dataTF, 'dataTF')"
   ]
  },
  {
   "cell_type": "code",
   "execution_count": 15,
   "metadata": {},
   "outputs": [
    {
     "name": "stdout",
     "output_type": "stream",
     "text": [
      "\n",
      "ten1\n",
      "shape : torch.Size([])\n",
      "ndim  : 0차원\n",
      "dtype : torch.int64\n",
      "device : cpu\n",
      "data : \n",
      "10\n",
      "\n",
      "ten2\n",
      "shape : torch.Size([3])\n",
      "ndim  : 1차원\n",
      "dtype : torch.int64\n",
      "device : cpu\n",
      "data : \n",
      "tensor([22, 33, 44])\n",
      "\n",
      "ten3\n",
      "shape : torch.Size([3, 2])\n",
      "ndim  : 2차원\n",
      "dtype : torch.int64\n",
      "device : cpu\n",
      "data : \n",
      "tensor([[90, 91],\n",
      "        [80, 81],\n",
      "        [70, 71]])\n"
     ]
    }
   ],
   "source": [
    "# ----------------------------------------------------\n",
    "# 생성 형식 : torch.tensor(데이터)\n",
    "# ----------------------------------------------------\n",
    "ten1 = torch.tensor(10)\n",
    "ten2 = torch.tensor([22,33,44])\n",
    "ten3 = torch.tensor([[90,91],[80,81], [70,71]])\n",
    "# 텐서 정보 출력\n",
    "printInfo(ten1, 'ten1')\n",
    "printInfo(ten2, 'ten2')\n",
    "printInfo(ten3, 'ten3')"
   ]
  },
  {
   "cell_type": "code",
   "execution_count": 16,
   "metadata": {},
   "outputs": [
    {
     "name": "stdout",
     "output_type": "stream",
     "text": [
      "\n",
      "dataTF\n",
      "shape : torch.Size([1])\n",
      "ndim  : 1차원\n",
      "dtype : torch.int64\n",
      "device : cpu\n",
      "data : \n",
      "tensor([10])\n",
      "\n",
      "dataTF\n",
      "shape : torch.Size([1])\n",
      "ndim  : 1차원\n",
      "dtype : torch.uint8\n",
      "device : cpu\n",
      "data : \n",
      "tensor([10], dtype=torch.uint8)\n"
     ]
    }
   ],
   "source": [
    "## 데이터 1개 즉, 벡터 1D\n",
    "dataTF=torch.tensor([10])  #메모리 8칸 사용\n",
    "printInfo(dataTF, 'dataTF')\n",
    "\n",
    "dataTF=torch.tensor([10], dtype=torch.uint8) # 메모리 1칸 사용\n",
    "printInfo(dataTF, 'dataTF')"
   ]
  },
  {
   "cell_type": "code",
   "execution_count": 17,
   "metadata": {},
   "outputs": [
    {
     "name": "stdout",
     "output_type": "stream",
     "text": [
      "\n",
      "dataTF\n",
      "shape : torch.Size([1, 1])\n",
      "ndim  : 2차원\n",
      "dtype : torch.int64\n",
      "device : cpu\n",
      "data : \n",
      "tensor([[10]])\n",
      "\n",
      "dataTF\n",
      "shape : torch.Size([1, 1])\n",
      "ndim  : 2차원\n",
      "dtype : torch.uint8\n",
      "device : cpu\n",
      "data : \n",
      "tensor([[10]], dtype=torch.uint8)\n"
     ]
    }
   ],
   "source": [
    "## 데이터 1개 즉, 행렬 2D\n",
    "dataTF=torch.tensor([[10]])  #메모리 8칸 사용\n",
    "printInfo(dataTF, 'dataTF')\n",
    "\n",
    "dataTF=torch.tensor([[10]], dtype=torch.uint8) # 메모리 1칸 사용\n",
    "printInfo(dataTF, 'dataTF')"
   ]
  },
  {
   "cell_type": "code",
   "execution_count": 21,
   "metadata": {},
   "outputs": [
    {
     "name": "stdout",
     "output_type": "stream",
     "text": [
      "\n",
      "zten1\n",
      "shape : torch.Size([2, 5])\n",
      "ndim  : 2차원\n",
      "dtype : torch.float32\n",
      "device : cpu\n",
      "data : \n",
      "tensor([[0., 0., 0., 0., 0.],\n",
      "        [0., 0., 0., 0., 0.]])\n",
      "\n",
      "zten2\n",
      "shape : torch.Size([3])\n",
      "ndim  : 1차원\n",
      "dtype : torch.float32\n",
      "device : cpu\n",
      "data : \n",
      "tensor([0., 0., 0.])\n"
     ]
    }
   ],
   "source": [
    "# ----------------------------------------------------\n",
    "# 0으로 채운 텐서 생성 : torch.zeros( 행 [, 열 ] )\n",
    "# ----------------------------------------------------\n",
    "zten1=torch.zeros(2,5)\n",
    "zten2=torch.zeros(3)\n",
    "printInfo(zten1, 'zten1')\n",
    "printInfo(zten2, 'zten2')"
   ]
  },
  {
   "cell_type": "code",
   "execution_count": 22,
   "metadata": {},
   "outputs": [
    {
     "name": "stdout",
     "output_type": "stream",
     "text": [
      "\n",
      "ften1\n",
      "shape : torch.Size([3])\n",
      "ndim  : 1차원\n",
      "dtype : torch.int64\n",
      "device : cpu\n",
      "data : \n",
      "tensor([10, 10, 10])\n",
      "\n",
      "ften2\n",
      "shape : torch.Size([3, 2])\n",
      "ndim  : 2차원\n",
      "dtype : torch.int64\n",
      "device : cpu\n",
      "data : \n",
      "tensor([[10, 10],\n",
      "        [10, 10],\n",
      "        [10, 10]])\n"
     ]
    }
   ],
   "source": [
    "# ------------------------------------------------------------\n",
    "# 모든 값 특정 값으로 채운 텐서 생성 : torch.full( (행, 열 ), 데이터 )\n",
    "# -------------------------------------------------------------\n",
    "ften1=torch.full((3, ), 10)\n",
    "ften2=torch.full((3,2), 10)\n",
    "printInfo(ften1, 'ften1')\n",
    "printInfo(ften2, 'ften2')"
   ]
  },
  {
   "cell_type": "code",
   "execution_count": 23,
   "metadata": {},
   "outputs": [
    {
     "name": "stdout",
     "output_type": "stream",
     "text": [
      "\n",
      "oten1\n",
      "shape : torch.Size([2, 3])\n",
      "ndim  : 2차원\n",
      "dtype : torch.float32\n",
      "device : cpu\n",
      "data : \n",
      "tensor([[1., 1., 1.],\n",
      "        [1., 1., 1.]])\n",
      "\n",
      "oten2\n",
      "shape : torch.Size([3])\n",
      "ndim  : 1차원\n",
      "dtype : torch.float32\n",
      "device : cpu\n",
      "data : \n",
      "tensor([1., 1., 1.])\n"
     ]
    }
   ],
   "source": [
    "# ----------------------------------------------------\n",
    "# 모든 값을 1로 채운 텐서 생성 : torch.ones( 행 [, 열 ] )\n",
    "# ----------------------------------------------------\n",
    "oten1=torch.ones(2,3)\n",
    "oten2=torch.ones(3)\n",
    "printInfo(oten1, 'oten1')\n",
    "printInfo(oten2, 'oten2')"
   ]
  },
  {
   "cell_type": "code",
   "execution_count": null,
   "metadata": {},
   "outputs": [],
   "source": []
  },
  {
   "cell_type": "code",
   "execution_count": 19,
   "metadata": {},
   "outputs": [
    {
     "name": "stdout",
     "output_type": "stream",
     "text": [
      "\n",
      "eten1\n",
      "shape : torch.Size([3, 3])\n",
      "ndim  : 2차원\n",
      "dtype : torch.float32\n",
      "device : cpu\n",
      "data : \n",
      "tensor([[1., 0., 0.],\n",
      "        [0., 1., 0.],\n",
      "        [0., 0., 1.]])\n",
      "\n",
      "eten2\n",
      "shape : torch.Size([3, 5])\n",
      "ndim  : 2차원\n",
      "dtype : torch.float32\n",
      "device : cpu\n",
      "data : \n",
      "tensor([[1., 0., 0., 0., 0.],\n",
      "        [0., 1., 0., 0., 0.],\n",
      "        [0., 0., 1., 0., 0.]])\n"
     ]
    }
   ],
   "source": [
    "# ------------------------------------------------------------\n",
    "# 대각선을 1로 채운 텐서 생성 : torch.eye( (행 [, 열 ])\n",
    "# -------------------------------------------------------------\n",
    "eten1=torch.eye(3)\n",
    "eten2=torch.eye(3,5)\n",
    "printInfo(eten1, 'eten1')\n",
    "printInfo(eten2, 'eten2')"
   ]
  },
  {
   "cell_type": "code",
   "execution_count": 24,
   "metadata": {},
   "outputs": [
    {
     "name": "stdout",
     "output_type": "stream",
     "text": [
      "\n",
      "rten1\n",
      "shape : torch.Size([2, 3])\n",
      "ndim  : 2차원\n",
      "dtype : torch.float32\n",
      "device : cpu\n",
      "data : \n",
      "tensor([[0.7576, 0.2793, 0.4031],\n",
      "        [0.7347, 0.0293, 0.7999]])\n"
     ]
    }
   ],
   "source": [
    "## 임의의 랜덤 값으로 채운 텐서 생성 => torch.rand()\n",
    "# ----------------------------------------------------\n",
    "# - 값의 범위 : 0<= ~ <1 [0, 1) torch.rand(행, 열)\n",
    "# ----------------------------------------------------\n",
    "torch.manual_seed(1)\n",
    "rten1=torch.rand(2,3)\n",
    "printInfo(rten1, 'rten1')"
   ]
  },
  {
   "cell_type": "code",
   "execution_count": null,
   "metadata": {},
   "outputs": [],
   "source": []
  }
 ],
 "metadata": {
  "kernelspec": {
   "display_name": "TORCH_38",
   "language": "python",
   "name": "python3"
  },
  "language_info": {
   "codemirror_mode": {
    "name": "ipython",
    "version": 3
   },
   "file_extension": ".py",
   "mimetype": "text/x-python",
   "name": "python",
   "nbconvert_exporter": "python",
   "pygments_lexer": "ipython3",
   "version": "3.8.19"
  }
 },
 "nbformat": 4,
 "nbformat_minor": 2
}
