{
 "cells": [
  {
   "cell_type": "markdown",
   "metadata": {},
   "source": [
    "### 사용자 정의 클래스와 상속\n",
    "- 사용자 정의 클래스 : 개발자 필요에 의해서 생성한 클래스"
   ]
  },
  {
   "cell_type": "code",
   "execution_count": 22,
   "metadata": {},
   "outputs": [],
   "source": [
    "# --------------------------------------------------------------------------------\n",
    "# 저장데이터 : 사람 정보 저장 클래스\n",
    "# 클래스이름 : Person\n",
    "# 클래스속성 : name, age, gender\n",
    "# 클래스기능 : eat(), sleep()\n",
    "# --------------------------------------------------------------------------------\n",
    "\n",
    "class Person:\n",
    "    # 클래스 변수/속성 : 객체/인스턴스 생성없이 사용 가능\n",
    "    born='대한민국'\n",
    "\n",
    "    # 인스턴스 생성해주는 메서드\n",
    "    # 인스턴스 생성 시 자동 호출 즉, 콜백메서드\n",
    "\n",
    "    def __init__(self, name,age,gender):\n",
    "        print('__init__()')\n",
    "        self.name=name\n",
    "        self.age=age\n",
    "        self.gender=gender\n",
    "\n",
    "    # 인스턴스 메서드\n",
    "    def eat(self,food):\n",
    "        print(f'{self.name}가 {food} 먹는다.')\n",
    "\n",
    "    def sleep(self,where):\n",
    "        print(f'{where}에서 잔다')\n",
    "\n",
    "\n",
    "    # 정적 메서드\n",
    "    @staticmethod\n",
    "    def test(msg):\n",
    "        print(msg)\n",
    "\n",
    "    @classmethod\n",
    "    def testtest(cls,msg):\n",
    "        print(msg)\n"
   ]
  },
  {
   "cell_type": "code",
   "execution_count": 23,
   "metadata": {},
   "outputs": [
    {
     "name": "stdout",
     "output_type": "stream",
     "text": [
      "__init__()\n"
     ]
    }
   ],
   "source": [
    "# 인스턴스/객체 생성\n",
    "kim =Person('마징가',10,'남자')"
   ]
  },
  {
   "cell_type": "code",
   "execution_count": 24,
   "metadata": {},
   "outputs": [
    {
     "data": {
      "text/plain": [
       "'대한민국'"
      ]
     },
     "execution_count": 24,
     "metadata": {},
     "output_type": "execute_result"
    }
   ],
   "source": [
    "# 클래스 속성 : 객체/인스턴스 생성 없이 바로 사용 가능\n",
    "Person.born"
   ]
  },
  {
   "cell_type": "code",
   "execution_count": 25,
   "metadata": {},
   "outputs": [
    {
     "data": {
      "text/plain": [
       "\">>\\n---------------------------------------------------------------------------\\nAttributeError                            Traceback (most recent call last)\\nCell In[18], line 3\\n      1 # 인스턴스 속성 : 객체/인스턴스 생성 없이 바로 사용 불가능\\n----> 3 Person.gender\\n\\nAttributeError: type object 'Person' has no attribute 'gender'\\n\""
      ]
     },
     "execution_count": 25,
     "metadata": {},
     "output_type": "execute_result"
    }
   ],
   "source": [
    "# 인스턴스 속성 : 객체/인스턴스 생성 없이 바로 사용 불가능\n",
    "#Person.gender\n",
    "\n",
    "'''>>\n",
    "---------------------------------------------------------------------------\n",
    "AttributeError                            Traceback (most recent call last)\n",
    "Cell In[18], line 3\n",
    "      1 # 인스턴스 속성 : 객체/인스턴스 생성 없이 바로 사용 불가능\n",
    "----> 3 Person.gender\n",
    "\n",
    "AttributeError: type object 'Person' has no attribute 'gender'\n",
    "'''\n"
   ]
  },
  {
   "cell_type": "code",
   "execution_count": 40,
   "metadata": {},
   "outputs": [],
   "source": [
    "class Mother:\n",
    "    pass"
   ]
  },
  {
   "cell_type": "markdown",
   "metadata": {},
   "source": [
    "- 상속(Inheritance) \n",
    "    * 기존 클래스의 속성과 메서드 재사용\n",
    "    * 추가 속성 및 메서드로 확장"
   ]
  },
  {
   "cell_type": "code",
   "execution_count": 45,
   "metadata": {},
   "outputs": [],
   "source": [
    "# ---------------------------------------------------------------------------\n",
    "# 저장데이터 : 소방관 정보 저장 클래스\n",
    "# 클래스이름 : Fireman  <= 자식 클래스, sub class\n",
    "# 클래스속성 : name, age, gender, group, position\n",
    "# 클래스기능 : eat(), sleep(), extinguish()\n",
    "# 부모클래스 : Person   <= Super class\n",
    "# ---------------------------------------------------------------------------\n",
    "\n",
    "class Fireman(Person,Mother):\n",
    "\n",
    "    # 인스턴스 생성 메서드\n",
    "    def __init__ (self,name,age,gender,group,position):\n",
    "        # 부모/Super 클래스 생성\n",
    "        super().__init__(name,age,gender)\n",
    "\n",
    "        # 자식 / Sub 클래스 생성\n",
    "        self.group=group\n",
    "        self.position=position\n",
    "    #인스턴스 메서드\n",
    "    def extinguish(self,where):\n",
    "        print(f'{self.name}은 {where}에서 불을 끄고 있다.')\n",
    "\n",
    "    # 오버라이딩(Overriding)\n",
    "    # 부모클래스로부터 상속받은 메서드 중에서 변경하고 싶은 메서드\n",
    "    # 구현부만 변경\n",
    "    def eat(self,food):\n",
    "        print(f'{self.name}가 {food}를 데워서 먹는다')"
   ]
  },
  {
   "cell_type": "code",
   "execution_count": 46,
   "metadata": {},
   "outputs": [
    {
     "name": "stdout",
     "output_type": "stream",
     "text": [
      "__init__()\n"
     ]
    }
   ],
   "source": [
    "park=Fireman('홍길동',30,'남','대구소방서','주임')"
   ]
  },
  {
   "cell_type": "code",
   "execution_count": 47,
   "metadata": {},
   "outputs": [
    {
     "name": "stdout",
     "output_type": "stream",
     "text": [
      "방에서 잔다\n"
     ]
    }
   ],
   "source": [
    "park.sleep('방')"
   ]
  },
  {
   "cell_type": "code",
   "execution_count": 48,
   "metadata": {},
   "outputs": [
    {
     "name": "stdout",
     "output_type": "stream",
     "text": [
      "홍길동가 빵를 데워서 먹는다\n"
     ]
    }
   ],
   "source": [
    "park.eat('빵')"
   ]
  },
  {
   "cell_type": "code",
   "execution_count": null,
   "metadata": {},
   "outputs": [],
   "source": []
  },
  {
   "cell_type": "code",
   "execution_count": null,
   "metadata": {},
   "outputs": [],
   "source": []
  }
 ],
 "metadata": {
  "kernelspec": {
   "display_name": "TORCH_38",
   "language": "python",
   "name": "python3"
  },
  "language_info": {
   "codemirror_mode": {
    "name": "ipython",
    "version": 3
   },
   "file_extension": ".py",
   "mimetype": "text/x-python",
   "name": "python",
   "nbconvert_exporter": "python",
   "pygments_lexer": "ipython3",
   "version": "3.8.19"
  }
 },
 "nbformat": 4,
 "nbformat_minor": 2
}
