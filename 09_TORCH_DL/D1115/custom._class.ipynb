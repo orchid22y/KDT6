{
 "cells": [
  {
   "cell_type": "markdown",
   "metadata": {
    "vscode": {
     "languageId": "plaintext"
    }
   },
   "source": [
    "#### [ 커스텀 클래스 구현 ]\n",
    "- 부모로부터 상속받은 메서드를 원하는 대로 재정의 => 오버라이딩\n",
    "- 필수는 아니지만 경우에 따라서는 반드시 오버라이딩해야하는 경우 있음"
   ]
  },
  {
   "cell_type": "code",
   "execution_count": 18,
   "metadata": {},
   "outputs": [],
   "source": [
    "class A:\n",
    "    # 클래스로 인스턴스 생성 시 호출되는 매직메서드\n",
    "    def __init__(self, name, age):\n",
    "        # 인스턴스 속성들 : 인스턴스 생성 후 힙 영역에 저장\n",
    "        self.name=name\n",
    "        self.age=age\n",
    "\n",
    "    # 일반메서드\n",
    "    def printInfo(self):\n",
    "        print(f'NAME: {self.name}')\n",
    "        print(f'AGE : {self.age}')\n",
    "    \n",
    "    # 오버라이딩\n",
    "    def __add__(self,other):\n",
    "        return self.age + other.age\n",
    "    \n",
    "    # 인스턴스변수명() 호출 실행되기 위한 메서드\n",
    "    def __call__(self):\n",
    "        return \"OK\""
   ]
  },
  {
   "cell_type": "code",
   "execution_count": 19,
   "metadata": {},
   "outputs": [
    {
     "name": "stdout",
     "output_type": "stream",
     "text": [
      "abc\n",
      "11\n",
      "NAME: abc\n",
      "AGE : 11\n"
     ]
    }
   ],
   "source": [
    "# 인스턴스 생성 => 클래스이름(__init__()메서드의 매개변수)\n",
    "a1=A('abc',10)\n",
    "\n",
    "# 인스턴스 속성 읽기 => 인스턴스변수명.속성명\n",
    "print(a1.name)\n",
    "\n",
    "# 인스턴스 속성 변경 => 인스턴스변수명.속성명 = 새로운 값\n",
    "a1.age=a1.age+1\n",
    "print(a1.age)\n",
    "\n",
    "# 인스턴스 메서드 사용 => 인스턴스변수명.메서드명()\n",
    "a1.printInfo()"
   ]
  },
  {
   "cell_type": "code",
   "execution_count": 21,
   "metadata": {},
   "outputs": [
    {
     "name": "stdout",
     "output_type": "stream",
     "text": [
      "<__main__.A object at 0x0000025455C82A90> 12\n"
     ]
    }
   ],
   "source": [
    "# 부모 클래스부터 상속받은 메서드 활용\n",
    "# ==> 원하는 대로 메서드 기능 구현해서 사용 즉, 오버라이딩 필요!\n",
    "# 연산 기능\n",
    "a2=A('TOM',5)\n",
    "\n",
    "print(a1 , 12) # __add__() 메서드 오버라이딩 필요"
   ]
  },
  {
   "cell_type": "code",
   "execution_count": 22,
   "metadata": {},
   "outputs": [
    {
     "data": {
      "text/plain": [
       "'OK'"
      ]
     },
     "execution_count": 22,
     "metadata": {},
     "output_type": "execute_result"
    }
   ],
   "source": [
    "# 인스턴스 변수명() : __call__() 오버라이딩 필요\n",
    "a1()"
   ]
  },
  {
   "cell_type": "markdown",
   "metadata": {},
   "source": [
    "[ torch의 신경망 커스텀 클래스 ]"
   ]
  },
  {
   "cell_type": "code",
   "execution_count": 33,
   "metadata": {},
   "outputs": [],
   "source": [
    "# 모듈 로딩\n",
    "import torch\n",
    "import torch.nn as nn\n",
    "import torch.nn.functional as F\n"
   ]
  },
  {
   "cell_type": "code",
   "execution_count": null,
   "metadata": {},
   "outputs": [],
   "source": [
    "# 인공신경망 커스텀 클래스 정의\n",
    "# 부모클래스 : nn.Module\n",
    "# 오버라이딩 : __init__(self), forward(self)\n",
    "# 클래스이름 : MyModel\n",
    "\n",
    "class MyModel(nn.Module):\n",
    "    \n",
    "    # 모델의 층 구성 설계 및 초기화 메서드\n",
    "    def __init__(self):\n",
    "        # 부모 생성\n",
    "        super().__init__()\n",
    "        self.in_layer=nn.Linear(3,10)   # 입력 피쳐 3개, 출력 10개 즉 뉴런 10개\n",
    "        self.hd_layer=nn.Linear(10,5)   # 입력 피쳐 10개, 출력 5개, 즉 뉴런 5개\n",
    "        self.out_layer=nn.Linear(5,1)   # 입력 피쳐 5개, 출력 1개, 즉 뉴런 1개\n",
    "\n",
    "    # 순방향 즉, 순전파 학습\n",
    "    # 필요 : 데이터\n",
    "\n",
    "    def forward(self,X):\n",
    "        # 입력층\n",
    "        output = self.in_layer(X)\n",
    "        output=F.relu(output)\n",
    "\n",
    "        # 은닉층\n",
    "        output = self.hd_layer(output)\n",
    "        output = F.relu(output)\n",
    "\n",
    "        # 출력층\n",
    "        output = self.out_layer(output)\n",
    "\n",
    "        return output\n"
   ]
  },
  {
   "cell_type": "code",
   "execution_count": 36,
   "metadata": {},
   "outputs": [
    {
     "data": {
      "text/plain": [
       "tensor([[-0.0735]], grad_fn=<AddmmBackward0>)"
      ]
     },
     "execution_count": 36,
     "metadata": {},
     "output_type": "execute_result"
    }
   ],
   "source": [
    "# 신경망 인스턴스 생성\n",
    "m1=MyModel()\n",
    "\n",
    "m1(torch.tensor([[1.,2.,3.]]))"
   ]
  },
  {
   "cell_type": "code",
   "execution_count": 37,
   "metadata": {},
   "outputs": [
    {
     "data": {
      "text/plain": [
       "tensor([[-0.0735],\n",
       "        [-0.1226]], grad_fn=<AddmmBackward0>)"
      ]
     },
     "execution_count": 37,
     "metadata": {},
     "output_type": "execute_result"
    }
   ],
   "source": [
    "m1(torch.tensor([[1.,2.,3.],[2.,3.,4.]]))"
   ]
  },
  {
   "cell_type": "code",
   "execution_count": 38,
   "metadata": {},
   "outputs": [],
   "source": [
    "# 인공신경망 커스텀 클래스 정의\n",
    "# 부모클래스 : nn.Module\n",
    "# 오버라이딩 : __init__(self), forward(self)\n",
    "# 클래스이름 : MyModel\n",
    "\n",
    "class MyModel(nn.Module):\n",
    "    \n",
    "    # 모델의 층 구성 설계 및 초기화 메서드\n",
    "    def __init__(self):\n",
    "        # 부모 생성\n",
    "        super().__init__()\n",
    "        self.in_layer=nn.Linear(3,10)   # 입력 피쳐 3개, 출력 10개 즉 뉴런 10개\n",
    "        self.hd_layer=nn.Sequential(\n",
    "            nn.Linear(10,50),\n",
    "            nn.ReLU(),\n",
    "            nn.Linear(50,5)\n",
    "                )\n",
    "        self.out_layer=nn.Linear(5,1)   # 입력 피쳐 5개, 출력 1개, 즉 뉴런 1개\n",
    "\n",
    "    # 순방향 즉, 순전파 학습\n",
    "    # 필요 : 데이터\n",
    "\n",
    "    def forward(self,X):\n",
    "        # 입력층\n",
    "        output = self.in_layer(X)\n",
    "        output=F.relu(output)\n",
    "\n",
    "        # 은닉층\n",
    "        output = self.hd_layer(output)\n",
    "        output = F.relu(output)\n",
    "\n",
    "        # 출력층\n",
    "        output = self.out_layer(output)\n",
    "\n",
    "        return output\n"
   ]
  },
  {
   "cell_type": "code",
   "execution_count": 40,
   "metadata": {},
   "outputs": [
    {
     "data": {
      "text/plain": [
       "MyModel(\n",
       "  (in_layer): Linear(in_features=3, out_features=10, bias=True)\n",
       "  (hd_layer): Linear(in_features=10, out_features=5, bias=True)\n",
       "  (out_layer): Linear(in_features=5, out_features=1, bias=True)\n",
       ")"
      ]
     },
     "execution_count": 40,
     "metadata": {},
     "output_type": "execute_result"
    }
   ],
   "source": [
    "m1"
   ]
  },
  {
   "cell_type": "code",
   "execution_count": null,
   "metadata": {},
   "outputs": [],
   "source": []
  }
 ],
 "metadata": {
  "kernelspec": {
   "display_name": "TORCH_38",
   "language": "python",
   "name": "python3"
  },
  "language_info": {
   "codemirror_mode": {
    "name": "ipython",
    "version": 3
   },
   "file_extension": ".py",
   "mimetype": "text/x-python",
   "name": "python",
   "nbconvert_exporter": "python",
   "pygments_lexer": "ipython3",
   "version": "3.8.19"
  }
 },
 "nbformat": 4,
 "nbformat_minor": 2
}
