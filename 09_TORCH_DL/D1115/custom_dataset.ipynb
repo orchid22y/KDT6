{
 "cells": [
  {
   "cell_type": "markdown",
   "metadata": {},
   "source": [
    "## [ Dataset & DataLoader ]\n",
    "- 딥러닝에서는 대량의 데이터 학습 시 많은 시간 소요\n",
    "- 대량 데이터를 일정 크기로 나누어서 학습 진행\n",
    "- 에포크 : 처음 ~ 끝까지 전체 데이터 학습 횟수 의미\n",
    "- 배치사이즈 : 실제 학습하는 데이터 양\n",
    "- Pytorch에서는 DataLoader와 Dataset 클래스\n",
    "    * 활용해서 학습 데이터 양만큼 로딩 후 학습 진행\n",
    "- 데이터셋에 맞는 Custom DataSet을 생성해야 함"
   ]
  },
  {
   "cell_type": "markdown",
   "metadata": {},
   "source": [
    "[1] 모듈로딩 및 데이터 준비"
   ]
  },
  {
   "cell_type": "code",
   "execution_count": 1,
   "metadata": {},
   "outputs": [],
   "source": [
    "# [1-1] 모듈 로딩\n",
    "import torch                                            # 텐서 및 일반 수치계산 함수들\n",
    "import torch.nn as nn                                   # 인공신경망 관련\n",
    "import torch.nn.functional as F                         # 인공신경망의 함수들 (AF, LF, MF) 관련\n",
    "import torch.optim as optim                             # 모델 최적화 관련\n",
    "from torch.utils.data import Dataset, DataLoader      # 학습 데이터 관련\n",
    "\n",
    "import pandas as pd"
   ]
  },
  {
   "cell_type": "code",
   "execution_count": 2,
   "metadata": {},
   "outputs": [
    {
     "data": {
      "text/html": [
       "<div>\n",
       "<style scoped>\n",
       "    .dataframe tbody tr th:only-of-type {\n",
       "        vertical-align: middle;\n",
       "    }\n",
       "\n",
       "    .dataframe tbody tr th {\n",
       "        vertical-align: top;\n",
       "    }\n",
       "\n",
       "    .dataframe thead th {\n",
       "        text-align: right;\n",
       "    }\n",
       "</style>\n",
       "<table border=\"1\" class=\"dataframe\">\n",
       "  <thead>\n",
       "    <tr style=\"text-align: right;\">\n",
       "      <th></th>\n",
       "      <th>sepal.length</th>\n",
       "      <th>sepal.width</th>\n",
       "      <th>petal.length</th>\n",
       "      <th>petal.width</th>\n",
       "      <th>variety</th>\n",
       "    </tr>\n",
       "  </thead>\n",
       "  <tbody>\n",
       "    <tr>\n",
       "      <th>0</th>\n",
       "      <td>5.1</td>\n",
       "      <td>3.5</td>\n",
       "      <td>1.4</td>\n",
       "      <td>0.2</td>\n",
       "      <td>Setosa</td>\n",
       "    </tr>\n",
       "  </tbody>\n",
       "</table>\n",
       "</div>"
      ],
      "text/plain": [
       "   sepal.length  sepal.width  petal.length  petal.width variety\n",
       "0           5.1          3.5           1.4          0.2  Setosa"
      ]
     },
     "execution_count": 2,
     "metadata": {},
     "output_type": "execute_result"
    }
   ],
   "source": [
    "#[1-2] 데이터 준비\n",
    "DATA_FILE=r'C:\\Users\\KDP-27\\Desktop\\KDT6\\MachineLearning\\data\\iris.csv'\n",
    "\n",
    "dataDF=pd.read_csv(DATA_FILE)\n",
    "dataDF.head(1)"
   ]
  },
  {
   "cell_type": "markdown",
   "metadata": {},
   "source": [
    "[2] 데이터 전용 커스텀 데이터셋 클래스 정의"
   ]
  },
  {
   "cell_type": "code",
   "execution_count": 3,
   "metadata": {},
   "outputs": [],
   "source": [
    "# 클래스이름 : CustomDataset\n",
    "# 매개 변수 : feature, target\n",
    "# 부모클래스 : Dataset\n",
    "# 오버라이딩 : __init__(), __len__(), __getitem__()\n",
    "class CustomDataset(Dataset):\n",
    "    # 초기화 및 인스턴스 변수 설정 메서드\n",
    "    def __init__(self, feature, target):\n",
    "        super().__init__()\n",
    "        self.feature=feature\n",
    "        self.target=target\n",
    "        self.nrows = len(feature)\n",
    "\n",
    "    # 데이터 갯수 반환 메서드\n",
    "    def __len__(self):\n",
    "        return self.nrows\n",
    "    \n",
    "    # 인덱스에 해당하는 피쳐와 라벨 반환 메서드\n",
    "    def __getitem__(self, index):\n",
    "        x = torch.FloatTensor(self.feature.iloc[index].values)\n",
    "        y = torch.FloatTensor(self.target.iloc[index].values)\n",
    "        return x, y"
   ]
  },
  {
   "cell_type": "code",
   "execution_count": 4,
   "metadata": {},
   "outputs": [
    {
     "data": {
      "text/html": [
       "<div>\n",
       "<style scoped>\n",
       "    .dataframe tbody tr th:only-of-type {\n",
       "        vertical-align: middle;\n",
       "    }\n",
       "\n",
       "    .dataframe tbody tr th {\n",
       "        vertical-align: top;\n",
       "    }\n",
       "\n",
       "    .dataframe thead th {\n",
       "        text-align: right;\n",
       "    }\n",
       "</style>\n",
       "<table border=\"1\" class=\"dataframe\">\n",
       "  <thead>\n",
       "    <tr style=\"text-align: right;\">\n",
       "      <th></th>\n",
       "      <th>sepal.length</th>\n",
       "      <th>sepal.width</th>\n",
       "      <th>petal.length</th>\n",
       "      <th>petal.width</th>\n",
       "    </tr>\n",
       "  </thead>\n",
       "  <tbody>\n",
       "    <tr>\n",
       "      <th>0</th>\n",
       "      <td>5.1</td>\n",
       "      <td>3.5</td>\n",
       "      <td>1.4</td>\n",
       "      <td>0.2</td>\n",
       "    </tr>\n",
       "  </tbody>\n",
       "</table>\n",
       "</div>"
      ],
      "text/plain": [
       "   sepal.length  sepal.width  petal.length  petal.width\n",
       "0           5.1          3.5           1.4          0.2"
      ]
     },
     "execution_count": 4,
     "metadata": {},
     "output_type": "execute_result"
    }
   ],
   "source": [
    "# 커스텀데이터셋 인스턴스 생성\n",
    "featureDF=dataDF.loc[:,:dataDF.columns[-2]]\n",
    "featureDF.head(1)"
   ]
  },
  {
   "cell_type": "code",
   "execution_count": 5,
   "metadata": {},
   "outputs": [],
   "source": [
    "# [방법 1] Series의 accessor 사용 \n",
    "#dataDF.variety.str.replace() # replace(정규식으로 조건 입력)\n",
    "\n",
    "# [방법 2] \n",
    "dataDF.replace({'Setosa':0,'Versicolor':1,'Virginica':2},inplace=True)"
   ]
  },
  {
   "cell_type": "code",
   "execution_count": 6,
   "metadata": {},
   "outputs": [
    {
     "data": {
      "text/html": [
       "<div>\n",
       "<style scoped>\n",
       "    .dataframe tbody tr th:only-of-type {\n",
       "        vertical-align: middle;\n",
       "    }\n",
       "\n",
       "    .dataframe tbody tr th {\n",
       "        vertical-align: top;\n",
       "    }\n",
       "\n",
       "    .dataframe thead th {\n",
       "        text-align: right;\n",
       "    }\n",
       "</style>\n",
       "<table border=\"1\" class=\"dataframe\">\n",
       "  <thead>\n",
       "    <tr style=\"text-align: right;\">\n",
       "      <th></th>\n",
       "      <th>variety</th>\n",
       "    </tr>\n",
       "  </thead>\n",
       "  <tbody>\n",
       "    <tr>\n",
       "      <th>0</th>\n",
       "      <td>0</td>\n",
       "    </tr>\n",
       "  </tbody>\n",
       "</table>\n",
       "</div>"
      ],
      "text/plain": [
       "   variety\n",
       "0        0"
      ]
     },
     "execution_count": 6,
     "metadata": {},
     "output_type": "execute_result"
    }
   ],
   "source": [
    "targetDF=dataDF.loc[:,[dataDF.columns[-1]]] # [] 추가해서 DataFrame으로 만들기\n",
    "targetDF.head(1)"
   ]
  },
  {
   "cell_type": "code",
   "execution_count": 10,
   "metadata": {},
   "outputs": [],
   "source": [
    "# Dataset 인스턴스 생성\n",
    "irisDS=CustomDataset(featureDF, targetDF)\n",
    "\n",
    "# Dataloader 인스턴스 생성\n",
    "irisDL = DataLoader(irisDS, batch_size=30, shuffle=True)"
   ]
  },
  {
   "cell_type": "code",
   "execution_count": 11,
   "metadata": {},
   "outputs": [
    {
     "name": "stdout",
     "output_type": "stream",
     "text": [
      "tensor([[6.3000, 3.4000, 5.6000, 2.4000],\n",
      "        [6.9000, 3.2000, 5.7000, 2.3000],\n",
      "        [4.9000, 2.4000, 3.3000, 1.0000],\n",
      "        [5.3000, 3.7000, 1.5000, 0.2000],\n",
      "        [6.0000, 3.4000, 4.5000, 1.6000],\n",
      "        [6.8000, 3.0000, 5.5000, 2.1000],\n",
      "        [4.8000, 3.0000, 1.4000, 0.1000],\n",
      "        [7.6000, 3.0000, 6.6000, 2.1000],\n",
      "        [5.2000, 4.1000, 1.5000, 0.1000],\n",
      "        [5.4000, 3.4000, 1.5000, 0.4000],\n",
      "        [5.7000, 4.4000, 1.5000, 0.4000],\n",
      "        [4.8000, 3.4000, 1.9000, 0.2000],\n",
      "        [5.6000, 3.0000, 4.1000, 1.3000],\n",
      "        [4.4000, 2.9000, 1.4000, 0.2000],\n",
      "        [5.5000, 2.5000, 4.0000, 1.3000],\n",
      "        [6.7000, 3.1000, 5.6000, 2.4000],\n",
      "        [6.2000, 2.9000, 4.3000, 1.3000],\n",
      "        [4.4000, 3.0000, 1.3000, 0.2000],\n",
      "        [7.7000, 2.8000, 6.7000, 2.0000],\n",
      "        [6.6000, 2.9000, 4.6000, 1.3000],\n",
      "        [4.9000, 3.1000, 1.5000, 0.2000],\n",
      "        [6.5000, 2.8000, 4.6000, 1.5000],\n",
      "        [4.7000, 3.2000, 1.3000, 0.2000],\n",
      "        [6.4000, 2.9000, 4.3000, 1.3000],\n",
      "        [5.8000, 2.7000, 5.1000, 1.9000],\n",
      "        [5.8000, 2.7000, 4.1000, 1.0000],\n",
      "        [5.0000, 3.0000, 1.6000, 0.2000],\n",
      "        [6.2000, 3.4000, 5.4000, 2.3000],\n",
      "        [6.0000, 2.7000, 5.1000, 1.6000],\n",
      "        [5.8000, 2.7000, 5.1000, 1.9000]]) tensor([[2.],\n",
      "        [2.],\n",
      "        [1.],\n",
      "        [0.],\n",
      "        [1.],\n",
      "        [2.],\n",
      "        [0.],\n",
      "        [2.],\n",
      "        [0.],\n",
      "        [0.],\n",
      "        [0.],\n",
      "        [0.],\n",
      "        [1.],\n",
      "        [0.],\n",
      "        [1.],\n",
      "        [2.],\n",
      "        [1.],\n",
      "        [0.],\n",
      "        [2.],\n",
      "        [1.],\n",
      "        [0.],\n",
      "        [1.],\n",
      "        [0.],\n",
      "        [1.],\n",
      "        [2.],\n",
      "        [1.],\n",
      "        [0.],\n",
      "        [2.],\n",
      "        [1.],\n",
      "        [2.]])\n"
     ]
    }
   ],
   "source": [
    "# DataLoader 인스턴스 확인\n",
    "for x, y in irisDL : \n",
    "    print(x,y)\n",
    "    break"
   ]
  },
  {
   "cell_type": "markdown",
   "metadata": {},
   "source": [
    "[3] 모델 클래스 정의"
   ]
  },
  {
   "cell_type": "code",
   "execution_count": 14,
   "metadata": {},
   "outputs": [],
   "source": [
    "# ----------------------------------------------------------------------------------\n",
    "# 클래스이름 : IrisModel \n",
    "# 부모클래스 : Module\n",
    "# 클래스구조 : ANN\n",
    "# - 입 력 층 : 입력 4개, 출력 10개 (즉, 뉴런 10개),  AF ReLU\n",
    "# - 은 닉 층 : 입력 10개, 출력 10개 (즉, 뉴런 30개), AF ReLU\n",
    "# - 출 력 층 : 입력 30개, 출력 3개 (즉, 뉴런 3개 ==> 다중분류  갯수만큼), AF Softmax\n",
    "# ----------------------------------------------------------------------------------\n",
    "\n",
    "class IrisModel(nn.Module):\n",
    "    # 모델 구조 층 초기화 메서드\n",
    "    def __init__(self):\n",
    "        super().__init__()\n",
    "        self.in_layer=nn.Linear(4,10)\n",
    "        self.hd_layer=nn.Linear(10,30)\n",
    "        self.out_layer=nn.Linear(30,3)\n",
    "\n",
    "    # 순전파 기능 메서드\n",
    "    def forward(self,x):\n",
    "        # 입력층\n",
    "        out=self.in_layer(x)\n",
    "        out=F.relu(out)\n",
    "        \n",
    "        # 은닉층\n",
    "        out=self.hd_layer(out)\n",
    "        out=F.relu(out)\n",
    "        \n",
    "        # 출력층\n",
    "        out=self.out_layer(out)\n",
    "        # out=F.log_softmax(out)    # Pytorch에서 다중분류 손실계산 함수에서 내부적 처리 / 2진분류라면 sigmoid함수 사용해야함\n",
    "\n",
    "        return out\n",
    "\n",
    "\n"
   ]
  },
  {
   "cell_type": "code",
   "execution_count": 15,
   "metadata": {},
   "outputs": [
    {
     "data": {
      "text/plain": [
       "IrisModel(\n",
       "  (in_layer): Linear(in_features=4, out_features=10, bias=True)\n",
       "  (hd_layer): Linear(in_features=10, out_features=30, bias=True)\n",
       "  (out_layer): Linear(in_features=30, out_features=3, bias=True)\n",
       ")"
      ]
     },
     "execution_count": 15,
     "metadata": {},
     "output_type": "execute_result"
    }
   ],
   "source": [
    "# 모델 인스턴스 생성\n",
    "model = IrisModel()\n",
    "model"
   ]
  },
  {
   "cell_type": "code",
   "execution_count": 16,
   "metadata": {},
   "outputs": [
    {
     "data": {
      "text/plain": [
       "tensor([[-0.0301, -0.5898, -0.3968]], grad_fn=<AddmmBackward0>)"
      ]
     },
     "execution_count": 16,
     "metadata": {},
     "output_type": "execute_result"
    }
   ],
   "source": [
    "# 모델의 shape 체크\n",
    "model(torch.FloatTensor([[1.,2.,3.,4]]))"
   ]
  },
  {
   "cell_type": "code",
   "execution_count": 21,
   "metadata": {},
   "outputs": [
    {
     "data": {
      "text/plain": [
       "(torch.Size([28, 28]), 2)"
      ]
     },
     "execution_count": 21,
     "metadata": {},
     "output_type": "execute_result"
    }
   ],
   "source": [
    "test_data=torch.linspace(0,255,28*28).reshape((-1,28)) # 2차원\n",
    "\n",
    "test_data.shape, test_data.ndim"
   ]
  },
  {
   "cell_type": "markdown",
   "metadata": {},
   "source": [
    "[3] 학습 => 에포크, 배치사이즈, 최적화 인스터스, 손실함수"
   ]
  },
  {
   "cell_type": "code",
   "execution_count": 22,
   "metadata": {},
   "outputs": [],
   "source": [
    "# 학습 위한 설정 값\n",
    "EPOCHS = 10\n",
    "LR=0.001\n",
    "\n",
    "# 손실함수 인스턴스, 최적화 인스턴스\n",
    "LOSS_FN = nn.CrossEntropyLoss()\n",
    "OPTIMIZER=optim.Adam(model.parameters(),lr=LR)"
   ]
  },
  {
   "cell_type": "code",
   "execution_count": 28,
   "metadata": {},
   "outputs": [
    {
     "name": "stdout",
     "output_type": "stream",
     "text": [
      "0/10 loss : 0.8781315088272095\n",
      "1/10 loss : 0.8954373002052307\n",
      "2/10 loss : 0.8693981766700745\n",
      "3/10 loss : 0.7783583402633667\n",
      "4/10 loss : 0.7725905179977417\n",
      "5/10 loss : 0.782888650894165\n",
      "6/10 loss : 0.7740792036056519\n",
      "7/10 loss : 0.7692846655845642\n",
      "8/10 loss : 0.6649473309516907\n",
      "9/10 loss : 0.6452271342277527\n"
     ]
    }
   ],
   "source": [
    "# 학습 진행\n",
    "for epoch in range(EPOCHS):\n",
    "    # 데이터 배치 크기만츰 추출\n",
    "    for x, y in irisDL:\n",
    "        # 배치 크기만큼 학습\n",
    "        output = model(x)\n",
    "\n",
    "        # 손실 계산 => 손실함수마다 자료형과 형태(shape)가 다름 \n",
    "        #              적합하게 자료형 및 형태 변환 필요!!!\n",
    "        y=y.long()  # 자료형 변환 (float -> long)\n",
    "        loss = LOSS_FN(output,y.reshape((-1,))) # 손실함수에 맞게 y의 shape 수정 (2차원 ->> 1차원)\n",
    "\n",
    "        # 역전파 - 층별 w, b 업데이트\n",
    "        OPTIMIZER.zero_grad()\n",
    "        loss.backward()\n",
    "        OPTIMIZER.step()\n",
    "\n",
    "    # EPOCH단위 loss 출력\n",
    "    print(f'{epoch}/{EPOCHS} loss : {loss}')"
   ]
  },
  {
   "cell_type": "code",
   "execution_count": null,
   "metadata": {},
   "outputs": [],
   "source": []
  }
 ],
 "metadata": {
  "kernelspec": {
   "display_name": "TORCH_38",
   "language": "python",
   "name": "python3"
  },
  "language_info": {
   "codemirror_mode": {
    "name": "ipython",
    "version": 3
   },
   "file_extension": ".py",
   "mimetype": "text/x-python",
   "name": "python",
   "nbconvert_exporter": "python",
   "pygments_lexer": "ipython3",
   "version": "3.8.19"
  }
 },
 "nbformat": 4,
 "nbformat_minor": 2
}
