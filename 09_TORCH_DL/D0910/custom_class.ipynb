{
 "cells": [
  {
   "cell_type": "markdown",
   "metadata": {},
   "source": [
    "#### 클래스 - 연산자 오버로딩 (Overloding)\n",
    "- 오버로딩(Overloading)\n",
    "    - 함수명은 동일하지만 매개변수의 개수, 종류, 순서가 다른면 다른 함수로 인식\n",
    "    - 파이썬에서는 연산자(+,-,*,..)에 대한 매직함수/메서드가 미리 정의 되어 있음\n",
    "    - 연산자 매직함수/매서드는 클래스별로 오버로딩하도록 되어 있음"
   ]
  },
  {
   "cell_type": "code",
   "execution_count": 30,
   "metadata": {},
   "outputs": [],
   "source": [
    "## --------------------------------------------------------------------\n",
    "## 저장데이터 : 햄버거\n",
    "## 클래스이름 : Bugger\n",
    "## 클래스속성 : 번,패티,야채,소스,이름,브랜드,가격\n",
    "##              - 브랜드 : 클래스 속성\n",
    "##              - 브랜드 외 나머지 : 인스턴스속성\n",
    "## 클래스기능 : 버거정보출력기능\n",
    "## --------------------------------------------------------------------\n",
    "class Bugger:\n",
    "    # 클래스 속성\n",
    "    maker='맘스터치'\n",
    "\n",
    "    # 인스턴스 생성 메서드 즉, 생성자 메서드\n",
    "    # self: 인스턴스 정보가 저장될 메모리 정보\n",
    "    def __init__(self,bun,patty,veg,source,name,price):\n",
    "        self.bun=bun\n",
    "        self.patty=patty\n",
    "        self.veg=veg\n",
    "        self.source=source\n",
    "        self.name=name\n",
    "        self.price=price\n",
    "\n",
    "    # 인스턴스 메서드 : 인스턴스/객체를 생성해야만 사용가능한 메서드\n",
    "    def showBuggerInfo(self):\n",
    "        print(f'[{self.name}] 정보')\n",
    "        print(f'- 가격 : {self.price}')\n",
    "        print(f'- 구성 : {self.bun},{self.veg},{self.patty}')\n",
    "\n",
    "    # 연산자 오버로딩\n",
    "    def __add__(self,other):\n",
    "        print('__add__')\n",
    "        return self.price + other.price\n",
    "    \n",
    "    def __sub__(self,other):\n",
    "        print('__sub__')\n",
    "        return \"Nothing\"\n",
    "    \n",
    "    def __mul__(self,other):\n",
    "        print('__mul__')\n",
    "        return self.price*other\n",
    "    \n",
    "    "
   ]
  },
  {
   "cell_type": "markdown",
   "metadata": {},
   "source": [
    "- 인스턴스/객체 생성 => 메모리 힙(Heap)"
   ]
  },
  {
   "cell_type": "code",
   "execution_count": 31,
   "metadata": {},
   "outputs": [],
   "source": [
    "## 생성 문법 : 변수명 = 클래스명(속성1, 속성2,...,속성n)\n",
    "bugger1=Bugger('브리오슈','소고기','토마토','스리라차마요','소고기버거',4900)\n",
    "bugger2=Bugger('참깨빵','새우','토마토','갈릭','새우버거',5100)\n",
    "bugger3=Bugger('브리오슈','치킨','토마토','머스타드','치킨버거',6000)"
   ]
  },
  {
   "cell_type": "markdown",
   "metadata": {},
   "source": [
    "- 인스턴스/객체 속성"
   ]
  },
  {
   "cell_type": "code",
   "execution_count": 32,
   "metadata": {},
   "outputs": [
    {
     "name": "stdout",
     "output_type": "stream",
     "text": [
      "bugger1.name    => 소고기버거\n",
      "bugger3.price   => 6000\n"
     ]
    }
   ],
   "source": [
    "## 사용 문법 : 변수명.속성명\n",
    "print(f'bugger1.name    => {bugger1.name}')\n",
    "print(f'bugger3.price   => {bugger3.price}')\n"
   ]
  },
  {
   "cell_type": "markdown",
   "metadata": {},
   "source": [
    "- 인스턴스/객체 메서드"
   ]
  },
  {
   "cell_type": "code",
   "execution_count": 33,
   "metadata": {},
   "outputs": [
    {
     "name": "stdout",
     "output_type": "stream",
     "text": [
      "[소고기버거] 정보\n",
      "- 가격 : 4900\n",
      "- 구성 : 브리오슈,토마토,소고기\n"
     ]
    }
   ],
   "source": [
    "## 사용 문법 : 변수명.메서드명()\n",
    "bugger1.showBuggerInfo()"
   ]
  },
  {
   "cell_type": "markdown",
   "metadata": {},
   "source": [
    "- 인스턴스/객체 연산"
   ]
  },
  {
   "cell_type": "code",
   "execution_count": 34,
   "metadata": {},
   "outputs": [
    {
     "data": {
      "text/plain": [
       "('happynew', [1, 2, 3, 'a', 'b'], '**********')"
      ]
     },
     "execution_count": 34,
     "metadata": {},
     "output_type": "execute_result"
    }
   ],
   "source": [
    "'happy'+'new',[1,2,3]+['a','b'],'*'*10"
   ]
  },
  {
   "cell_type": "code",
   "execution_count": 35,
   "metadata": {},
   "outputs": [
    {
     "data": {
      "text/plain": [
       "\"\\n>>>\\n---------------------------------------------------------------------------\\nTypeError                                 Traceback (most recent call last)\\nCell In[11], line 1\\n----> 1 bugger1+bugger2\\n\\nTypeError: unsupported operand type(s) for +: 'Bugger' and 'Bugger'\\n\""
      ]
     },
     "execution_count": 35,
     "metadata": {},
     "output_type": "execute_result"
    }
   ],
   "source": [
    "# bugger1+bugger2\n",
    "\n",
    "'''\n",
    ">>>\n",
    "---------------------------------------------------------------------------\n",
    "TypeError                                 Traceback (most recent call last)\n",
    "Cell In[11], line 1\n",
    "----> 1 bugger1+bugger2\n",
    "\n",
    "TypeError: unsupported operand type(s) for +: 'Bugger' and 'Bugger'\n",
    "'''\n",
    "\n",
    "### ==> class에 연산자 오버로딩 후 실행 가능"
   ]
  },
  {
   "cell_type": "code",
   "execution_count": 36,
   "metadata": {},
   "outputs": [
    {
     "name": "stdout",
     "output_type": "stream",
     "text": [
      "__add__\n",
      "__mul__\n"
     ]
    },
    {
     "data": {
      "text/plain": [
       "(10000, 14700)"
      ]
     },
     "execution_count": 36,
     "metadata": {},
     "output_type": "execute_result"
    }
   ],
   "source": [
    "bugger1+bugger2, bugger1*3"
   ]
  },
  {
   "cell_type": "markdown",
   "metadata": {},
   "source": [
    "- 최상위 부모 클래스 ==> Object"
   ]
  },
  {
   "cell_type": "code",
   "execution_count": 37,
   "metadata": {},
   "outputs": [],
   "source": [
    "class A:\n",
    "    pass"
   ]
  },
  {
   "cell_type": "code",
   "execution_count": 38,
   "metadata": {},
   "outputs": [],
   "source": [
    "a=A()"
   ]
  },
  {
   "cell_type": "code",
   "execution_count": 40,
   "metadata": {},
   "outputs": [
    {
     "data": {
      "text/plain": [
       "['__module__',\n",
       " '__dict__',\n",
       " '__weakref__',\n",
       " '__doc__',\n",
       " '__repr__',\n",
       " '__hash__',\n",
       " '__str__',\n",
       " '__getattribute__',\n",
       " '__setattr__',\n",
       " '__delattr__',\n",
       " '__lt__',\n",
       " '__le__',\n",
       " '__eq__',\n",
       " '__ne__',\n",
       " '__gt__',\n",
       " '__ge__',\n",
       " '__init__',\n",
       " '__new__',\n",
       " '__reduce_ex__',\n",
       " '__reduce__',\n",
       " '__subclasshook__',\n",
       " '__init_subclass__',\n",
       " '__format__',\n",
       " '__sizeof__',\n",
       " '__dir__',\n",
       " '__class__']"
      ]
     },
     "execution_count": 40,
     "metadata": {},
     "output_type": "execute_result"
    }
   ],
   "source": [
    "a.__dir__()"
   ]
  },
  {
   "cell_type": "code",
   "execution_count": null,
   "metadata": {},
   "outputs": [],
   "source": []
  }
 ],
 "metadata": {
  "kernelspec": {
   "display_name": "TORCH_38",
   "language": "python",
   "name": "python3"
  },
  "language_info": {
   "codemirror_mode": {
    "name": "ipython",
    "version": 3
   },
   "file_extension": ".py",
   "mimetype": "text/x-python",
   "name": "python",
   "nbconvert_exporter": "python",
   "pygments_lexer": "ipython3",
   "version": "3.8.19"
  }
 },
 "nbformat": 4,
 "nbformat_minor": 2
}
