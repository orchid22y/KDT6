{
 "cells": [
  {
   "cell_type": "markdown",
   "metadata": {},
   "source": [
    "##### OpenCV 기본 사용법"
   ]
  },
  {
   "cell_type": "code",
   "execution_count": 1,
   "metadata": {},
   "outputs": [],
   "source": [
    "# 모듈 로딩\n",
    "import cv2\n",
    "import os\n",
    "import numpy as np"
   ]
  },
  {
   "cell_type": "code",
   "execution_count": 2,
   "metadata": {},
   "outputs": [],
   "source": [
    "# 이미지 관련 공통 변수\n",
    "IMG_DIR= '../image/'"
   ]
  },
  {
   "cell_type": "markdown",
   "metadata": {},
   "source": [
    "[1] 이미지 읽기 ==> ndarray로 들어옴"
   ]
  },
  {
   "cell_type": "code",
   "execution_count": 3,
   "metadata": {},
   "outputs": [],
   "source": [
    "# 이미지 파일 경로 + 파일명\n",
    "IMG_FILE=IMG_DIR+'logo.png'\n",
    "\n",
    "# 이미지 데이터\n",
    "im_data=cv2.imread(IMG_FILE)\n",
    "gray_data=cv2.imread(IMG_FILE, flags=cv2.IMREAD_GRAYSCALE)"
   ]
  },
  {
   "cell_type": "code",
   "execution_count": 4,
   "metadata": {},
   "outputs": [
    {
     "name": "stdout",
     "output_type": "stream",
     "text": [
      "shape (184, 544, 3)\n",
      "ndim 3D\n",
      "shape (184, 544)\n",
      "ndim 2D\n"
     ]
    }
   ],
   "source": [
    "# 이미지 데이터 속성\n",
    "print(f'shape {im_data.shape}') # 3은 채널정보, 컬러\n",
    "print(f'ndim {im_data.ndim}D')\n",
    "\n",
    "\n",
    "print(f'shape {gray_data.shape}')\n",
    "print(f'ndim {gray_data.ndim}D')\n"
   ]
  },
  {
   "cell_type": "markdown",
   "metadata": {},
   "source": [
    "[2] 이미지 화면 출력 => imshow()"
   ]
  },
  {
   "cell_type": "code",
   "execution_count": 7,
   "metadata": {},
   "outputs": [],
   "source": [
    "import time\n",
    "\n",
    "#이미지 창 띄우기\n",
    "cv2.imshow(\"[IM_DATA]\", im_data)\n",
    "cv2.imshow(\"[GRAY_DATA]\", gray_data)\n",
    "\n",
    "# 이미지 창 위에 이벤트 대기\n",
    "cv2.waitKey()\n",
    "\n",
    "# 이미지 창 닫기\n",
    "#cv2.destroyAllWindow()\n",
    "cv2.destroyWindow(\"[IM_DATA]\")\n",
    "\n",
    "#1초 일시정지\n",
    "time.sleep(1)\n",
    "cv2.destroyWindow(\"[GRAY_DATA]\")"
   ]
  },
  {
   "cell_type": "code",
   "execution_count": null,
   "metadata": {},
   "outputs": [],
   "source": []
  },
  {
   "cell_type": "markdown",
   "metadata": {},
   "source": []
  }
 ],
 "metadata": {
  "kernelspec": {
   "display_name": "TORCH_CV_38",
   "language": "python",
   "name": "python3"
  },
  "language_info": {
   "codemirror_mode": {
    "name": "ipython",
    "version": 3
   },
   "file_extension": ".py",
   "mimetype": "text/x-python",
   "name": "python",
   "nbconvert_exporter": "python",
   "pygments_lexer": "ipython3",
   "version": "3.8.19"
  }
 },
 "nbformat": 4,
 "nbformat_minor": 2
}
