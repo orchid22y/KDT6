{
 "cells": [
  {
   "cell_type": "markdown",
   "metadata": {},
   "source": [
    "#### 이미지 Drawing\n",
    "- 이미지 객체 ndarray 준비 필요"
   ]
  },
  {
   "cell_type": "code",
   "execution_count": 7,
   "metadata": {},
   "outputs": [],
   "source": [
    "# 모듈 로딩\n",
    "\n",
    "import cv2\n",
    "import numpy as np"
   ]
  },
  {
   "cell_type": "code",
   "execution_count": 8,
   "metadata": {},
   "outputs": [],
   "source": [
    "# 데이터 관련 변수 설정\n",
    "DIR_PATH = '../image/'"
   ]
  },
  {
   "cell_type": "code",
   "execution_count": 13,
   "metadata": {},
   "outputs": [
    {
     "data": {
      "text/plain": [
       "True"
      ]
     },
     "execution_count": 13,
     "metadata": {},
     "output_type": "execute_result"
    }
   ],
   "source": [
    "# 이미지 객체 생성\n",
    "bg_data=np.full((500,500,3),255) # 500*500 사이즈의 흰색 \n",
    "\n",
    "# 이미지 파일 생성\n",
    "BG_FILE=DIR_PATH+'bg.jpg'\n",
    "cv2.imwrite(BG_FILE, bg_data)\n",
    "\n",
    "#print(bg_data)"
   ]
  },
  {
   "cell_type": "code",
   "execution_count": 14,
   "metadata": {},
   "outputs": [
    {
     "data": {
      "text/plain": [
       "((500, 500, 3), 3)"
      ]
     },
     "execution_count": 14,
     "metadata": {},
     "output_type": "execute_result"
    }
   ],
   "source": [
    "# 도화지 이미지 가져오기\n",
    "white_bg=cv2.imread(BG_FILE)\n",
    "white_bg.shape, white_bg.ndim"
   ]
  },
  {
   "cell_type": "code",
   "execution_count": 5,
   "metadata": {},
   "outputs": [],
   "source": [
    "# 선그리기\n",
    "cv2.line(white_bg,(50,50),(250,250),(250,0,0),5)    #cv2.line(이미지파일,(leftTop x,y좌표),(RightBottom x,y좌표),(color),굵기)\n",
    "cv2.line(white_bg,(100,50),(250,250),(0,255,0),10)\n",
    "cv2.line(white_bg,(250,50),(250,450),(255,0,255),20)\n",
    "cv2.imshow('DRAWING',white_bg)\n",
    "cv2.waitKey()\n",
    "cv2.destroyAllWindows()"
   ]
  },
  {
   "cell_type": "code",
   "execution_count": 15,
   "metadata": {},
   "outputs": [],
   "source": [
    "# 사각형 그리기\n",
    "cv2.rectangle(white_bg,(170,170),(250,250),(0,255,255),4)  #cv2.rectangle(이미지파일,(leftTop x,y좌표),(RightBottom x,y좌표),(color),굵기)\n",
    "cv2.rectangle(white_bg,(50,50),(120,300),0,-1)  # 굵기: -1 => 채우기\n",
    "cv2.imshow('DRAWING',white_bg)\n",
    "cv2.waitKey()\n",
    "cv2.destroyAllWindows()"
   ]
  },
  {
   "cell_type": "code",
   "execution_count": null,
   "metadata": {},
   "outputs": [],
   "source": [
    " "
   ]
  }
 ],
 "metadata": {
  "kernelspec": {
   "display_name": "TORCH_CV_38",
   "language": "python",
   "name": "python3"
  },
  "language_info": {
   "codemirror_mode": {
    "name": "ipython",
    "version": 3
   },
   "file_extension": ".py",
   "mimetype": "text/x-python",
   "name": "python",
   "nbconvert_exporter": "python",
   "pygments_lexer": "ipython3",
   "version": "3.8.19"
  }
 },
 "nbformat": 4,
 "nbformat_minor": 2
}
