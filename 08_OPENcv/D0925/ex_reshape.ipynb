{
 "cells": [
  {
   "cell_type": "markdown",
   "metadata": {},
   "source": [
    "#### ndarray & tensor의 차원 축소 & 추가\n",
    "- 모델에 입출력 시에 shape 설정을 위해서 필요함"
   ]
  },
  {
   "cell_type": "code",
   "execution_count": 1,
   "metadata": {},
   "outputs": [],
   "source": [
    "## 모듈 로딩\n",
    "import cv2\n",
    "import numpy as np\n",
    "import torch"
   ]
  },
  {
   "cell_type": "code",
   "execution_count": 2,
   "metadata": {},
   "outputs": [
    {
     "data": {
      "text/plain": [
       "((200, 100), 2)"
      ]
     },
     "execution_count": 2,
     "metadata": {},
     "output_type": "execute_result"
    }
   ],
   "source": [
    "## 임의의 데이터 생성\n",
    "data = np.full((200,100),7) #2D\n",
    "data.shape, data.ndim"
   ]
  },
  {
   "cell_type": "markdown",
   "metadata": {},
   "source": [
    "- [차원 추가] <hr>\n",
    "    - Numpy 경우: ndarray.reshape(), np.expand_dims(), np.newaxis\n",
    "    - Pytorch 경우 : reshape(), unsqueeze()"
   ]
  },
  {
   "cell_type": "code",
   "execution_count": 3,
   "metadata": {},
   "outputs": [
    {
     "data": {
      "text/plain": [
       "((200, 100, 1), 3)"
      ]
     },
     "execution_count": 3,
     "metadata": {},
     "output_type": "execute_result"
    }
   ],
   "source": [
    "## ----------------------------------------------------------------------------\n",
    "## numpy 기반\n",
    "## ----------------------------------------------------------------------------\n",
    "## - 채널 차원을 추가하기 => 방법 1 ) ndarra.reshape()\n",
    "data1=data.reshape((200,100,1))\n",
    "data1.shape, data1.ndim"
   ]
  },
  {
   "cell_type": "code",
   "execution_count": 4,
   "metadata": {},
   "outputs": [
    {
     "data": {
      "text/plain": [
       "array([[[7],\n",
       "        [7],\n",
       "        [7],\n",
       "        ...,\n",
       "        [7],\n",
       "        [7],\n",
       "        [7]],\n",
       "\n",
       "       [[7],\n",
       "        [7],\n",
       "        [7],\n",
       "        ...,\n",
       "        [7],\n",
       "        [7],\n",
       "        [7]],\n",
       "\n",
       "       [[7],\n",
       "        [7],\n",
       "        [7],\n",
       "        ...,\n",
       "        [7],\n",
       "        [7],\n",
       "        [7]],\n",
       "\n",
       "       ...,\n",
       "\n",
       "       [[7],\n",
       "        [7],\n",
       "        [7],\n",
       "        ...,\n",
       "        [7],\n",
       "        [7],\n",
       "        [7]],\n",
       "\n",
       "       [[7],\n",
       "        [7],\n",
       "        [7],\n",
       "        ...,\n",
       "        [7],\n",
       "        [7],\n",
       "        [7]],\n",
       "\n",
       "       [[7],\n",
       "        [7],\n",
       "        [7],\n",
       "        ...,\n",
       "        [7],\n",
       "        [7],\n",
       "        [7]]])"
      ]
     },
     "execution_count": 4,
     "metadata": {},
     "output_type": "execute_result"
    }
   ],
   "source": [
    "data1 #[[[7] * 100 ]*200] *3"
   ]
  },
  {
   "cell_type": "code",
   "execution_count": 5,
   "metadata": {},
   "outputs": [
    {
     "data": {
      "text/plain": [
       "((200, 100, 1), 3)"
      ]
     },
     "execution_count": 5,
     "metadata": {},
     "output_type": "execute_result"
    }
   ],
   "source": [
    "## - 채널 차원을 추가하기 => 방법2) np.expand_dims() //original=>(200, 100)\n",
    "\n",
    "data2=np.expand_dims(data, axis=2)\n",
    "data2.shape, data2.ndim"
   ]
  },
  {
   "cell_type": "code",
   "execution_count": 6,
   "metadata": {},
   "outputs": [
    {
     "data": {
      "text/plain": [
       "((1, 200, 100), 3)"
      ]
     },
     "execution_count": 6,
     "metadata": {},
     "output_type": "execute_result"
    }
   ],
   "source": [
    "## - 채널 차원을 추가하기 => 방법2) np.expand_dims() //original=>(200, 100)\n",
    "\n",
    "data2=np.expand_dims(data, axis=0)\n",
    "data2.shape, data2.ndim"
   ]
  },
  {
   "cell_type": "code",
   "execution_count": 7,
   "metadata": {},
   "outputs": [
    {
     "name": "stdout",
     "output_type": "stream",
     "text": [
      "(200, 100) 2\n"
     ]
    },
    {
     "data": {
      "text/plain": [
       "((200, 100, 1), 3)"
      ]
     },
     "execution_count": 7,
     "metadata": {},
     "output_type": "execute_result"
    }
   ],
   "source": [
    "## - 채널 차원을 추가하기 => 방법2) np.newaxis 함수아님\n",
    "print(data.shape, data.ndim)\n",
    "\n",
    "data3 = data[:, :, np.newaxis]\n",
    "data3.shape, data3.ndim"
   ]
  },
  {
   "cell_type": "code",
   "execution_count": 8,
   "metadata": {},
   "outputs": [
    {
     "data": {
      "text/plain": [
       "((200, 1, 100), 3)"
      ]
     },
     "execution_count": 8,
     "metadata": {},
     "output_type": "execute_result"
    }
   ],
   "source": [
    "data4= data[:, np.newaxis, :]\n",
    "data4.shape, data4.ndim"
   ]
  },
  {
   "cell_type": "code",
   "execution_count": 9,
   "metadata": {},
   "outputs": [
    {
     "name": "stdout",
     "output_type": "stream",
     "text": [
      "<class 'numpy.ndarray'> (200, 100) 2\n"
     ]
    },
    {
     "data": {
      "text/plain": [
       "torch.Size([200, 100])"
      ]
     },
     "execution_count": 9,
     "metadata": {},
     "output_type": "execute_result"
    }
   ],
   "source": [
    "## ----------------------------------------------------------------------------\n",
    "## Pytorch 기반\n",
    "## ----------------------------------------------------------------------------\n",
    "print(type(data), data.shape, data.ndim)\n",
    "\n",
    "dataTS=torch.IntTensor(data)\n",
    "dataTS.shape"
   ]
  },
  {
   "cell_type": "code",
   "execution_count": 10,
   "metadata": {},
   "outputs": [
    {
     "data": {
      "text/plain": [
       "tensor([[7, 7, 7,  ..., 7, 7, 7],\n",
       "        [7, 7, 7,  ..., 7, 7, 7],\n",
       "        [7, 7, 7,  ..., 7, 7, 7],\n",
       "        ...,\n",
       "        [7, 7, 7,  ..., 7, 7, 7],\n",
       "        [7, 7, 7,  ..., 7, 7, 7],\n",
       "        [7, 7, 7,  ..., 7, 7, 7]], dtype=torch.int32)"
      ]
     },
     "execution_count": 10,
     "metadata": {},
     "output_type": "execute_result"
    }
   ],
   "source": [
    "dataTS #[  [7*100]*200   ]"
   ]
  },
  {
   "cell_type": "code",
   "execution_count": 11,
   "metadata": {},
   "outputs": [
    {
     "data": {
      "text/plain": [
       "torch.Size([200, 100, 1])"
      ]
     },
     "execution_count": 11,
     "metadata": {},
     "output_type": "execute_result"
    }
   ],
   "source": [
    "## 채널 차원을 추가하기 => 방법 1)\n",
    "dataTS1 = dataTS.reshape((200,100,1))\n",
    "dataTS1.shape"
   ]
  },
  {
   "cell_type": "code",
   "execution_count": 12,
   "metadata": {},
   "outputs": [
    {
     "data": {
      "text/plain": [
       "torch.Size([1, 200, 100])"
      ]
     },
     "execution_count": 12,
     "metadata": {},
     "output_type": "execute_result"
    }
   ],
   "source": [
    "## - 채널 차원을 추가하기 => 방법 2) unsqueeze(dim=숫자)\n",
    "dataTS2 = dataTS.unsqueeze(dim=0)\n",
    "dataTS2.shape"
   ]
  },
  {
   "cell_type": "code",
   "execution_count": 13,
   "metadata": {},
   "outputs": [
    {
     "data": {
      "text/plain": [
       "tensor([[[7, 7, 7,  ..., 7, 7, 7],\n",
       "         [7, 7, 7,  ..., 7, 7, 7],\n",
       "         [7, 7, 7,  ..., 7, 7, 7],\n",
       "         ...,\n",
       "         [7, 7, 7,  ..., 7, 7, 7],\n",
       "         [7, 7, 7,  ..., 7, 7, 7],\n",
       "         [7, 7, 7,  ..., 7, 7, 7]]], dtype=torch.int32)"
      ]
     },
     "execution_count": 13,
     "metadata": {},
     "output_type": "execute_result"
    }
   ],
   "source": [
    "dataTS2"
   ]
  },
  {
   "cell_type": "code",
   "execution_count": 14,
   "metadata": {},
   "outputs": [
    {
     "data": {
      "text/plain": [
       "torch.Size([200, 100, 1])"
      ]
     },
     "execution_count": 14,
     "metadata": {},
     "output_type": "execute_result"
    }
   ],
   "source": [
    "dataTS2 = dataTS.unsqueeze(dim=2)\n",
    "dataTS2.shape"
   ]
  },
  {
   "cell_type": "code",
   "execution_count": 15,
   "metadata": {},
   "outputs": [
    {
     "data": {
      "text/plain": [
       "tensor([[[7],\n",
       "         [7],\n",
       "         [7],\n",
       "         ...,\n",
       "         [7],\n",
       "         [7],\n",
       "         [7]],\n",
       "\n",
       "        [[7],\n",
       "         [7],\n",
       "         [7],\n",
       "         ...,\n",
       "         [7],\n",
       "         [7],\n",
       "         [7]],\n",
       "\n",
       "        [[7],\n",
       "         [7],\n",
       "         [7],\n",
       "         ...,\n",
       "         [7],\n",
       "         [7],\n",
       "         [7]],\n",
       "\n",
       "        ...,\n",
       "\n",
       "        [[7],\n",
       "         [7],\n",
       "         [7],\n",
       "         ...,\n",
       "         [7],\n",
       "         [7],\n",
       "         [7]],\n",
       "\n",
       "        [[7],\n",
       "         [7],\n",
       "         [7],\n",
       "         ...,\n",
       "         [7],\n",
       "         [7],\n",
       "         [7]],\n",
       "\n",
       "        [[7],\n",
       "         [7],\n",
       "         [7],\n",
       "         ...,\n",
       "         [7],\n",
       "         [7],\n",
       "         [7]]], dtype=torch.int32)"
      ]
     },
     "execution_count": 15,
     "metadata": {},
     "output_type": "execute_result"
    }
   ],
   "source": [
    "dataTS2"
   ]
  },
  {
   "cell_type": "markdown",
   "metadata": {},
   "source": [
    "- [shape 변경] <hr>\n",
    "    - Numpy 경우: T속성, transpose()\n",
    "    - Pytorch 경우 : T속성, transpose(), permute()"
   ]
  },
  {
   "cell_type": "code",
   "execution_count": 16,
   "metadata": {},
   "outputs": [
    {
     "name": "stdout",
     "output_type": "stream",
     "text": [
      "torch.Size([200, 100, 1])\n",
      "torch.Size([200, 100, 1, 1])\n"
     ]
    }
   ],
   "source": [
    "## - shape 변경 => 방법 1) 속성 T : 현재 axis를 역순으로 변경\n",
    "print(dataTS2.shape)\n",
    "dataTS3=dataTS2.unsqueeze(dim=3)\n",
    "print(dataTS3.shape)"
   ]
  },
  {
   "cell_type": "code",
   "execution_count": 17,
   "metadata": {},
   "outputs": [
    {
     "name": "stdout",
     "output_type": "stream",
     "text": [
      "2D =>  torch.Size([100, 200])\n",
      "3D =>  torch.Size([1, 100, 200])\n",
      "4D =>  torch.Size([1, 1, 100, 200])\n"
     ]
    },
    {
     "name": "stderr",
     "output_type": "stream",
     "text": [
      "C:\\Users\\KDP-27\\AppData\\Local\\Temp\\ipykernel_16404\\1831031371.py:2: UserWarning: The use of `x.T` on tensors of dimension other than 2 to reverse their shape is deprecated and it will throw an error in a future release. Consider `x.mT` to transpose batches of matrices or `x.permute(*torch.arange(x.ndim - 1, -1, -1))` to reverse the dimensions of a tensor. (Triggered internally at C:\\cb\\pytorch_1000000000000\\work\\aten\\src\\ATen\\native\\TensorShape.cpp:3701.)\n",
      "  print(\"3D => \", dataTS2.T.shape)\n"
     ]
    }
   ],
   "source": [
    "print(\"2D => \", dataTS.T.shape)\n",
    "print(\"3D => \", dataTS2.T.shape)\n",
    "print(\"4D => \", dataTS3.T.shape)"
   ]
  },
  {
   "cell_type": "code",
   "execution_count": 18,
   "metadata": {},
   "outputs": [
    {
     "name": "stdout",
     "output_type": "stream",
     "text": [
      "torch.Size([200, 100])\n",
      "torch.Size([200, 100, 1])\n",
      "torch.Size([200, 100, 1, 1])\n"
     ]
    }
   ],
   "source": [
    "## - shape 변경 => 방법 2)  transpose() : 2개의 축 원하는 축 위치로 변경\n",
    "print(dataTS.shape)\n",
    "print(dataTS2.shape)\n",
    "print(dataTS3.shape)"
   ]
  },
  {
   "cell_type": "code",
   "execution_count": 19,
   "metadata": {},
   "outputs": [
    {
     "name": "stdout",
     "output_type": "stream",
     "text": [
      "torch.Size([200, 1, 100])\n",
      "torch.Size([200, 1, 1, 100])\n"
     ]
    }
   ],
   "source": [
    "print(dataTS2.transpose(1,2).shape) # [1] 이었던 100이 [2]였던 1이 1자리로 # 2개의 인덱스의 자리리를 맞바꿈\n",
    "print(dataTS3.transpose(1,3).shape)"
   ]
  },
  {
   "cell_type": "code",
   "execution_count": 20,
   "metadata": {},
   "outputs": [
    {
     "name": "stdout",
     "output_type": "stream",
     "text": [
      "dataTS : torch.Size([200, 100])\n",
      "dataTS2 : torch.Size([200, 100, 1])\n",
      "dataTS3 : torch.Size([200, 100, 1, 1])\n"
     ]
    }
   ],
   "source": [
    "## - shape 변경 => 방법 3)  transpose() : 2개의 축 원하는 축 위치로 변경\n",
    "print('dataTS :', dataTS.shape)\n",
    "print('dataTS2 :', dataTS2.shape)\n",
    "print('dataTS3 :', dataTS3.shape)"
   ]
  },
  {
   "cell_type": "code",
   "execution_count": 21,
   "metadata": {},
   "outputs": [
    {
     "name": "stdout",
     "output_type": "stream",
     "text": [
      "torch.Size([1, 200, 100])\n",
      "torch.Size([100, 200, 1, 1])\n"
     ]
    }
   ],
   "source": [
    "print(dataTS2.permute((2,0,1)).shape)  # 전 인덱스를 지금 원하는 자리로\n",
    "print(dataTS3.permute((1,0,3,2)).shape) "
   ]
  },
  {
   "cell_type": "markdown",
   "metadata": {},
   "source": [
    "- [차원 제거] <hr>\n",
    "    - 원소의 수가 바뀌면 안되기 때문에 1차원에서\n",
    "    - Numpy 경우: reshape(), squeeze()\n",
    "    - Pytorch 경우 : reshape(), squeeze()"
   ]
  },
  {
   "cell_type": "code",
   "execution_count": 22,
   "metadata": {},
   "outputs": [
    {
     "name": "stdout",
     "output_type": "stream",
     "text": [
      "(200, 100, 1)\n",
      "(200, 1, 100, 1)\n"
     ]
    }
   ],
   "source": [
    "### -----------------------------------------------------\n",
    "### Numpy 경우\n",
    "### -----------------------------------------------------\n",
    "\n",
    "data2 = np.expand_dims(data, axis=2)\n",
    "data3 = np.expand_dims(data2, axis=1)\n",
    "\n",
    "print(data2.shape)\n",
    "print(data3.shape)"
   ]
  },
  {
   "cell_type": "code",
   "execution_count": 23,
   "metadata": {},
   "outputs": [
    {
     "name": "stdout",
     "output_type": "stream",
     "text": [
      "(200, 100)\n",
      "(200, 100)\n"
     ]
    }
   ],
   "source": [
    "# 1차원 축 제거\n",
    "print(data2.reshape(200, -1).shape)\n",
    "print(data3.reshape(200, -1).shape)"
   ]
  },
  {
   "cell_type": "code",
   "execution_count": 24,
   "metadata": {},
   "outputs": [
    {
     "name": "stdout",
     "output_type": "stream",
     "text": [
      "(200, 100)\n",
      "(200, 100)\n",
      "(200, 1, 100, 1)\n",
      "(200, 100, 1)\n"
     ]
    }
   ],
   "source": [
    "# 1차원 축 제거 => 방법2) squeeze() : 1차원인 축들을 모두 제거\n",
    "print(data2.squeeze().shape)\n",
    "print(data3.squeeze().shape)\n",
    "print(data3.shape)\n",
    "print(data3.squeeze(axis=1).shape) # => 1번 축이 1차원이면 제거하라 ##axis지정하면 그 axis.shape이 1차원이면 제거\n",
    "# 지정된 축이 1D면 삭제, 아니면 ERROR"
   ]
  },
  {
   "cell_type": "code",
   "execution_count": 25,
   "metadata": {},
   "outputs": [
    {
     "data": {
      "text/plain": [
       "array([[[[7],\n",
       "         [7],\n",
       "         [7],\n",
       "         ...,\n",
       "         [7],\n",
       "         [7],\n",
       "         [7]]],\n",
       "\n",
       "\n",
       "       [[[7],\n",
       "         [7],\n",
       "         [7],\n",
       "         ...,\n",
       "         [7],\n",
       "         [7],\n",
       "         [7]]],\n",
       "\n",
       "\n",
       "       [[[7],\n",
       "         [7],\n",
       "         [7],\n",
       "         ...,\n",
       "         [7],\n",
       "         [7],\n",
       "         [7]]],\n",
       "\n",
       "\n",
       "       ...,\n",
       "\n",
       "\n",
       "       [[[7],\n",
       "         [7],\n",
       "         [7],\n",
       "         ...,\n",
       "         [7],\n",
       "         [7],\n",
       "         [7]]],\n",
       "\n",
       "\n",
       "       [[[7],\n",
       "         [7],\n",
       "         [7],\n",
       "         ...,\n",
       "         [7],\n",
       "         [7],\n",
       "         [7]]],\n",
       "\n",
       "\n",
       "       [[[7],\n",
       "         [7],\n",
       "         [7],\n",
       "         ...,\n",
       "         [7],\n",
       "         [7],\n",
       "         [7]]]])"
      ]
     },
     "execution_count": 25,
     "metadata": {},
     "output_type": "execute_result"
    }
   ],
   "source": [
    "data3"
   ]
  },
  {
   "cell_type": "code",
   "execution_count": 26,
   "metadata": {},
   "outputs": [
    {
     "name": "stdout",
     "output_type": "stream",
     "text": [
      "torch.Size([200, 100, 1])\n",
      "torch.Size([200, 1, 100, 1])\n"
     ]
    }
   ],
   "source": [
    "### -----------------------------------------------------\n",
    "### Pytorch 경우\n",
    "### -----------------------------------------------------\n",
    "\n",
    "data2 = np.expand_dims(data, axis=2)\n",
    "data3 = np.expand_dims(data2, axis=1)\n",
    "\n",
    "dataTS2=torch.IntTensor(data2)\n",
    "dataTS3=torch.IntTensor(data3)\n",
    "\n",
    "print(dataTS2.shape)\n",
    "print(dataTS3.shape)"
   ]
  },
  {
   "cell_type": "code",
   "execution_count": 27,
   "metadata": {},
   "outputs": [
    {
     "name": "stdout",
     "output_type": "stream",
     "text": [
      "torch.Size([200, 100])\n",
      "torch.Size([200, 100])\n"
     ]
    }
   ],
   "source": [
    "# 1차원 축 제거 => 방법1) reshape()\n",
    "print(dataTS2.reshape(200, -1).shape)\n",
    "print(dataTS3.reshape(200, -1).shape)"
   ]
  },
  {
   "cell_type": "code",
   "execution_count": 28,
   "metadata": {},
   "outputs": [
    {
     "name": "stdout",
     "output_type": "stream",
     "text": [
      "torch.Size([200, 100])\n",
      "torch.Size([200, 100])\n",
      "torch.Size([200, 100, 1])\n",
      "torch.Size([200, 1, 100, 1])\n"
     ]
    }
   ],
   "source": [
    "# 1차원 축 제거 => 방법2) squeeze()\n",
    "print(dataTS2.squeeze().shape)\n",
    "print(dataTS3.squeeze().shape)\n",
    "print(dataTS3.squeeze(dim=1).shape)\n",
    "print(dataTS3.squeeze(dim=0).shape) # 0이 1차원이 아니여도 ERROR가 안남. 그냥 안지우는 것뿐"
   ]
  },
  {
   "cell_type": "code",
   "execution_count": 29,
   "metadata": {},
   "outputs": [
    {
     "name": "stdout",
     "output_type": "stream",
     "text": [
      "torch.Size([200, 100, 1])\n"
     ]
    }
   ],
   "source": [
    "### Pytorch에서 메서드의 경우 메서드명_() : 원본 텐서에 적용 즉, pandas dml inplace =True 와 동일\n",
    "print(dataTS3.squeeze_(dim=1).shape) # 끝에 _이거 있는 것들: PANDAS의 in_place 매개변수와 같음 : 원본에 적용시킴"
   ]
  },
  {
   "cell_type": "code",
   "execution_count": 30,
   "metadata": {},
   "outputs": [
    {
     "data": {
      "text/plain": [
       "torch.Size([200, 100, 1])"
      ]
     },
     "execution_count": 30,
     "metadata": {},
     "output_type": "execute_result"
    }
   ],
   "source": [
    "dataTS3.shape"
   ]
  },
  {
   "cell_type": "code",
   "execution_count": 31,
   "metadata": {},
   "outputs": [
    {
     "data": {
      "text/plain": [
       "tensor([7, 7, 7,  ..., 7, 7, 7], dtype=torch.int32)"
      ]
     },
     "execution_count": 31,
     "metadata": {},
     "output_type": "execute_result"
    }
   ],
   "source": [
    "dataTS3.reshape(-1) # 이러면 다 1차원됨 \n",
    " "
   ]
  },
  {
   "cell_type": "code",
   "execution_count": null,
   "metadata": {},
   "outputs": [],
   "source": []
  }
 ],
 "metadata": {
  "kernelspec": {
   "display_name": "TORCH_CV_38",
   "language": "python",
   "name": "python3"
  },
  "language_info": {
   "codemirror_mode": {
    "name": "ipython",
    "version": 3
   },
   "file_extension": ".py",
   "mimetype": "text/x-python",
   "name": "python",
   "nbconvert_exporter": "python",
   "pygments_lexer": "ipython3",
   "version": "3.8.19"
  }
 },
 "nbformat": 4,
 "nbformat_minor": 2
}
