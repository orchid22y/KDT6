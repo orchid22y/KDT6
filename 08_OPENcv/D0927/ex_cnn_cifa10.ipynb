{
 "cells": [
  {
   "cell_type": "markdown",
   "metadata": {},
   "source": [
    "#### CNN 이미지 분류 모델 \n",
    "- 이미지 데이터셋 준비 \n",
    "    - torchvision 의 내장 데이터셋 활용 CIFA10\n",
    "- 이미지 분류 모델\n",
    "    - 커스텀 CNN 구현\n"
   ]
  },
  {
   "cell_type": "markdown",
   "metadata": {},
   "source": [
    "[1] 모듈 로딩 및 데이터 준비 <hr>"
   ]
  },
  {
   "cell_type": "code",
   "execution_count": 12,
   "metadata": {},
   "outputs": [],
   "source": [
    "## 모듈로딩 \n",
    "import torch\n",
    "import torch.nn\n",
    "from torchvision.datasets import CIFAR10       # torchvision 내장 데이터셋 관련 모듈\n",
    "from torchvision.transforms import ToTensor    # torchvision 데이터 변환 관련 모듈\n",
    "from torch.utils.data import DataLoader        # 데이터셋 관련 모듈 로딩"
   ]
  },
  {
   "cell_type": "code",
   "execution_count": 4,
   "metadata": {},
   "outputs": [
    {
     "name": "stdout",
     "output_type": "stream",
     "text": [
      "Downloading https://www.cs.toronto.edu/~kriz/cifar-10-python.tar.gz to ../data/cifar-10-python.tar.gz\n"
     ]
    },
    {
     "name": "stderr",
     "output_type": "stream",
     "text": [
      "100.0%\n"
     ]
    },
    {
     "name": "stdout",
     "output_type": "stream",
     "text": [
      "Extracting ../data/cifar-10-python.tar.gz to ../data/\n"
     ]
    }
   ],
   "source": [
    "## 데이터로딩\n",
    "DIR_PATH = '../data/'\n",
    "\n",
    "## Pytorch의 Dataset 형태 로딩\n",
    "cifarDS = CIFAR10(DIR_PATH, \n",
    "                  train=True, \n",
    "                  download=True, \n",
    "                  transform=ToTensor())"
   ]
  },
  {
   "cell_type": "code",
   "execution_count": 5,
   "metadata": {},
   "outputs": [
    {
     "data": {
      "text/plain": [
       "torchvision.datasets.cifar.CIFAR10"
      ]
     },
     "execution_count": 5,
     "metadata": {},
     "output_type": "execute_result"
    }
   ],
   "source": [
    "type(cifarDS)"
   ]
  },
  {
   "cell_type": "code",
   "execution_count": 11,
   "metadata": {},
   "outputs": [
    {
     "name": "stdout",
     "output_type": "stream",
     "text": [
      "Classes : ['airplane', 'automobile', 'bird', 'cat', 'deer', 'dog', 'frog', 'horse', 'ship', 'truck']\n",
      "cifarDS.class_to_idx: {'airplane': 0, 'automobile': 1, 'bird': 2, 'cat': 3, 'deer': 4, 'dog': 5, 'frog': 6, 'horse': 7, 'ship': 8, 'truck': 9}\n",
      "cifarDS.data.shape: (50000, 32, 32, 3)\n",
      " len(cifarDS.targets) : 50000\n"
     ]
    }
   ],
   "source": [
    "# Dataset의 속성 확인\n",
    "print(f'Classes : {cifarDS.classes}')\n",
    "\n",
    "print(f'cifarDS.class_to_idx: {cifarDS.class_to_idx}')\n",
    "\n",
    "# print(f'Classes : {cifarDS}')\n",
    "\n",
    "print(f'cifarDS.data.shape: {cifarDS.data.shape}')\n",
    "\n",
    "print(f' len(cifarDS.targets) : {len(cifarDS.targets)}')"
   ]
  },
  {
   "cell_type": "code",
   "execution_count": 10,
   "metadata": {},
   "outputs": [
    {
     "data": {
      "text/plain": [
       "array([[[[ 59,  62,  63],\n",
       "         [ 43,  46,  45],\n",
       "         [ 50,  48,  43],\n",
       "         ...,\n",
       "         [158, 132, 108],\n",
       "         [152, 125, 102],\n",
       "         [148, 124, 103]],\n",
       "\n",
       "        [[ 16,  20,  20],\n",
       "         [  0,   0,   0],\n",
       "         [ 18,   8,   0],\n",
       "         ...,\n",
       "         [123,  88,  55],\n",
       "         [119,  83,  50],\n",
       "         [122,  87,  57]],\n",
       "\n",
       "        [[ 25,  24,  21],\n",
       "         [ 16,   7,   0],\n",
       "         [ 49,  27,   8],\n",
       "         ...,\n",
       "         [118,  84,  50],\n",
       "         [120,  84,  50],\n",
       "         [109,  73,  42]],\n",
       "\n",
       "        ...,\n",
       "\n",
       "        [[208, 170,  96],\n",
       "         [201, 153,  34],\n",
       "         [198, 161,  26],\n",
       "         ...,\n",
       "         [160, 133,  70],\n",
       "         [ 56,  31,   7],\n",
       "         [ 53,  34,  20]],\n",
       "\n",
       "        [[180, 139,  96],\n",
       "         [173, 123,  42],\n",
       "         [186, 144,  30],\n",
       "         ...,\n",
       "         [184, 148,  94],\n",
       "         [ 97,  62,  34],\n",
       "         [ 83,  53,  34]],\n",
       "\n",
       "        [[177, 144, 116],\n",
       "         [168, 129,  94],\n",
       "         [179, 142,  87],\n",
       "         ...,\n",
       "         [216, 184, 140],\n",
       "         [151, 118,  84],\n",
       "         [123,  92,  72]]],\n",
       "\n",
       "\n",
       "       [[[154, 177, 187],\n",
       "         [126, 137, 136],\n",
       "         [105, 104,  95],\n",
       "         ...,\n",
       "         [ 91,  95,  71],\n",
       "         [ 87,  90,  71],\n",
       "         [ 79,  81,  70]],\n",
       "\n",
       "        [[140, 160, 169],\n",
       "         [145, 153, 154],\n",
       "         [125, 125, 118],\n",
       "         ...,\n",
       "         [ 96,  99,  78],\n",
       "         [ 77,  80,  62],\n",
       "         [ 71,  73,  61]],\n",
       "\n",
       "        [[140, 155, 164],\n",
       "         [139, 146, 149],\n",
       "         [115, 115, 112],\n",
       "         ...,\n",
       "         [ 79,  82,  64],\n",
       "         [ 68,  70,  55],\n",
       "         [ 67,  69,  55]],\n",
       "\n",
       "        ...,\n",
       "\n",
       "        [[175, 167, 166],\n",
       "         [156, 154, 160],\n",
       "         [154, 160, 170],\n",
       "         ...,\n",
       "         [ 42,  34,  36],\n",
       "         [ 61,  53,  57],\n",
       "         [ 93,  83,  91]],\n",
       "\n",
       "        [[165, 154, 128],\n",
       "         [156, 152, 130],\n",
       "         [159, 161, 142],\n",
       "         ...,\n",
       "         [103,  93,  96],\n",
       "         [123, 114, 120],\n",
       "         [131, 121, 131]],\n",
       "\n",
       "        [[163, 148, 120],\n",
       "         [158, 148, 122],\n",
       "         [163, 156, 133],\n",
       "         ...,\n",
       "         [143, 133, 139],\n",
       "         [143, 134, 142],\n",
       "         [143, 133, 144]]],\n",
       "\n",
       "\n",
       "       [[[255, 255, 255],\n",
       "         [253, 253, 253],\n",
       "         [253, 253, 253],\n",
       "         ...,\n",
       "         [253, 253, 253],\n",
       "         [253, 253, 253],\n",
       "         [253, 253, 253]],\n",
       "\n",
       "        [[255, 255, 255],\n",
       "         [255, 255, 255],\n",
       "         [255, 255, 255],\n",
       "         ...,\n",
       "         [255, 255, 255],\n",
       "         [255, 255, 255],\n",
       "         [255, 255, 255]],\n",
       "\n",
       "        [[255, 255, 255],\n",
       "         [254, 254, 254],\n",
       "         [254, 254, 254],\n",
       "         ...,\n",
       "         [254, 254, 254],\n",
       "         [254, 254, 254],\n",
       "         [254, 254, 254]],\n",
       "\n",
       "        ...,\n",
       "\n",
       "        [[113, 120, 112],\n",
       "         [111, 118, 111],\n",
       "         [105, 112, 106],\n",
       "         ...,\n",
       "         [ 72,  81,  80],\n",
       "         [ 72,  80,  79],\n",
       "         [ 72,  80,  79]],\n",
       "\n",
       "        [[111, 118, 110],\n",
       "         [104, 111, 104],\n",
       "         [ 99, 106,  98],\n",
       "         ...,\n",
       "         [ 68,  75,  73],\n",
       "         [ 70,  76,  75],\n",
       "         [ 78,  84,  82]],\n",
       "\n",
       "        [[106, 113, 105],\n",
       "         [ 99, 106,  98],\n",
       "         [ 95, 102,  94],\n",
       "         ...,\n",
       "         [ 78,  85,  83],\n",
       "         [ 79,  85,  83],\n",
       "         [ 80,  86,  84]]],\n",
       "\n",
       "\n",
       "       ...,\n",
       "\n",
       "\n",
       "       [[[ 35, 178, 235],\n",
       "         [ 40, 176, 239],\n",
       "         [ 42, 176, 241],\n",
       "         ...,\n",
       "         [ 99, 177, 219],\n",
       "         [ 79, 147, 197],\n",
       "         [ 89, 148, 189]],\n",
       "\n",
       "        [[ 57, 182, 234],\n",
       "         [ 44, 184, 250],\n",
       "         [ 50, 183, 240],\n",
       "         ...,\n",
       "         [156, 182, 200],\n",
       "         [141, 177, 206],\n",
       "         [116, 149, 175]],\n",
       "\n",
       "        [[ 98, 197, 237],\n",
       "         [ 64, 189, 252],\n",
       "         [ 69, 192, 245],\n",
       "         ...,\n",
       "         [188, 195, 206],\n",
       "         [119, 135, 147],\n",
       "         [ 61,  79,  90]],\n",
       "\n",
       "        ...,\n",
       "\n",
       "        [[ 73,  79,  77],\n",
       "         [ 53,  63,  68],\n",
       "         [ 54,  68,  80],\n",
       "         ...,\n",
       "         [ 17,  40,  64],\n",
       "         [ 21,  36,  51],\n",
       "         [ 33,  48,  49]],\n",
       "\n",
       "        [[ 61,  68,  75],\n",
       "         [ 55,  70,  86],\n",
       "         [ 57,  79, 103],\n",
       "         ...,\n",
       "         [ 24,  48,  72],\n",
       "         [ 17,  35,  53],\n",
       "         [  7,  23,  32]],\n",
       "\n",
       "        [[ 44,  56,  73],\n",
       "         [ 46,  66,  88],\n",
       "         [ 49,  77, 105],\n",
       "         ...,\n",
       "         [ 27,  52,  77],\n",
       "         [ 21,  43,  66],\n",
       "         [ 12,  31,  50]]],\n",
       "\n",
       "\n",
       "       [[[189, 211, 240],\n",
       "         [186, 208, 236],\n",
       "         [185, 207, 235],\n",
       "         ...,\n",
       "         [175, 195, 224],\n",
       "         [172, 194, 222],\n",
       "         [169, 194, 220]],\n",
       "\n",
       "        [[194, 210, 239],\n",
       "         [191, 207, 236],\n",
       "         [190, 206, 235],\n",
       "         ...,\n",
       "         [173, 192, 220],\n",
       "         [171, 191, 218],\n",
       "         [167, 190, 216]],\n",
       "\n",
       "        [[208, 219, 244],\n",
       "         [205, 216, 240],\n",
       "         [204, 215, 239],\n",
       "         ...,\n",
       "         [175, 191, 217],\n",
       "         [172, 190, 216],\n",
       "         [169, 191, 215]],\n",
       "\n",
       "        ...,\n",
       "\n",
       "        [[207, 199, 181],\n",
       "         [203, 195, 175],\n",
       "         [203, 196, 173],\n",
       "         ...,\n",
       "         [135, 132, 127],\n",
       "         [162, 158, 150],\n",
       "         [168, 163, 151]],\n",
       "\n",
       "        [[198, 190, 170],\n",
       "         [189, 181, 159],\n",
       "         [180, 172, 147],\n",
       "         ...,\n",
       "         [178, 171, 160],\n",
       "         [175, 169, 156],\n",
       "         [175, 169, 154]],\n",
       "\n",
       "        [[198, 189, 173],\n",
       "         [189, 181, 162],\n",
       "         [178, 170, 149],\n",
       "         ...,\n",
       "         [195, 184, 169],\n",
       "         [196, 189, 171],\n",
       "         [195, 190, 171]]],\n",
       "\n",
       "\n",
       "       [[[229, 229, 239],\n",
       "         [236, 237, 247],\n",
       "         [234, 236, 247],\n",
       "         ...,\n",
       "         [217, 219, 233],\n",
       "         [221, 223, 234],\n",
       "         [222, 223, 233]],\n",
       "\n",
       "        [[222, 221, 229],\n",
       "         [239, 239, 249],\n",
       "         [233, 234, 246],\n",
       "         ...,\n",
       "         [223, 223, 236],\n",
       "         [227, 228, 238],\n",
       "         [210, 211, 220]],\n",
       "\n",
       "        [[213, 206, 211],\n",
       "         [234, 232, 239],\n",
       "         [231, 233, 244],\n",
       "         ...,\n",
       "         [220, 220, 232],\n",
       "         [220, 219, 232],\n",
       "         [202, 203, 215]],\n",
       "\n",
       "        ...,\n",
       "\n",
       "        [[150, 143, 135],\n",
       "         [140, 135, 127],\n",
       "         [132, 127, 120],\n",
       "         ...,\n",
       "         [224, 222, 218],\n",
       "         [230, 228, 225],\n",
       "         [241, 241, 238]],\n",
       "\n",
       "        [[137, 132, 126],\n",
       "         [130, 127, 120],\n",
       "         [125, 121, 115],\n",
       "         ...,\n",
       "         [181, 180, 178],\n",
       "         [202, 201, 198],\n",
       "         [212, 211, 207]],\n",
       "\n",
       "        [[122, 119, 114],\n",
       "         [118, 116, 110],\n",
       "         [120, 116, 111],\n",
       "         ...,\n",
       "         [179, 177, 173],\n",
       "         [164, 164, 162],\n",
       "         [163, 163, 161]]]], dtype=uint8)"
      ]
     },
     "execution_count": 10,
     "metadata": {},
     "output_type": "execute_result"
    }
   ],
   "source": [
    "cifarDS.data"
   ]
  },
  {
   "cell_type": "markdown",
   "metadata": {},
   "source": [
    "[2] 데이터 로더 <hr>\n",
    "- 학습 시 배치크기만큼 데이터와 라벨/타겟을 로딩"
   ]
  },
  {
   "cell_type": "code",
   "execution_count": 13,
   "metadata": {},
   "outputs": [],
   "source": [
    "BATCH_SIZE = 50\n",
    "\n",
    "cifar10DL = DataLoader(cifarDS)"
   ]
  },
  {
   "cell_type": "code",
   "execution_count": 14,
   "metadata": {},
   "outputs": [
    {
     "data": {
      "text/plain": [
       "<torch.utils.data.dataloader.DataLoader at 0x1f03f0d4880>"
      ]
     },
     "execution_count": 14,
     "metadata": {},
     "output_type": "execute_result"
    }
   ],
   "source": [
    "cifar10DL"
   ]
  },
  {
   "cell_type": "code",
   "execution_count": 30,
   "metadata": {},
   "outputs": [
    {
     "name": "stdout",
     "output_type": "stream",
     "text": [
      "tensor([6])\n",
      "torch.Size([1, 3, 32, 32])\n",
      "(32, 32, 3)\n",
      "[[[0.23137255 0.16862746 0.19607843 ... 0.61960787 0.59607846 0.5803922 ]\n",
      "  [0.0627451  0.         0.07058824 ... 0.48235294 0.46666667 0.47843137]\n",
      "  [0.09803922 0.0627451  0.19215687 ... 0.4627451  0.47058824 0.42745098]\n",
      "  ...\n",
      "  [0.8156863  0.7882353  0.7764706  ... 0.627451   0.21960784 0.20784314]\n",
      "  [0.7058824  0.6784314  0.7294118  ... 0.72156864 0.38039216 0.3254902 ]\n",
      "  [0.69411767 0.65882355 0.7019608  ... 0.84705883 0.5921569  0.48235294]]\n",
      "\n",
      " [[0.24313726 0.18039216 0.1882353  ... 0.5176471  0.49019608 0.4862745 ]\n",
      "  [0.07843138 0.         0.03137255 ... 0.34509805 0.3254902  0.34117648]\n",
      "  [0.09411765 0.02745098 0.10588235 ... 0.32941177 0.32941177 0.28627452]\n",
      "  ...\n",
      "  [0.6666667  0.6        0.6313726  ... 0.52156866 0.12156863 0.13333334]\n",
      "  [0.54509807 0.48235294 0.5647059  ... 0.5803922  0.24313726 0.20784314]\n",
      "  [0.5647059  0.5058824  0.5568628  ... 0.72156864 0.4627451  0.36078432]]\n",
      "\n",
      " [[0.24705882 0.1764706  0.16862746 ... 0.42352942 0.4        0.40392157]\n",
      "  [0.07843138 0.         0.         ... 0.21568628 0.19607843 0.22352941]\n",
      "  [0.08235294 0.         0.03137255 ... 0.19607843 0.19607843 0.16470589]\n",
      "  ...\n",
      "  [0.3764706  0.13333334 0.10196079 ... 0.27450982 0.02745098 0.07843138]\n",
      "  [0.3764706  0.16470589 0.11764706 ... 0.36862746 0.13333334 0.13333334]\n",
      "  [0.45490196 0.36862746 0.34117648 ... 0.54901963 0.32941177 0.28235295]]]\n"
     ]
    }
   ],
   "source": [
    "for data, target in cifar10DL:\n",
    "    print(target)\n",
    "    print(data.shape)\n",
    "    data = data.numpy().squeeze()\n",
    "    print(data.T.shape)\n",
    "    print(data)\n",
    "    break"
   ]
  },
  {
   "cell_type": "markdown",
   "metadata": {},
   "source": [
    "- cifarDS.data.shape: (50000, 32, 32, 3)\n",
    "- cifar10D의 data.shape : torch.Size([1, 3, 32, 32]) \n",
    "    - channel이 앞으로 옴\n",
    "    - 이미지를 그리려면 1을 제거, 3(channel)을 뒤로 보내야함"
   ]
  },
  {
   "cell_type": "code",
   "execution_count": 31,
   "metadata": {},
   "outputs": [],
   "source": [
    "import matplotlib.pyplot as plt"
   ]
  },
  {
   "cell_type": "code",
   "execution_count": 33,
   "metadata": {},
   "outputs": [
    {
     "name": "stdout",
     "output_type": "stream",
     "text": [
      "tensor([6])\n",
      "torch.Size([1, 3, 32, 32])\n"
     ]
    },
    {
     "data": {
      "image/png": "[encoded data removed]",
      "text/plain": [
       "<Figure size 640x480 with 1 Axes>"
      ]
     },
     "metadata": {},
     "output_type": "display_data"
    }
   ],
   "source": [
    "## [테스트] Dataset & DataLoader\n",
    "for data, target in cifar10DL:\n",
    "    print(target)\n",
    "    print(data.shape)\n",
    "    data1 = data.squeeze()\n",
    "    plt.imshow(data1.transpose(0,2))\n",
    "    plt.title(cifarDS.classes[target.item()])\n",
    "\n",
    "    # print(data.T.shape)\n",
    "    # print(data)\n",
    "    break"
   ]
  },
  {
   "cell_type": "markdown",
   "metadata": {},
   "source": [
    "[3] 커스텀 모델 설계 및 정의 <hr>\n",
    "- 모델__목적 : 이미지 분류 모델\n",
    "- 학습__방법 : 지도학습 > 분류 > 다중분류 (10개)\n",
    "- 클래스이름 : ImageMCF\n",
    "- 클래스구조 : 특징추출부분 => CNN + 학습부분 FC\n",
    "- 부모클래스 : nn.Module"
   ]
  },
  {
   "cell_type": "code",
   "execution_count": 35,
   "metadata": {},
   "outputs": [],
   "source": [
    "import torch.nn as nn\n",
    "import torch.nn.functional as F"
   ]
  },
  {
   "cell_type": "code",
   "execution_count": 51,
   "metadata": {},
   "outputs": [],
   "source": [
    "# class ImageMCF(nn.Module):\n",
    "#     # 모델 구조 설계 즉, 생성자 메서드\n",
    "#     def __init__(self):\n",
    "#         # 부모 생성\n",
    "#         super.__init__()\n",
    "#         # 모델 층 구성\n",
    "#         # 특징 추출\n",
    "#         self.in_layer = nn.Conv2d(3, 10, 3)\n",
    "#         # in_channels=3, out_channels=10, kernel_size=3\n",
    "#         self.p_layer = nn.MaxPool2d(2, stride=2)\n",
    "#         # 학습 관련 층\n",
    "#         self.hd_layer = nn.Linear(10*15*15,50)\n",
    "#         self.out_layer = nn.Linear(50,10)\n",
    "\n",
    "\n",
    "#     # 전방향/순방향 학습 메서드\n",
    "#     def forward(self, input):\n",
    "#         output=self.in_layer(input) # nn.Conv2d()\n",
    "#         print(f'[output 1] {output.shape}')\n",
    "\n",
    "#         output=F.relu(output)\n",
    "#         print(f'[output 2] {output.shape}')\n",
    "\n",
    "#         output=self.p_layer(output) # nn.MaxPool2d()\n",
    "#         print(f'[output 3] {output.shape}')\n",
    "\n",
    "#         # 4D -> 2D (샘플수, 피쳐수)\n",
    "#         output=output.view(output.shape[0], -1)\n",
    "#         print(f'[output 4] {output.shape}')\n",
    "\n",
    "#         output=F.relu(self.hd_layer(output))\n",
    "#         print(f'[output 5] {output.shape}')\n",
    "\n",
    "#         output=self.out_layer(output)\n",
    "#         print(f'[output 6] {output.shape}')\n",
    "\n",
    "#         return output"
   ]
  },
  {
   "cell_type": "markdown",
   "metadata": {},
   "source": [
    "- [1,3,32,32] ->[1,10,30,30]\n",
    "- kernal 3 by 3 이 10장\n",
    "- [batch_size, channel, (32,32)] -> >[batch_size, 10장, (30,30)]"
   ]
  },
  {
   "cell_type": "markdown",
   "metadata": {},
   "source": [
    "[1,10,30,30] -> [1,10,15,15]"
   ]
  },
  {
   "cell_type": "markdown",
   "metadata": {},
   "source": [
    "cov2d(3,10,3) =>(color, filter/kernel/mask, )\n",
    "[50000(장수), 3(채널), 32(height), 32(width)]"
   ]
  },
  {
   "cell_type": "code",
   "execution_count": 53,
   "metadata": {},
   "outputs": [],
   "source": [
    "# class ImageMCF(nn.Module):\n",
    "#     # 모델 구조 설계 즉, 생성자 메서드 \n",
    "#     def __init__(self):\n",
    "#         # 부모 생성 \n",
    "#         super().__init__()\n",
    "#         # 모델 층 구성\n",
    "#         # 특징 추출 층\n",
    "#         self.in_layer=nn.Conv2d(3,10,3) # (컬러, 필터/커널/마스크, )\n",
    "#         self.p_layer=nn.MaxPool2d(2,stride=2)    # kernel 기본 2사용\n",
    "         \n",
    "#         # 학습 관련 층\n",
    "#         self.hd_layer=nn.Linear(10*15*15,50)\n",
    "#         self.out_layer=nn.Linear(50,10)\n",
    "\n",
    "    \n",
    "#     # 전방향/순방향 학습 메서드\n",
    "#     def forward(self, input):\n",
    "#         # 이미지 특징맵 추출\n",
    "#         output=self.in_layer(input)\n",
    "#         print(f'[output 1 ] {output.shape}')\n",
    "\n",
    "#         output=F.relu(output)\n",
    "#         print(f'[output 2] {output.shape}')\n",
    "\n",
    "#         output=self.p_layer =(output)\n",
    "#         print(f'[output 1 ] {output.shape}')\n",
    "\n",
    "#         # 4D -> 2D (샘플 수, 피쳐 수)\n",
    "#         output=output.view(output.shape[0], -1)\n",
    "#         print(f'[output4] {output.shape}')\n",
    "\n",
    "#         output=F.relu(self.hd_layer(output))\n",
    "#         print(f'[output 5] {output.shape}')\n",
    "    \n",
    "#         output=self.out_layer(output)\n",
    "#         print(f'[output 6] {output.shape}')\n",
    "\n",
    "#         return output\n",
    "    "
   ]
  },
  {
   "cell_type": "code",
   "execution_count": null,
   "metadata": {},
   "outputs": [],
   "source": [
    "class ImageMCF(nn.Module):\n",
    "    # 모델 구조 설계 즉, 생성자 메서드 \n",
    "    def __init__(self):\n",
    "        # 부모 생성 \n",
    "        super().__init__()\n",
    "        # 모델 층 구성\n",
    "        # 특징 추출 층\n",
    "        self.in_layer=nn.Conv2d(3,10,3) # (컬러, 필터/커널/마스크, )\n",
    "        self.in_layer=nn.Conv2d(10,50,3)\n",
    "        self.in_layer=nn.Conv2d(50,10,3)\n",
    "        self.p_layer=nn.MaxPool2d(2,stride=2)    # kernel 기본 2사용\n",
    "         \n",
    "        # 학습 관련 층\n",
    "        self.hd_layer=nn.Linear(10*15*15,50)\n",
    "        self.out_layer=nn.Linear(50,10)\n",
    "\n",
    "    \n",
    "    # 전방향/순방향 학습 메서드\n",
    "    def forward(self, input):\n",
    "        # 이미지 특징맵 추출\n",
    "        output=self.in_layer(input)\n",
    "        print(f'[output 1 ] {output.shape}')\n",
    "\n",
    "        output=F.relu(output)\n",
    "        print(f'[output 2] {output.shape}')\n",
    "\n",
    "        output=self.p_layer =(output)\n",
    "        print(f'[output 1 ] {output.shape}')\n",
    "\n",
    "        # 4D -> 2D (샘플 수, 피쳐 수)\n",
    "        output=output.view(output.shape[0], -1)\n",
    "        print(f'[output4] {output.shape}')\n",
    "\n",
    "        output=F.relu(self.hd_layer(output))\n",
    "        print(f'[output 5] {output.shape}')\n",
    "    \n",
    "        output=self.out_layer(output)\n",
    "        print(f'[output 6] {output.shape}')\n",
    "\n",
    "        return output\n",
    "    "
   ]
  },
  {
   "cell_type": "code",
   "execution_count": 60,
   "metadata": {},
   "outputs": [],
   "source": [
    "class ImageMCF2(nn.Module):\n",
    "    # 모델 구조 설계 즉, 생성자 메서드 \n",
    "    def __init__(self):\n",
    "        # 부모 생성 \n",
    "        super().__init__()\n",
    "        # 모델 층 구성\n",
    "        # 특징 추출 층\n",
    "        self.cnn_layer = nn.Sequential(\n",
    "            nn.Conv2d(3,10,3),\n",
    "            nn.ReLU(),\n",
    "            nn.MaxPool2d(2,stride=2)   \n",
    "        )\n",
    "        # 학습 관련 층\n",
    "        self.hd_layer=nn.Linear(10*15*15,50)\n",
    "        self.out_layer=nn.Linear(50,10)\n",
    "\n",
    "    \n",
    "    # 전방향/순방향 학습 메서드\n",
    "    def forward(self, input):\n",
    "        # 이미지 특징맵 추출\n",
    "        output=self.cnn_layer(input)\n",
    "        print(f'[cnn_layer output] {output.shape}')\n",
    "\n",
    "        # 4D -> 2D (샘플 수, 피쳐 수)\n",
    "        output=output.view(output.shape[0], -1)\n",
    "        print(f'[view output] {output.shape}')\n",
    "\n",
    "        output=F.relu(self.hd_layer(output))\n",
    "        print(f'[hd_layer output] {output.shape}')\n",
    "    \n",
    "        output=self.out_layer(output)\n",
    "        print(f'[out_layer output] {output.shape}')\n",
    "\n",
    "        return output\n",
    "    "
   ]
  },
  {
   "cell_type": "code",
   "execution_count": 65,
   "metadata": {},
   "outputs": [],
   "source": [
    "# 모델 인스턴스 생성\n",
    "m = ImageMCF2()"
   ]
  },
  {
   "cell_type": "code",
   "execution_count": 66,
   "metadata": {},
   "outputs": [],
   "source": [
    "## 모델 정보 출력 패키지 설치\n",
    "# %pip install torchinfo"
   ]
  },
  {
   "cell_type": "code",
   "execution_count": 67,
   "metadata": {},
   "outputs": [
    {
     "data": {
      "text/plain": [
       "=================================================================\n",
       "Layer (type:depth-idx)                   Param #\n",
       "=================================================================\n",
       "ImageMCF2                                --\n",
       "├─Sequential: 1-1                        --\n",
       "│    └─Conv2d: 2-1                       280\n",
       "│    └─ReLU: 2-2                         --\n",
       "│    └─MaxPool2d: 2-3                    --\n",
       "├─Linear: 1-2                            112,550\n",
       "├─Linear: 1-3                            510\n",
       "=================================================================\n",
       "Total params: 113,340\n",
       "Trainable params: 113,340\n",
       "Non-trainable params: 0\n",
       "================================================================="
      ]
     },
     "execution_count": 67,
     "metadata": {},
     "output_type": "execute_result"
    }
   ],
   "source": [
    "from torchinfo import summary\n",
    "summary(m)"
   ]
  },
  {
   "cell_type": "code",
   "execution_count": 68,
   "metadata": {},
   "outputs": [
    {
     "name": "stdout",
     "output_type": "stream",
     "text": [
      "[target] => tensor([6])\n",
      "torch.Size([1, 3, 32, 32])\n",
      "[cnn_layer output] torch.Size([1, 10, 15, 15])\n",
      "[view output] torch.Size([1, 2250])\n",
      "[hd_layer output] torch.Size([1, 50])\n",
      "[out_layer output] torch.Size([1, 10])\n",
      "pre=> tensor([8])\n"
     ]
    }
   ],
   "source": [
    "## [테스트] Dataset & DataLoader\n",
    "for data, target in cifar10DL:\n",
    "    print(f'[target] => {target}')\n",
    "    print(data.shape)\n",
    "    # 학습 \n",
    "    pre=m(data)\n",
    "    print(f'pre=> {pre.argmax(dim=1)}')\n",
    "    break"
   ]
  },
  {
   "cell_type": "code",
   "execution_count": 59,
   "metadata": {},
   "outputs": [
    {
     "name": "stdout",
     "output_type": "stream",
     "text": [
      "[in_layer.weight]\n",
      "torch.Size([10, 3, 3, 3])\n",
      "[in_layer.bias]\n",
      "torch.Size([10])\n",
      "[hd_layer.weight]\n",
      "torch.Size([50, 2250])\n",
      "[hd_layer.bias]\n",
      "torch.Size([50])\n",
      "[out_layer.weight]\n",
      "torch.Size([10, 50])\n",
      "[out_layer.bias]\n",
      "torch.Size([10])\n"
     ]
    }
   ],
   "source": [
    "# 모델 파라미터 확인\n",
    "for name, param in m.named_parameters():\n",
    "    print(f'[{name}]\\n{param.shape}')"
   ]
  },
  {
   "cell_type": "code",
   "execution_count": null,
   "metadata": {},
   "outputs": [],
   "source": []
  }
 ],
 "metadata": {
  "kernelspec": {
   "display_name": "TORCH_CV_38",
   "language": "python",
   "name": "python3"
  },
  "language_info": {
   "codemirror_mode": {
    "name": "ipython",
    "version": 3
   },
   "file_extension": ".py",
   "mimetype": "text/x-python",
   "name": "python",
   "nbconvert_exporter": "python",
   "pygments_lexer": "ipython3",
   "version": "3.8.19"
  }
 },
 "nbformat": 4,
 "nbformat_minor": 2
}
