{
 "cells": [
  {
   "cell_type": "markdown",
   "metadata": {},
   "source": [
    "##### torchvison 제공 이미지 전처리 관련 기능\n",
    "- torchvision.transforms 서브 모듈\n",
    "    * 이미지 크기 조절\n",
    "    * 이미지 정규화\n",
    "    * 이미지 자르기\n",
    "    * 이미지 회전 등등 다양한 기능 제공\n",
    "    * 이미지 데이터 타입 ==> Pillow Image"
   ]
  },
  {
   "cell_type": "markdown",
   "metadata": {},
   "source": [
    "- 모듈 로딩 및 데이터 설정 <hr>"
   ]
  },
  {
   "cell_type": "code",
   "execution_count": 28,
   "metadata": {},
   "outputs": [],
   "source": [
    "import cv2                          # ==> 이미지 데이터 ndarray\n",
    "from PIL import Image               # %pip install pillow ==> 이미지 데이터 JpegImage\n",
    "import numpy as np\n",
    "import matplotlib.pyplot as plt\n",
    "\n",
    "from torchvision.transforms import v2 #pytorch 지원 이미지 변환 관련 모듈\n",
    "import torch"
   ]
  },
  {
   "cell_type": "code",
   "execution_count": 29,
   "metadata": {},
   "outputs": [],
   "source": [
    "#%pip install pillow"
   ]
  },
  {
   "cell_type": "code",
   "execution_count": 30,
   "metadata": {},
   "outputs": [],
   "source": [
    "## 데이터 관련 설정\n",
    "IMG_PATH='../image/'\n",
    "IMG_FILE=IMG_PATH+'best.png'"
   ]
  },
  {
   "cell_type": "markdown",
   "metadata": {},
   "source": [
    "- openCV % pillow <hr>"
   ]
  },
  {
   "cell_type": "code",
   "execution_count": 31,
   "metadata": {},
   "outputs": [],
   "source": [
    "cv_img = cv2.imread(IMG_FILE)\n",
    "cv_img = cv2.cvtColor(cv_img, cv2.COLOR_BGR2RGB) # ==> BGR ==> RGB\n",
    "\n",
    "pil_img = Image.open(IMG_FILE)"
   ]
  },
  {
   "cell_type": "code",
   "execution_count": 32,
   "metadata": {},
   "outputs": [
    {
     "name": "stdout",
     "output_type": "stream",
     "text": [
      "type(cv_img) : <class 'numpy.ndarray'>\n",
      "type(pil_img) : <class 'PIL.PngImagePlugin.PngImageFile'>\n"
     ]
    }
   ],
   "source": [
    "print(f'type(cv_img) : {type(cv_img)}')\n",
    "print(f'type(pil_img) : {type(pil_img)}')"
   ]
  },
  {
   "cell_type": "markdown",
   "metadata": {},
   "source": [
    "- 인스턴스와 메서드 <hr>\n",
    "* 인스턴스(Instance) : 메모리(힙)에 존재하는(저장된) 데이터의 종류를 명시해서 부르는 용어\n",
    "    - 예) 정수 인스턴스, vgg인스턴스, 사람인스턴스\n",
    "\n",
    "* 속성(Attribute/Field) : 클래스가 가지는 특징, 외형, 내형, 성격\n",
    "* 메서드(METHOD) : 클래스가 가지는 기능, 역할 ==> 문법 구조는 함수와 동일"
   ]
  },
  {
   "cell_type": "code",
   "execution_count": 33,
   "metadata": {},
   "outputs": [
    {
     "ename": "SyntaxError",
     "evalue": "invalid syntax (3911897980.py, line 24)",
     "output_type": "error",
     "traceback": [
      "\u001b[1;36m  Cell \u001b[1;32mIn[33], line 24\u001b[1;36m\u001b[0m\n\u001b[1;33m    def __\u001b[0m\n\u001b[1;37m          ^\u001b[0m\n\u001b[1;31mSyntaxError\u001b[0m\u001b[1;31m:\u001b[0m invalid syntax\n"
     ]
    }
   ],
   "source": [
    "from typing import Any\n",
    "\n",
    "\n",
    "class A: \n",
    "    # 인스턴스를 생성해주는 메서드\n",
    "    def __init__(self,num,loc):\n",
    "        self.num=num    # 인스턴스 속성\n",
    "        self.loc=loc    # 인스턴스 속성\n",
    "        print('__init__()')\n",
    "\n",
    "    # 연산자(+,-,*,/,//,%,**)기능과 연결된 매직 메서드\n",
    "    def __add__(self,other):\n",
    "        print('__add__()')\n",
    "        return self.num+other.num\n",
    "\n",
    "    def __mul__(self,other):\n",
    "        print('__mul__()')\n",
    "        return self.num*other\n",
    "\n",
    "    # 인스턴스 변수명으로 호출되는 메서드\n",
    "    def __call__(self,value):\n",
    "        print('__call__()')\n",
    "        \n",
    "    def __\n",
    "\n",
    "    # A클래스로 생성된 인스터스 전용의 메서드\n",
    "    def test(self,food):\n",
    "        print(self.loc, food)\n",
    "\n"
   ]
  },
  {
   "cell_type": "code",
   "execution_count": 34,
   "metadata": {},
   "outputs": [
    {
     "name": "stdout",
     "output_type": "stream",
     "text": [
      "__init__()\n",
      "__init__()\n",
      "대구\n",
      "대구 치맥\n",
      "None\n",
      "__add__()\n",
      "__call__()\n",
      "__init__()\n",
      "__call__()\n"
     ]
    }
   ],
   "source": [
    "# 인스턴스 생성 => A(10,'대구')\n",
    "\n",
    "a1 = A(10,'대구')\n",
    "a2 = A(100,'부산')\n",
    "\n",
    "print(a1.loc)\n",
    "print(a1.test('치맥'))\n",
    "\n",
    "a1+a2\n",
    "\n",
    "a1(20)\n",
    "\n",
    "A(5, '경주')(8888)"
   ]
  },
  {
   "cell_type": "code",
   "execution_count": 35,
   "metadata": {},
   "outputs": [
    {
     "name": "stdout",
     "output_type": "stream",
     "text": [
      "__mul__()\n"
     ]
    },
    {
     "data": {
      "text/plain": [
       "70"
      ]
     },
     "execution_count": 35,
     "metadata": {},
     "output_type": "execute_result"
    }
   ],
   "source": [
    "a1*7"
   ]
  },
  {
   "cell_type": "code",
   "execution_count": 36,
   "metadata": {},
   "outputs": [
    {
     "name": "stdout",
     "output_type": "stream",
     "text": [
      "(805, 767, 3)\n",
      "torch.Size([3, 40, 20])\n"
     ]
    }
   ],
   "source": [
    "#### v2.Resize()클래스 \n",
    "print(cv_img.shape)\n",
    "\n",
    "imgTS=v2.ToImage()(cv_img)\n",
    "imgTS2=v2.Resize(size=(100,300),interpolation=InterpolationMode.BILINEAR)(imgTS)\n",
    "\n",
    "print(imgTS2.shape)"
   ]
  },
  {
   "cell_type": "code",
   "execution_count": 38,
   "metadata": {},
   "outputs": [
    {
     "name": "stdout",
     "output_type": "stream",
     "text": [
      "(805, 767, 3)\n",
      "torch.Size([3, 230, 120])\n"
     ]
    }
   ],
   "source": [
    "#### v2.Resize()클래스 : 이미지에 진행할 여러가지 전처리를 하나로 묶음 처리 즉, pipeline 설정\n",
    "print(cv_img.shape)\n",
    "\n",
    "tras=v2.Compose(\n",
    "    [\n",
    "        v2.ToImage(),\n",
    "        v2.Resize(size=(230,120),interpolation=v2.InterpolationMode.BILINEAR)\n",
    "    ]\n",
    ")\n",
    "imgTS2=tras(cv_img)\n",
    " \n",
    "print(imgTS2.shape)"
   ]
  },
  {
   "cell_type": "code",
   "execution_count": null,
   "metadata": {},
   "outputs": [],
   "source": []
  },
  {
   "cell_type": "code",
   "execution_count": null,
   "metadata": {},
   "outputs": [],
   "source": []
  },
  {
   "cell_type": "markdown",
   "metadata": {},
   "source": [
    "- ndarray ===> Tensor <hr> "
   ]
  },
  {
   "cell_type": "code",
   "execution_count": 6,
   "metadata": {},
   "outputs": [
    {
     "name": "stdout",
     "output_type": "stream",
     "text": [
      "cvTensor1 : torch.Size([805, 767, 3]),3D\n",
      "cvTensor2 : torch.Size([3, 805, 767]),3D\n"
     ]
    }
   ],
   "source": [
    "# 일반적인 텐서 생성 [H, W, C]\n",
    "cvTensor1=torch.tensor(cv_img)\n",
    "print(f'cvTensor1 : {cvTensor1.shape},{cvTensor1.ndim}D')\n",
    "\n",
    "# 이미지용 텐서 생성 ==> 채널 순서/위치 자동 [C, H, W]\n",
    "cvTensor2= transforms.ToTensor()(cv_img)\n",
    "print(f'cvTensor2 : {cvTensor2.shape},{cvTensor2.ndim}D')"
   ]
  },
  {
   "cell_type": "code",
   "execution_count": 7,
   "metadata": {},
   "outputs": [
    {
     "name": "stdout",
     "output_type": "stream",
     "text": [
      "filTensor1 : torch.Size([805, 767, 4]),3D\n",
      "pilTensor3 : torch.Size([4, 805, 767]),3D\n"
     ]
    }
   ],
   "source": [
    "# 일반적인 텐서 생성[H, W, C]\n",
    "pilTensor1=torch.tensor(np.array(pil_img))\n",
    "print(f'filTensor1 : {pilTensor1.shape},{pilTensor1.ndim}D')\n",
    "\n",
    "# 이미지용 텐서 생성 ==> 채널 순서/위치 자동 [C, H, W]\n",
    "pilTensor3= transforms.ToTensor()(np.array(pil_img))\n",
    "print(f'pilTensor3 : {pilTensor3.shape},{pilTensor3.ndim}D')"
   ]
  },
  {
   "cell_type": "markdown",
   "metadata": {},
   "source": [
    "- Resize 이미지 크기 변경 <hr>"
   ]
  },
  {
   "cell_type": "code",
   "execution_count": 8,
   "metadata": {},
   "outputs": [
    {
     "ename": "NameError",
     "evalue": "name 'v2' is not defined",
     "output_type": "error",
     "traceback": [
      "\u001b[1;31m---------------------------------------------------------------------------\u001b[0m",
      "\u001b[1;31mNameError\u001b[0m                                 Traceback (most recent call last)",
      "Cell \u001b[1;32mIn[8], line 4\u001b[0m\n\u001b[0;32m      1\u001b[0m \u001b[38;5;66;03m#### v2.Resize() 클래스\u001b[39;00m\n\u001b[0;32m      2\u001b[0m \u001b[38;5;66;03m# img=> tnesor\u001b[39;00m\n\u001b[1;32m----> 4\u001b[0m \u001b[43mv2\u001b[49m\u001b[38;5;241m.\u001b[39mToTenser()\n\u001b[0;32m      5\u001b[0m v2\u001b[38;5;241m.\u001b[39mResize()\n",
      "\u001b[1;31mNameError\u001b[0m: name 'v2' is not defined"
     ]
    }
   ],
   "source": [
    "#### v2.Resize() 클래스\n",
    "# img=> tnesor\n",
    "\n",
    "v2.ToTenser()\n",
    "v2.Resize()"
   ]
  },
  {
   "cell_type": "markdown",
   "metadata": {},
   "source": []
  }
 ],
 "metadata": {
  "kernelspec": {
   "display_name": "TORCH_CV_38",
   "language": "python",
   "name": "python3"
  },
  "language_info": {
   "codemirror_mode": {
    "name": "ipython",
    "version": 3
   },
   "file_extension": ".py",
   "mimetype": "text/x-python",
   "name": "python",
   "nbconvert_exporter": "python",
   "pygments_lexer": "ipython3",
   "version": "3.8.19"
  }
 },
 "nbformat": 4,
 "nbformat_minor": 2
}
